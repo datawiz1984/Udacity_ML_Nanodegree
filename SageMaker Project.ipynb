{
 "cells": [
  {
   "cell_type": "markdown",
   "metadata": {},
   "source": [
    "# Creating a Sentiment Analysis Web App\n",
    "## Using PyTorch and SageMaker\n",
    "\n",
    "_Deep Learning Nanodegree Program | Deployment_\n",
    "\n",
    "---\n",
    "\n",
    "Now that we have a basic understanding of how SageMaker works we will try to use it to construct a complete project from end to end. Our goal will be to have a simple web page which a user can use to enter a movie review. The web page will then send the review off to our deployed model which will predict the sentiment of the entered review.\n",
    "\n",
    "## Instructions\n",
    "\n",
    "Some template code has already been provided for you, and you will need to implement additional functionality to successfully complete this notebook. You will not need to modify the included code beyond what is requested. Sections that begin with '**TODO**' in the header indicate that you need to complete or implement some portion within them. Instructions will be provided for each section and the specifics of the implementation are marked in the code block with a `# TODO: ...` comment. Please be sure to read the instructions carefully!\n",
    "\n",
    "In addition to implementing code, there will be questions for you to answer which relate to the task and your implementation. Each section where you will answer a question is preceded by a '**Question:**' header. Carefully read each question and provide your answer below the '**Answer:**' header by editing the Markdown cell.\n",
    "\n",
    "> **Note**: Code and Markdown cells can be executed using the **Shift+Enter** keyboard shortcut. In addition, a cell can be edited by typically clicking it (double-click for Markdown cells) or by pressing **Enter** while it is highlighted.\n",
    "\n",
    "## General Outline\n",
    "\n",
    "Recall the general outline for SageMaker projects using a notebook instance.\n",
    "\n",
    "1. Download or otherwise retrieve the data.\n",
    "2. Process / Prepare the data.\n",
    "3. Upload the processed data to S3.\n",
    "4. Train a chosen model.\n",
    "5. Test the trained model (typically using a batch transform job).\n",
    "6. Deploy the trained model.\n",
    "7. Use the deployed model.\n",
    "\n",
    "For this project, you will be following the steps in the general outline with some modifications. \n",
    "\n",
    "First, you will not be testing the model in its own step. You will still be testing the model, however, you will do it by deploying your model and then using the deployed model by sending the test data to it. One of the reasons for doing this is so that you can make sure that your deployed model is working correctly before moving forward.\n",
    "\n",
    "In addition, you will deploy and use your trained model a second time. In the second iteration you will customize the way that your trained model is deployed by including some of your own code. In addition, your newly deployed model will be used in the sentiment analysis web app."
   ]
  },
  {
   "cell_type": "markdown",
   "metadata": {},
   "source": [
    "## Step 1: Downloading the data\n",
    "\n",
    "As in the XGBoost in SageMaker notebook, we will be using the [IMDb dataset](http://ai.stanford.edu/~amaas/data/sentiment/)\n",
    "\n",
    "> Maas, Andrew L., et al. [Learning Word Vectors for Sentiment Analysis](http://ai.stanford.edu/~amaas/data/sentiment/). In _Proceedings of the 49th Annual Meeting of the Association for Computational Linguistics: Human Language Technologies_. Association for Computational Linguistics, 2011."
   ]
  },
  {
   "cell_type": "code",
   "execution_count": 4,
   "metadata": {},
   "outputs": [
    {
     "name": "stdout",
     "output_type": "stream",
     "text": [
      "mkdir: cannot create directory ‘../data’: File exists\n",
      "--2019-06-05 22:01:42--  http://ai.stanford.edu/~amaas/data/sentiment/aclImdb_v1.tar.gz\n",
      "Resolving ai.stanford.edu (ai.stanford.edu)... 171.64.68.10\n",
      "Connecting to ai.stanford.edu (ai.stanford.edu)|171.64.68.10|:80... connected.\n",
      "HTTP request sent, awaiting response... 200 OK\n",
      "Length: 84125825 (80M) [application/x-gzip]\n",
      "Saving to: ‘../data/aclImdb_v1.tar.gz’\n",
      "\n",
      "../data/aclImdb_v1. 100%[===================>]  80.23M  24.4MB/s    in 3.9s    \n",
      "\n",
      "2019-06-05 22:01:46 (20.5 MB/s) - ‘../data/aclImdb_v1.tar.gz’ saved [84125825/84125825]\n",
      "\n"
     ]
    }
   ],
   "source": [
    "%mkdir ../data\n",
    "!wget -O ../data/aclImdb_v1.tar.gz http://ai.stanford.edu/~amaas/data/sentiment/aclImdb_v1.tar.gz\n",
    "!tar -zxf ../data/aclImdb_v1.tar.gz -C ../data"
   ]
  },
  {
   "cell_type": "markdown",
   "metadata": {},
   "source": [
    "## Step 2: Preparing and Processing the data\n",
    "\n",
    "Also, as in the XGBoost notebook, we will be doing some initial data processing. The first few steps are the same as in the XGBoost example. To begin with, we will read in each of the reviews and combine them into a single input structure. Then, we will split the dataset into a training set and a testing set."
   ]
  },
  {
   "cell_type": "code",
   "execution_count": 5,
   "metadata": {},
   "outputs": [],
   "source": [
    "import os\n",
    "import glob\n",
    "\n",
    "def read_imdb_data(data_dir='../data/aclImdb'):\n",
    "    data = {}\n",
    "    labels = {}\n",
    "    \n",
    "    for data_type in ['train', 'test']:\n",
    "        data[data_type] = {}\n",
    "        labels[data_type] = {}\n",
    "        \n",
    "        for sentiment in ['pos', 'neg']:\n",
    "            data[data_type][sentiment] = []\n",
    "            labels[data_type][sentiment] = []\n",
    "            \n",
    "            path = os.path.join(data_dir, data_type, sentiment, '*.txt')\n",
    "            files = glob.glob(path)\n",
    "            \n",
    "            for f in files:\n",
    "                with open(f) as review:\n",
    "                    data[data_type][sentiment].append(review.read())\n",
    "                    # Here we represent a positive review by '1' and a negative review by '0'\n",
    "                    labels[data_type][sentiment].append(1 if sentiment == 'pos' else 0)\n",
    "                    \n",
    "            assert len(data[data_type][sentiment]) == len(labels[data_type][sentiment]), \\\n",
    "                    \"{}/{} data size does not match labels size\".format(data_type, sentiment)\n",
    "                \n",
    "    return data, labels"
   ]
  },
  {
   "cell_type": "code",
   "execution_count": 6,
   "metadata": {},
   "outputs": [
    {
     "name": "stdout",
     "output_type": "stream",
     "text": [
      "IMDB reviews: train = 12500 pos / 12500 neg, test = 12500 pos / 12500 neg\n"
     ]
    }
   ],
   "source": [
    "data, labels = read_imdb_data()\n",
    "print(\"IMDB reviews: train = {} pos / {} neg, test = {} pos / {} neg\".format(\n",
    "            len(data['train']['pos']), len(data['train']['neg']),\n",
    "            len(data['test']['pos']), len(data['test']['neg'])))"
   ]
  },
  {
   "cell_type": "markdown",
   "metadata": {},
   "source": [
    "Now that we've read the raw training and testing data from the downloaded dataset, we will combine the positive and negative reviews and shuffle the resulting records."
   ]
  },
  {
   "cell_type": "code",
   "execution_count": 7,
   "metadata": {},
   "outputs": [],
   "source": [
    "from sklearn.utils import shuffle\n",
    "\n",
    "def prepare_imdb_data(data, labels):\n",
    "    \"\"\"Prepare training and test sets from IMDb movie reviews.\"\"\"\n",
    "    \n",
    "    #Combine positive and negative reviews and labels\n",
    "    data_train = data['train']['pos'] + data['train']['neg']\n",
    "    data_test = data['test']['pos'] + data['test']['neg']\n",
    "    labels_train = labels['train']['pos'] + labels['train']['neg']\n",
    "    labels_test = labels['test']['pos'] + labels['test']['neg']\n",
    "    \n",
    "    #Shuffle reviews and corresponding labels within training and test sets\n",
    "    data_train, labels_train = shuffle(data_train, labels_train)\n",
    "    data_test, labels_test = shuffle(data_test, labels_test)\n",
    "    \n",
    "    # Return a unified training data, test data, training labels, test labets\n",
    "    return data_train, data_test, labels_train, labels_test"
   ]
  },
  {
   "cell_type": "code",
   "execution_count": 8,
   "metadata": {},
   "outputs": [
    {
     "name": "stdout",
     "output_type": "stream",
     "text": [
      "IMDb reviews (combined): train = 25000, test = 25000\n"
     ]
    }
   ],
   "source": [
    "train_X, test_X, train_y, test_y = prepare_imdb_data(data, labels)\n",
    "print(\"IMDb reviews (combined): train = {}, test = {}\".format(len(train_X), len(test_X)))"
   ]
  },
  {
   "cell_type": "markdown",
   "metadata": {},
   "source": [
    "Now that we have our training and testing sets unified and prepared, we should do a quick check and see an example of the data our model will be trained on. This is generally a good idea as it allows you to see how each of the further processing steps affects the reviews and it also ensures that the data has been loaded correctly."
   ]
  },
  {
   "cell_type": "code",
   "execution_count": 9,
   "metadata": {},
   "outputs": [
    {
     "name": "stdout",
     "output_type": "stream",
     "text": [
      "Words are seriously not enough convey the emotional power of this film; it's one of the most wrenching you'll ever see, yet the ending is one of the most loving, tender, and emotionally fulfilling you could hope for. Every actor in every role is terrific, especially a wise and understated Jamie Lee Curtis, a tightly wound and anguished Ray Liotta, and a heart-stopping turn from Tom Hulce that should have had him up for every award in the book. (He's the #1 pick for 1988's Best Actor in Danny Peary's \"Alternate Oscars.\") The last half hour borders on melodrama, but the film earns every one of its tears--and unless you're made of stone, there will be plenty of them.\n",
      "1\n"
     ]
    }
   ],
   "source": [
    "print(train_X[100])\n",
    "print(train_y[100])"
   ]
  },
  {
   "cell_type": "markdown",
   "metadata": {},
   "source": [
    "The first step in processing the reviews is to make sure that any html tags that appear should be removed. In addition we wish to tokenize our input, that way words such as *entertained* and *entertaining* are considered the same with regard to sentiment analysis."
   ]
  },
  {
   "cell_type": "code",
   "execution_count": 10,
   "metadata": {},
   "outputs": [],
   "source": [
    "import nltk\n",
    "from nltk.corpus import stopwords\n",
    "from nltk.stem.porter import *\n",
    "\n",
    "import re\n",
    "from bs4 import BeautifulSoup\n",
    "\n",
    "def review_to_words(review):\n",
    "    nltk.download(\"stopwords\", quiet=True)\n",
    "    stemmer = PorterStemmer()\n",
    "    \n",
    "    text = BeautifulSoup(review, \"html.parser\").get_text() # Remove HTML tags\n",
    "    text = re.sub(r\"[^a-zA-Z0-9]\", \" \", text.lower()) # Convert to lower case\n",
    "    words = text.split() # Split string into words\n",
    "    words = [w for w in words if w not in stopwords.words(\"english\")] # Remove stopwords\n",
    "    words = [PorterStemmer().stem(w) for w in words] # stem\n",
    "    \n",
    "    return words"
   ]
  },
  {
   "cell_type": "markdown",
   "metadata": {},
   "source": [
    "The `review_to_words` method defined above uses `BeautifulSoup` to remove any html tags that appear and uses the `nltk` package to tokenize the reviews. As a check to ensure we know how everything is working, try applying `review_to_words` to one of the reviews in the training set."
   ]
  },
  {
   "cell_type": "code",
   "execution_count": 11,
   "metadata": {},
   "outputs": [
    {
     "data": {
      "text/plain": [
       "['word',\n",
       " 'serious',\n",
       " 'enough',\n",
       " 'convey',\n",
       " 'emot',\n",
       " 'power',\n",
       " 'film',\n",
       " 'one',\n",
       " 'wrench',\n",
       " 'ever',\n",
       " 'see',\n",
       " 'yet',\n",
       " 'end',\n",
       " 'one',\n",
       " 'love',\n",
       " 'tender',\n",
       " 'emot',\n",
       " 'fulfil',\n",
       " 'could',\n",
       " 'hope',\n",
       " 'everi',\n",
       " 'actor',\n",
       " 'everi',\n",
       " 'role',\n",
       " 'terrif',\n",
       " 'especi',\n",
       " 'wise',\n",
       " 'underst',\n",
       " 'jami',\n",
       " 'lee',\n",
       " 'curti',\n",
       " 'tightli',\n",
       " 'wound',\n",
       " 'anguish',\n",
       " 'ray',\n",
       " 'liotta',\n",
       " 'heart',\n",
       " 'stop',\n",
       " 'turn',\n",
       " 'tom',\n",
       " 'hulc',\n",
       " 'everi',\n",
       " 'award',\n",
       " 'book',\n",
       " '1',\n",
       " 'pick',\n",
       " '1988',\n",
       " 'best',\n",
       " 'actor',\n",
       " 'danni',\n",
       " 'peari',\n",
       " 'altern',\n",
       " 'oscar',\n",
       " 'last',\n",
       " 'half',\n",
       " 'hour',\n",
       " 'border',\n",
       " 'melodrama',\n",
       " 'film',\n",
       " 'earn',\n",
       " 'everi',\n",
       " 'one',\n",
       " 'tear',\n",
       " 'unless',\n",
       " 'made',\n",
       " 'stone',\n",
       " 'plenti']"
      ]
     },
     "execution_count": 11,
     "metadata": {},
     "output_type": "execute_result"
    }
   ],
   "source": [
    "# TODO: Apply review_to_words to a review (train_X[100] or any other review)\n",
    "review_to_words(train_X[100])"
   ]
  },
  {
   "cell_type": "markdown",
   "metadata": {},
   "source": [
    "**Question:** Above we mentioned that `review_to_words` method removes html formatting and allows us to tokenize the words found in a review, for example, converting *entertained* and *entertaining* into *entertain* so that they are treated as though they are the same word. What else, if anything, does this method do to the input?"
   ]
  },
  {
   "cell_type": "markdown",
   "metadata": {},
   "source": [
    "**Answer:**In addition to the actions above, the review_to_words method also do the following:\n",
    "\n",
    "1. It converts all letters to lower case to avoid duplication of words entered in different case using the line:\n",
    "text = re.sub(r\"[^a-zA-Z0-9]\", \" \", text.lower())\n",
    "\n",
    "2. Uses the ntlk library to filter stop words like 'is', 'and' out from the tokenised list of words. This was acheived using the line of code:\n",
    "\n",
    " words = [w for w in words if w not in stopwords.words(\"english\")] # Remove stopwords\n",
    "\n",
    "3. It uses the PorterStemmer() object to stem all the words. which is a process of removing the commoner morphological and inflexional endings from words in English. for example; converting entertaining to entertain. This was acheived through the line of code:\n",
    "words = [PorterStemmer().stem(w) for w in words] # stem\n"
   ]
  },
  {
   "cell_type": "markdown",
   "metadata": {},
   "source": [
    "The method below applies the `review_to_words` method to each of the reviews in the training and testing datasets. In addition it caches the results. This is because performing this processing step can take a long time. This way if you are unable to complete the notebook in the current session, you can come back without needing to process the data a second time."
   ]
  },
  {
   "cell_type": "code",
   "execution_count": 12,
   "metadata": {},
   "outputs": [],
   "source": [
    "import pickle\n",
    "\n",
    "cache_dir = os.path.join(\"../cache\", \"sentiment_analysis\")  # where to store cache files\n",
    "os.makedirs(cache_dir, exist_ok=True)  # ensure cache directory exists\n",
    "\n",
    "def preprocess_data(data_train, data_test, labels_train, labels_test,\n",
    "                    cache_dir=cache_dir, cache_file=\"preprocessed_data.pkl\"):\n",
    "    \"\"\"Convert each review to words; read from cache if available.\"\"\"\n",
    "\n",
    "    # If cache_file is not None, try to read from it first\n",
    "    cache_data = None\n",
    "    if cache_file is not None:\n",
    "        try:\n",
    "            with open(os.path.join(cache_dir, cache_file), \"rb\") as f:\n",
    "                cache_data = pickle.load(f)\n",
    "            print(\"Read preprocessed data from cache file:\", cache_file)\n",
    "        except:\n",
    "            pass  # unable to read from cache, but that's okay\n",
    "    \n",
    "    # If cache is missing, then do the heavy lifting\n",
    "    if cache_data is None:\n",
    "        # Preprocess training and test data to obtain words for each review\n",
    "        #words_train = list(map(review_to_words, data_train))\n",
    "        #words_test = list(map(review_to_words, data_test))\n",
    "        words_train = [review_to_words(review) for review in data_train]\n",
    "        words_test = [review_to_words(review) for review in data_test]\n",
    "        \n",
    "        # Write to cache file for future runs\n",
    "        if cache_file is not None:\n",
    "            cache_data = dict(words_train=words_train, words_test=words_test,\n",
    "                              labels_train=labels_train, labels_test=labels_test)\n",
    "            with open(os.path.join(cache_dir, cache_file), \"wb\") as f:\n",
    "                pickle.dump(cache_data, f)\n",
    "            print(\"Wrote preprocessed data to cache file:\", cache_file)\n",
    "    else:\n",
    "        # Unpack data loaded from cache file\n",
    "        words_train, words_test, labels_train, labels_test = (cache_data['words_train'],\n",
    "                cache_data['words_test'], cache_data['labels_train'], cache_data['labels_test'])\n",
    "    \n",
    "    return words_train, words_test, labels_train, labels_test"
   ]
  },
  {
   "cell_type": "code",
   "execution_count": 13,
   "metadata": {},
   "outputs": [
    {
     "name": "stdout",
     "output_type": "stream",
     "text": [
      "Read preprocessed data from cache file: preprocessed_data.pkl\n"
     ]
    },
    {
     "data": {
      "text/plain": [
       "['true',\n",
       " 'stori',\n",
       " 'late',\n",
       " 'monster',\n",
       " 'appear',\n",
       " 'american',\n",
       " 'industri',\n",
       " 'plant',\n",
       " 'begin',\n",
       " 'pollut',\n",
       " 'water',\n",
       " 'amus',\n",
       " 'though',\n",
       " 'realli',\n",
       " 'good',\n",
       " 'monster',\n",
       " 'film',\n",
       " 'lot',\n",
       " 'peopl',\n",
       " 'tri',\n",
       " 'get',\n",
       " 'monster',\n",
       " 'find',\n",
       " 'what',\n",
       " 'go',\n",
       " 'complet',\n",
       " 'involv',\n",
       " 'way',\n",
       " 'give',\n",
       " 'point',\n",
       " 'give',\n",
       " 'us',\n",
       " 'giant',\n",
       " 'monster',\n",
       " 'clearli',\n",
       " 'built',\n",
       " 'scale',\n",
       " 'scene',\n",
       " 'take',\n",
       " 'away',\n",
       " 'look',\n",
       " 'like',\n",
       " 'non',\n",
       " 'threaten',\n",
       " 'puppi',\n",
       " 'amus',\n",
       " 'exploit',\n",
       " 'film',\n",
       " 'that',\n",
       " 'enjoy',\n",
       " 'silli',\n",
       " 'right',\n",
       " 'frame',\n",
       " 'mind',\n",
       " 'one',\n",
       " 'complaint',\n",
       " 'print',\n",
       " 'use',\n",
       " 'elvira',\n",
       " 'releas',\n",
       " 'poor',\n",
       " 'look',\n",
       " 'like',\n",
       " 'well',\n",
       " 'worn',\n",
       " 'video',\n",
       " 'tape',\n",
       " 'copi',\n",
       " 'past',\n",
       " 'prime',\n",
       " '20',\n",
       " 'year',\n",
       " 'ago']"
      ]
     },
     "execution_count": 13,
     "metadata": {},
     "output_type": "execute_result"
    }
   ],
   "source": [
    "# Preprocess data\n",
    "train_X, test_X, train_y, test_y = preprocess_data(train_X, test_X, train_y, test_y)\n",
    "train_X[100]"
   ]
  },
  {
   "cell_type": "markdown",
   "metadata": {},
   "source": [
    "## Transform the data\n",
    "\n",
    "In the XGBoost notebook we transformed the data from its word representation to a bag-of-words feature representation. For the model we are going to construct in this notebook we will construct a feature representation which is very similar. To start, we will represent each word as an integer. Of course, some of the words that appear in the reviews occur very infrequently and so likely don't contain much information for the purposes of sentiment analysis. The way we will deal with this problem is that we will fix the size of our working vocabulary and we will only include the words that appear most frequently. We will then combine all of the infrequent words into a single category and, in our case, we will label it as `1`.\n",
    "\n",
    "Since we will be using a recurrent neural network, it will be convenient if the length of each review is the same. To do this, we will fix a size for our reviews and then pad short reviews with the category 'no word' (which we will label `0`) and truncate long reviews."
   ]
  },
  {
   "cell_type": "markdown",
   "metadata": {},
   "source": [
    "### (TODO) Create a word dictionary\n",
    "\n",
    "To begin with, we need to construct a way to map words that appear in the reviews to integers. Here we fix the size of our vocabulary (including the 'no word' and 'infrequent' categories) to be `5000` but you may wish to change this to see how it affects the model.\n",
    "\n",
    "> **TODO:** Complete the implementation for the `build_dict()` method below. Note that even though the vocab_size is set to `5000`, we only want to construct a mapping for the most frequently appearing `4998` words. This is because we want to reserve the special labels `0` for 'no word' and `1` for 'infrequent word'."
   ]
  },
  {
   "cell_type": "code",
   "execution_count": 14,
   "metadata": {},
   "outputs": [],
   "source": [
    "import numpy as np\n",
    "from sklearn.feature_extraction.text import CountVectorizer\n",
    "from sklearn.externals import joblib\n",
    "\n",
    "\n",
    "from sklearn.feature_extraction.text import CountVectorizer\n",
    "\n",
    "def build_dict(data, vocab_size = 5000):\n",
    "    \"\"\"Construct and return a dictionary mapping each of the most frequently appearing words to a unique integer.\"\"\"\n",
    "    cache_dir = os.path.join(\"../cache\", \"sentiment_analysis\")  # where to store cache files\n",
    "    cache_file=\"words_count.pkl\"\n",
    " # If cache_file is not None, try to read from it first\n",
    "    cache_data = None\n",
    "    if cache_file is not None:\n",
    "        try:\n",
    "            with open(os.path.join(cache_dir, cache_file), \"rb\") as f:\n",
    "                cache_data = joblib.load(f)\n",
    "            print(\"Read words dictionary from cache file:\", cache_file)\n",
    "        except:\n",
    "            pass  # unable to read from cache, but that's okay\n",
    "    \n",
    "# If cache is missing, then do the heavy lifting\n",
    "    \n",
    "    if cache_data is None:\n",
    "        word_count = {}\n",
    "        for tokens in data:\n",
    "            for token in tokens:\n",
    "                if token in word_count:\n",
    "                    word_count[token] +=1\n",
    "                else:\n",
    "                    word_count[token] = 1\n",
    "        sorted_words = [entry[0] for entry in sorted(word_count.items(), key=lambda x: x[1], reverse=True)]\n",
    "        word_dict = {} # This is what we are building, a dictionary that translates words into integers\n",
    "        for idx, word in enumerate(sorted_words[:vocab_size - 2]): # The -2 is so that we save room for the 'no word'\n",
    "            word_dict[word] = idx + 2                              # 'infrequent' labels\n",
    "        \n",
    "        if cache_file is not None:\n",
    "            cache_data = word_dict\n",
    "            with open(os.path.join(cache_dir, cache_file), \"wb\") as f:\n",
    "                joblib.dump(cache_data, f)\n",
    "            print(\"Wrote word dictionary to cache file:\", cache_file)\n",
    "    else:\n",
    "        # Unpack data loaded from cache file\n",
    "        word_dict = cache_data\n",
    "    return word_dict\n",
    "\n"
   ]
  },
  {
   "cell_type": "code",
   "execution_count": 15,
   "metadata": {},
   "outputs": [
    {
     "name": "stdout",
     "output_type": "stream",
     "text": [
      "Read words dictionary from cache file: words_count.pkl\n",
      "{'movi': 2, 'film': 3, 'one': 4, 'like': 5, 'time': 6, 'good': 7, 'make': 8, 'charact': 9, 'get': 10, 'see': 11, 'watch': 12, 'stori': 13, 'even': 14, 'would': 15, 'realli': 16, 'well': 17, 'scene': 18, 'look': 19, 'show': 20, 'much': 21, 'end': 22, 'peopl': 23, 'bad': 24, 'go': 25, 'great': 26, 'also': 27, 'first': 28, 'love': 29, 'think': 30, 'way': 31, 'act': 32, 'play': 33, 'made': 34, 'thing': 35, 'could': 36, 'know': 37, 'say': 38, 'seem': 39, 'work': 40, 'plot': 41, 'two': 42, 'actor': 43, 'year': 44, 'come': 45, 'mani': 46, 'seen': 47, 'take': 48, 'life': 49, 'want': 50, 'never': 51, 'littl': 52, 'best': 53, 'tri': 54, 'man': 55, 'ever': 56, 'give': 57, 'better': 58, 'still': 59, 'perform': 60, 'find': 61, 'feel': 62, 'part': 63, 'back': 64, 'use': 65, 'someth': 66, 'director': 67, 'actual': 68, 'interest': 69, 'lot': 70, 'real': 71, 'old': 72, 'cast': 73, 'though': 74, 'live': 75, 'star': 76, 'enjoy': 77, 'guy': 78, 'anoth': 79, 'new': 80, 'role': 81, 'noth': 82, '10': 83, 'funni': 84, 'music': 85, 'point': 86, 'start': 87, 'set': 88, 'girl': 89, 'origin': 90, 'day': 91, 'world': 92, 'everi': 93, 'believ': 94, 'turn': 95, 'quit': 96, 'us': 97, 'direct': 98, 'thought': 99, 'fact': 100, 'minut': 101, 'horror': 102, 'kill': 103, 'action': 104, 'comedi': 105, 'pretti': 106, 'young': 107, 'wonder': 108, 'happen': 109, 'around': 110, 'got': 111, 'effect': 112, 'right': 113, 'long': 114, 'howev': 115, 'big': 116, 'line': 117, 'famili': 118, 'enough': 119, 'seri': 120, 'may': 121, 'need': 122, 'fan': 123, 'bit': 124, 'script': 125, 'beauti': 126, 'person': 127, 'becom': 128, 'without': 129, 'must': 130, 'alway': 131, 'friend': 132, 'tell': 133, 'reason': 134, 'saw': 135, 'last': 136, 'final': 137, 'kid': 138, 'almost': 139, 'put': 140, 'least': 141, 'sure': 142, 'done': 143, 'whole': 144, 'place': 145, 'complet': 146, 'kind': 147, 'differ': 148, 'expect': 149, 'shot': 150, 'far': 151, 'mean': 152, 'anyth': 153, 'book': 154, 'laugh': 155, 'might': 156, 'name': 157, 'sinc': 158, 'begin': 159, '2': 160, 'probabl': 161, 'woman': 162, 'help': 163, 'entertain': 164, 'let': 165, 'screen': 166, 'call': 167, 'tv': 168, 'moment': 169, 'away': 170, 'read': 171, 'yet': 172, 'rather': 173, 'worst': 174, 'run': 175, 'fun': 176, 'lead': 177, 'hard': 178, 'audienc': 179, 'idea': 180, 'anyon': 181, 'episod': 182, 'american': 183, 'found': 184, 'appear': 185, 'bore': 186, 'especi': 187, 'although': 188, 'hope': 189, 'cours': 190, 'keep': 191, 'anim': 192, 'job': 193, 'goe': 194, 'move': 195, 'sens': 196, 'version': 197, 'dvd': 198, 'war': 199, 'money': 200, 'someon': 201, 'mind': 202, 'mayb': 203, 'problem': 204, 'true': 205, 'hous': 206, 'everyth': 207, 'nice': 208, 'second': 209, 'rate': 210, 'three': 211, 'night': 212, 'face': 213, 'follow': 214, 'recommend': 215, 'main': 216, 'product': 217, 'worth': 218, 'leav': 219, 'human': 220, 'special': 221, 'excel': 222, 'togeth': 223, 'wast': 224, 'sound': 225, 'everyon': 226, 'john': 227, 'hand': 228, '1': 229, 'father': 230, 'later': 231, 'eye': 232, 'said': 233, 'view': 234, 'instead': 235, 'review': 236, 'boy': 237, 'high': 238, 'hour': 239, 'miss': 240, 'talk': 241, 'classic': 242, 'wife': 243, 'understand': 244, 'left': 245, 'care': 246, 'black': 247, 'death': 248, 'open': 249, 'murder': 250, 'write': 251, 'half': 252, 'head': 253, 'rememb': 254, 'chang': 255, 'viewer': 256, 'fight': 257, 'gener': 258, 'surpris': 259, 'includ': 260, 'short': 261, 'die': 262, 'fall': 263, 'less': 264, 'els': 265, 'entir': 266, 'piec': 267, 'involv': 268, 'pictur': 269, 'simpli': 270, 'power': 271, 'home': 272, 'top': 273, 'total': 274, 'usual': 275, 'budget': 276, 'attempt': 277, 'suppos': 278, 'releas': 279, 'hollywood': 280, 'terribl': 281, 'song': 282, 'men': 283, 'possibl': 284, 'featur': 285, 'portray': 286, 'disappoint': 287, 'poor': 288, '3': 289, 'coupl': 290, 'stupid': 291, 'camera': 292, 'dead': 293, 'wrong': 294, 'produc': 295, 'low': 296, 'video': 297, 'either': 298, 'aw': 299, 'definit': 300, 'except': 301, 'rest': 302, 'given': 303, 'absolut': 304, 'women': 305, 'lack': 306, 'word': 307, 'writer': 308, 'titl': 309, 'talent': 310, 'decid': 311, 'full': 312, 'perfect': 313, 'along': 314, 'style': 315, 'close': 316, 'truli': 317, 'school': 318, 'save': 319, 'emot': 320, 'age': 321, 'sex': 322, 'next': 323, 'bring': 324, 'mr': 325, 'case': 326, 'killer': 327, 'heart': 328, 'comment': 329, 'sort': 330, 'creat': 331, 'perhap': 332, 'came': 333, 'brother': 334, 'sever': 335, 'joke': 336, 'art': 337, 'dialogu': 338, 'game': 339, 'small': 340, 'base': 341, 'flick': 342, 'written': 343, 'sequenc': 344, 'meet': 345, 'earli': 346, 'often': 347, 'other': 348, 'mother': 349, 'develop': 350, 'humor': 351, 'actress': 352, 'consid': 353, 'dark': 354, 'guess': 355, 'amaz': 356, 'unfortun': 357, 'lost': 358, 'light': 359, 'exampl': 360, 'cinema': 361, 'drama': 362, 'ye': 363, 'white': 364, 'experi': 365, 'imagin': 366, 'mention': 367, 'stop': 368, 'natur': 369, 'forc': 370, 'manag': 371, 'felt': 372, 'present': 373, 'cut': 374, 'children': 375, 'fail': 376, 'son': 377, 'car': 378, 'qualiti': 379, 'support': 380, 'ask': 381, 'hit': 382, 'side': 383, 'voic': 384, 'extrem': 385, 'impress': 386, 'evil': 387, 'wors': 388, 'went': 389, 'stand': 390, 'certainli': 391, 'basic': 392, 'oh': 393, 'overal': 394, 'favorit': 395, 'horribl': 396, 'mysteri': 397, 'number': 398, 'type': 399, 'danc': 400, 'wait': 401, 'hero': 402, 'alreadi': 403, '5': 404, 'learn': 405, 'matter': 406, '4': 407, 'michael': 408, 'genr': 409, 'fine': 410, 'despit': 411, 'throughout': 412, 'walk': 413, 'success': 414, 'histori': 415, 'question': 416, 'zombi': 417, 'town': 418, 'relationship': 419, 'realiz': 420, 'past': 421, 'child': 422, 'daughter': 423, 'late': 424, 'b': 425, 'wish': 426, 'hate': 427, 'credit': 428, 'event': 429, 'theme': 430, 'touch': 431, 'citi': 432, 'today': 433, 'sometim': 434, 'behind': 435, 'god': 436, 'twist': 437, 'sit': 438, 'deal': 439, 'annoy': 440, 'stay': 441, 'abl': 442, 'rent': 443, 'pleas': 444, 'edit': 445, 'blood': 446, 'deserv': 447, 'anyway': 448, 'comic': 449, 'appar': 450, 'soon': 451, 'gave': 452, 'etc': 453, 'level': 454, 'slow': 455, 'chanc': 456, 'score': 457, 'bodi': 458, 'brilliant': 459, 'incred': 460, 'figur': 461, 'situat': 462, 'self': 463, 'major': 464, 'stuff': 465, 'decent': 466, 'element': 467, 'return': 468, 'dream': 469, 'obvious': 470, 'continu': 471, 'order': 472, 'pace': 473, 'ridicul': 474, 'happi': 475, 'highli': 476, 'add': 477, 'group': 478, 'thank': 479, 'ladi': 480, 'novel': 481, 'pain': 482, 'speak': 483, 'career': 484, 'shoot': 485, 'strang': 486, 'heard': 487, 'sad': 488, 'polic': 489, 'husband': 490, 'import': 491, 'break': 492, 'took': 493, 'strong': 494, 'cannot': 495, 'robert': 496, 'predict': 497, 'violenc': 498, 'hilari': 499, 'recent': 500, 'countri': 501, 'known': 502, 'particularli': 503, 'pick': 504, 'documentari': 505, 'season': 506, 'critic': 507, 'jame': 508, 'compar': 509, 'alon': 510, 'obviou': 511, 'told': 512, 'state': 513, 'visual': 514, 'rock': 515, 'theater': 516, 'offer': 517, 'exist': 518, 'opinion': 519, 'gore': 520, 'hold': 521, 'crap': 522, 'result': 523, 'room': 524, 'hear': 525, 'realiti': 526, 'clich': 527, 'effort': 528, 'thriller': 529, 'caus': 530, 'explain': 531, 'sequel': 532, 'serious': 533, 'king': 534, 'local': 535, 'ago': 536, 'none': 537, 'hell': 538, 'note': 539, 'allow': 540, 'david': 541, 'sister': 542, 'simpl': 543, 'femal': 544, 'deliv': 545, 'ok': 546, 'convinc': 547, 'class': 548, 'check': 549, 'suspens': 550, 'win': 551, 'buy': 552, 'oscar': 553, 'huge': 554, 'valu': 555, 'sexual': 556, 'scari': 557, 'cool': 558, 'excit': 559, 'similar': 560, 'apart': 561, 'provid': 562, 'exactli': 563, 'avoid': 564, 'shown': 565, 'seriou': 566, 'english': 567, 'taken': 568, 'whose': 569, 'cinematographi': 570, 'shock': 571, 'polit': 572, 'spoiler': 573, 'offic': 574, 'across': 575, 'middl': 576, 'street': 577, 'pass': 578, 'messag': 579, 'somewhat': 580, 'silli': 581, 'charm': 582, 'modern': 583, 'filmmak': 584, 'confus': 585, 'form': 586, 'tale': 587, 'singl': 588, 'jack': 589, 'mostli': 590, 'william': 591, 'attent': 592, 'carri': 593, 'sing': 594, 'subject': 595, 'five': 596, 'prove': 597, 'richard': 598, 'team': 599, 'stage': 600, 'cop': 601, 'unlik': 602, 'georg': 603, 'televis': 604, 'monster': 605, 'earth': 606, 'villain': 607, 'cover': 608, 'pay': 609, 'marri': 610, 'toward': 611, 'build': 612, 'pull': 613, 'parent': 614, 'due': 615, 'fill': 616, 'respect': 617, 'four': 618, 'dialog': 619, 'remind': 620, 'futur': 621, 'weak': 622, 'typic': 623, '7': 624, 'cheap': 625, 'intellig': 626, 'atmospher': 627, 'british': 628, '80': 629, 'clearli': 630, 'paul': 631, 'non': 632, 'dog': 633, '8': 634, 'fast': 635, 'knew': 636, 'artist': 637, 'crime': 638, 'easili': 639, 'escap': 640, 'adult': 641, 'doubt': 642, 'detail': 643, 'date': 644, 'romant': 645, 'fire': 646, 'member': 647, 'drive': 648, 'gun': 649, 'straight': 650, 'beyond': 651, 'fit': 652, 'attack': 653, 'imag': 654, 'upon': 655, 'posit': 656, 'whether': 657, 'fantast': 658, 'peter': 659, 'aspect': 660, 'appreci': 661, 'captur': 662, 'ten': 663, 'plan': 664, 'discov': 665, 'remain': 666, 'near': 667, 'period': 668, 'realist': 669, 'air': 670, 'mark': 671, 'red': 672, 'dull': 673, 'adapt': 674, 'within': 675, 'lose': 676, 'spend': 677, 'color': 678, 'materi': 679, 'chase': 680, 'mari': 681, 'storylin': 682, 'forget': 683, 'bunch': 684, 'clear': 685, 'lee': 686, 'victim': 687, 'nearli': 688, 'box': 689, 'york': 690, 'match': 691, 'inspir': 692, 'mess': 693, 'finish': 694, 'standard': 695, 'easi': 696, 'truth': 697, 'suffer': 698, 'busi': 699, 'bill': 700, 'dramat': 701, 'space': 702, 'western': 703, 'e': 704, 'list': 705, 'battl': 706, 'notic': 707, 'de': 708, 'french': 709, 'ad': 710, '9': 711, 'tom': 712, 'larg': 713, 'among': 714, 'eventu': 715, 'accept': 716, 'train': 717, 'agre': 718, 'spirit': 719, 'soundtrack': 720, 'third': 721, 'teenag': 722, 'soldier': 723, 'adventur': 724, 'sorri': 725, 'famou': 726, 'suggest': 727, 'drug': 728, 'babi': 729, 'cri': 730, 'normal': 731, 'ultim': 732, 'troubl': 733, 'contain': 734, 'certain': 735, 'cultur': 736, 'romanc': 737, 'rare': 738, 'lame': 739, 'somehow': 740, 'disney': 741, 'mix': 742, 'gone': 743, 'cartoon': 744, 'student': 745, 'reveal': 746, 'fear': 747, 'kept': 748, 'suck': 749, 'attract': 750, 'appeal': 751, 'premis': 752, 'secret': 753, 'greatest': 754, 'design': 755, 'shame': 756, 'throw': 757, 'copi': 758, 'scare': 759, 'wit': 760, 'admit': 761, 'america': 762, 'brought': 763, 'relat': 764, 'particular': 765, 'screenplay': 766, 'whatev': 767, 'pure': 768, '70': 769, 'averag': 770, 'harri': 771, 'master': 772, 'describ': 773, 'male': 774, 'treat': 775, '20': 776, 'fantasi': 777, 'issu': 778, 'warn': 779, 'inde': 780, 'forward': 781, 'background': 782, 'free': 783, 'project': 784, 'japanes': 785, 'memor': 786, 'poorli': 787, 'award': 788, 'locat': 789, 'potenti': 790, 'amus': 791, 'struggl': 792, 'weird': 793, 'magic': 794, 'societi': 795, 'okay': 796, 'imdb': 797, 'accent': 798, 'doctor': 799, 'hot': 800, 'water': 801, '30': 802, 'alien': 803, 'dr': 804, 'express': 805, 'odd': 806, 'choic': 807, 'crazi': 808, 'studio': 809, 'fiction': 810, 'control': 811, 'becam': 812, 'masterpiec': 813, 'difficult': 814, 'fli': 815, 'joe': 816, 'scream': 817, 'costum': 818, 'lover': 819, 'uniqu': 820, 'refer': 821, 'remak': 822, 'vampir': 823, 'girlfriend': 824, 'prison': 825, 'execut': 826, 'wear': 827, 'jump': 828, 'unless': 829, 'wood': 830, 'creepi': 831, 'cheesi': 832, 'superb': 833, 'otherwis': 834, 'parti': 835, 'ghost': 836, 'roll': 837, 'public': 838, 'mad': 839, 'depict': 840, 'earlier': 841, 'badli': 842, 'week': 843, 'jane': 844, 'moral': 845, 'fi': 846, 'dumb': 847, 'grow': 848, 'flaw': 849, 'sci': 850, 'deep': 851, 'maker': 852, 'cat': 853, 'connect': 854, 'older': 855, 'footag': 856, 'bother': 857, 'plenti': 858, 'outsid': 859, 'stick': 860, 'gay': 861, 'catch': 862, 'co': 863, 'plu': 864, 'popular': 865, 'equal': 866, 'social': 867, 'disturb': 868, 'quickli': 869, 'perfectli': 870, 'dress': 871, '90': 872, 'era': 873, 'mistak': 874, 'lie': 875, 'previou': 876, 'ride': 877, 'combin': 878, 'concept': 879, 'band': 880, 'rich': 881, 'answer': 882, 'surviv': 883, 'front': 884, 'sweet': 885, 'christma': 886, 'insid': 887, 'bare': 888, 'eat': 889, 'concern': 890, 'beat': 891, 'listen': 892, 'ben': 893, 'c': 894, 'term': 895, 'serv': 896, 'german': 897, 'la': 898, 'meant': 899, 'stereotyp': 900, 'hardli': 901, 'law': 902, 'innoc': 903, 'desper': 904, 'memori': 905, 'promis': 906, 'cute': 907, 'intent': 908, 'inform': 909, 'steal': 910, 'variou': 911, 'brain': 912, 'post': 913, 'tone': 914, 'island': 915, 'amount': 916, 'track': 917, 'nuditi': 918, 'compani': 919, 'claim': 920, 'store': 921, 'flat': 922, 'hair': 923, '50': 924, 'univers': 925, 'land': 926, 'scott': 927, 'kick': 928, 'fairli': 929, 'danger': 930, 'player': 931, 'plain': 932, 'crew': 933, 'step': 934, 'toni': 935, 'share': 936, 'tast': 937, 'centuri': 938, 'engag': 939, 'achiev': 940, 'travel': 941, 'cold': 942, 'record': 943, 'suit': 944, 'rip': 945, 'sadli': 946, 'manner': 947, 'spot': 948, 'wrote': 949, 'tension': 950, 'intens': 951, 'fascin': 952, 'familiar': 953, 'depth': 954, 'burn': 955, 'remark': 956, 'histor': 957, 'destroy': 958, 'sleep': 959, 'purpos': 960, 'languag': 961, 'ignor': 962, 'ruin': 963, 'delight': 964, 'unbeliev': 965, 'italian': 966, 'collect': 967, 'soul': 968, 'abil': 969, 'detect': 970, 'clever': 971, 'violent': 972, 'rape': 973, 'reach': 974, 'door': 975, 'trash': 976, 'scienc': 977, 'liter': 978, 'reveng': 979, 'caught': 980, 'commun': 981, 'creatur': 982, 'approach': 983, 'trip': 984, 'fashion': 985, 'intrigu': 986, 'skill': 987, 'paint': 988, 'introduc': 989, 'channel': 990, 'complex': 991, 'camp': 992, 'christian': 993, 'hole': 994, 'extra': 995, 'mental': 996, 'immedi': 997, 'ann': 998, 'limit': 999, 'slightli': 1000, 'million': 1001, 'mere': 1002, '6': 1003, 'comput': 1004, 'conclus': 1005, 'slasher': 1006, 'imposs': 1007, 'suddenli': 1008, 'neither': 1009, 'teen': 1010, 'crimin': 1011, 'physic': 1012, 'spent': 1013, 'nation': 1014, 'respons': 1015, 'planet': 1016, 'fake': 1017, 'receiv': 1018, 'blue': 1019, 'sick': 1020, 'bizarr': 1021, 'embarrass': 1022, 'indian': 1023, 'ring': 1024, '15': 1025, 'drop': 1026, 'pop': 1027, 'drag': 1028, 'haunt': 1029, 'suspect': 1030, 'pointless': 1031, 'search': 1032, 'edg': 1033, 'handl': 1034, 'common': 1035, 'biggest': 1036, 'faith': 1037, 'hurt': 1038, 'arriv': 1039, 'technic': 1040, 'angel': 1041, 'dad': 1042, 'genuin': 1043, 'solid': 1044, 'awesom': 1045, 'f': 1046, 'focu': 1047, 'colleg': 1048, 'former': 1049, 'van': 1050, 'count': 1051, 'tear': 1052, 'heavi': 1053, 'wall': 1054, 'rais': 1055, 'visit': 1056, 'younger': 1057, 'laughabl': 1058, 'excus': 1059, 'sign': 1060, 'fair': 1061, 'cult': 1062, 'tough': 1063, 'key': 1064, 'motion': 1065, 'super': 1066, 'desir': 1067, 'stun': 1068, 'addit': 1069, 'exploit': 1070, 'cloth': 1071, 'tortur': 1072, 'smith': 1073, 'davi': 1074, 'race': 1075, 'author': 1076, 'cross': 1077, 'jim': 1078, 'focus': 1079, 'consist': 1080, 'minor': 1081, 'compel': 1082, 'pathet': 1083, 'chemistri': 1084, 'commit': 1085, 'park': 1086, 'obsess': 1087, 'frank': 1088, 'tradit': 1089, 'grade': 1090, '60': 1091, 'asid': 1092, 'brutal': 1093, 'somewher': 1094, 'steve': 1095, 'depress': 1096, 'rule': 1097, 'grant': 1098, 'opportun': 1099, 'u': 1100, 'explor': 1101, 'besid': 1102, 'honest': 1103, 'dub': 1104, 'anti': 1105, 'trailer': 1106, 'intend': 1107, 'bar': 1108, 'scientist': 1109, 'regard': 1110, 'longer': 1111, 'west': 1112, 'decad': 1113, 'judg': 1114, 'silent': 1115, 'creativ': 1116, 'armi': 1117, 'wild': 1118, 'g': 1119, 'south': 1120, 'stewart': 1121, 'draw': 1122, 'road': 1123, 'govern': 1124, 'ex': 1125, 'boss': 1126, 'practic': 1127, 'club': 1128, 'surprisingli': 1129, 'gang': 1130, 'motiv': 1131, 'festiv': 1132, 'green': 1133, 'london': 1134, 'redeem': 1135, 'page': 1136, 'idiot': 1137, 'militari': 1138, 'display': 1139, 'aliv': 1140, 'machin': 1141, 'repeat': 1142, 'thrill': 1143, '100': 1144, 'nobodi': 1145, 'folk': 1146, 'yeah': 1147, '40': 1148, 'journey': 1149, 'garbag': 1150, 'smile': 1151, 'ground': 1152, 'tire': 1153, 'mood': 1154, 'bought': 1155, 'sam': 1156, 'cost': 1157, 'stone': 1158, 'mouth': 1159, 'noir': 1160, 'terrif': 1161, 'agent': 1162, 'utterli': 1163, 'requir': 1164, 'honestli': 1165, 'area': 1166, 'sexi': 1167, 'report': 1168, 'geniu': 1169, 'enter': 1170, 'investig': 1171, 'humour': 1172, 'glad': 1173, 'serial': 1174, 'narr': 1175, 'passion': 1176, 'occasion': 1177, 'marriag': 1178, 'climax': 1179, 'studi': 1180, 'industri': 1181, 'demon': 1182, 'nowher': 1183, 'center': 1184, 'ship': 1185, 'charli': 1186, 'loos': 1187, 'hors': 1188, 'bear': 1189, 'wow': 1190, 'hang': 1191, 'graphic': 1192, 'admir': 1193, 'giant': 1194, 'send': 1195, 'loud': 1196, 'damn': 1197, 'nake': 1198, 'profession': 1199, 'rel': 1200, 'subtl': 1201, 'blow': 1202, 'bottom': 1203, 'batman': 1204, 'insult': 1205, 'kelli': 1206, 'r': 1207, 'boyfriend': 1208, 'doubl': 1209, 'initi': 1210, 'frame': 1211, 'opera': 1212, 'gem': 1213, 'challeng': 1214, 'cinemat': 1215, 'affect': 1216, 'drawn': 1217, 'church': 1218, 'fulli': 1219, 'nightmar': 1220, 'evid': 1221, 'seek': 1222, 'l': 1223, 'j': 1224, 'conflict': 1225, 'essenti': 1226, 'arm': 1227, 'christoph': 1228, 'wind': 1229, 'henri': 1230, 'grace': 1231, 'witch': 1232, 'narrat': 1233, 'assum': 1234, 'hunt': 1235, 'push': 1236, 'wise': 1237, 'chri': 1238, 'nomin': 1239, 'month': 1240, 'repres': 1241, 'avail': 1242, 'sceneri': 1243, 'affair': 1244, 'hide': 1245, 'smart': 1246, 'bond': 1247, 'thu': 1248, 'justic': 1249, 'interview': 1250, 'flashback': 1251, 'outstand': 1252, 'presenc': 1253, 'constantli': 1254, 'satisfi': 1255, 'bed': 1256, 'central': 1257, 'sell': 1258, 'iron': 1259, 'content': 1260, 'everybodi': 1261, 'gag': 1262, 'hotel': 1263, 'slowli': 1264, 'hire': 1265, 'system': 1266, 'hey': 1267, 'charl': 1268, 'thrown': 1269, 'individu': 1270, 'adam': 1271, 'allen': 1272, 'mediocr': 1273, 'jone': 1274, 'ray': 1275, 'billi': 1276, 'lesson': 1277, 'cameo': 1278, 'photographi': 1279, 'fellow': 1280, 'pari': 1281, 'strike': 1282, 'rise': 1283, 'brief': 1284, 'independ': 1285, 'absurd': 1286, 'neg': 1287, 'phone': 1288, 'impact': 1289, 'born': 1290, 'ill': 1291, 'model': 1292, 'fresh': 1293, 'angl': 1294, 'spoil': 1295, 'likabl': 1296, 'abus': 1297, 'hill': 1298, 'discuss': 1299, 'ahead': 1300, 'sight': 1301, 'photograph': 1302, 'sent': 1303, 'blame': 1304, 'shine': 1305, 'logic': 1306, 'occur': 1307, 'mainli': 1308, 'bruce': 1309, 'skip': 1310, 'commerci': 1311, 'forev': 1312, 'surround': 1313, 'held': 1314, 'teacher': 1315, 'segment': 1316, 'blond': 1317, 'zero': 1318, 'satir': 1319, 'summer': 1320, 'resembl': 1321, 'trap': 1322, 'ball': 1323, 'six': 1324, 'fool': 1325, 'queen': 1326, 'tragedi': 1327, 'twice': 1328, 'sub': 1329, 'pack': 1330, 'reaction': 1331, 'bomb': 1332, 'hospit': 1333, 'protagonist': 1334, 'will': 1335, 'sport': 1336, 'mile': 1337, 'vote': 1338, 'trust': 1339, 'drink': 1340, 'jerri': 1341, 'mom': 1342, 'encount': 1343, 'plane': 1344, 'station': 1345, 'current': 1346, 'program': 1347, 'al': 1348, 'choos': 1349, 'celebr': 1350, 'martin': 1351, 'join': 1352, 'favourit': 1353, 'lord': 1354, 'field': 1355, 'round': 1356, 'tragic': 1357, 'vision': 1358, 'jean': 1359, 'robot': 1360, 'tie': 1361, 'arthur': 1362, 'roger': 1363, 'fortun': 1364, 'random': 1365, 'psycholog': 1366, 'intern': 1367, 'dread': 1368, 'nonsens': 1369, 'improv': 1370, 'epic': 1371, 'prefer': 1372, 'legend': 1373, 'formula': 1374, 'pleasur': 1375, 'highlight': 1376, 'tape': 1377, '11': 1378, 'dollar': 1379, 'thin': 1380, 'porn': 1381, 'fox': 1382, 'object': 1383, 'gorgeou': 1384, 'wide': 1385, 'buddi': 1386, 'influenc': 1387, 'ugli': 1388, 'prepar': 1389, 'nasti': 1390, 'ii': 1391, 'supposedli': 1392, 'reflect': 1393, 'warm': 1394, 'progress': 1395, 'youth': 1396, 'worthi': 1397, 'length': 1398, 'unusu': 1399, 'latter': 1400, 'crash': 1401, 'seven': 1402, 'superior': 1403, 'childhood': 1404, 'shop': 1405, 'theatr': 1406, 'remot': 1407, 'funniest': 1408, 'pilot': 1409, 'disgust': 1410, 'paid': 1411, 'castl': 1412, 'fell': 1413, 'convers': 1414, 'trick': 1415, 'rob': 1416, 'establish': 1417, 'disast': 1418, 'gangster': 1419, 'ident': 1420, 'heaven': 1421, 'disappear': 1422, 'suicid': 1423, 'mine': 1424, 'mask': 1425, 'forgotten': 1426, 'singer': 1427, 'decis': 1428, 'tend': 1429, 'heroin': 1430, 'partner': 1431, 'brian': 1432, 'recogn': 1433, 'alan': 1434, 'desert': 1435, 'stuck': 1436, 'sky': 1437, 'p': 1438, 'ms': 1439, 'thoroughli': 1440, 'accur': 1441, 'replac': 1442, 'market': 1443, 'seemingli': 1444, 'andi': 1445, 'uncl': 1446, 'commentari': 1447, 'eddi': 1448, 'clue': 1449, 'danni': 1450, 'devil': 1451, 'jackson': 1452, 'refus': 1453, 'pair': 1454, 'that': 1455, 'therefor': 1456, 'accid': 1457, 'fault': 1458, 'river': 1459, 'unit': 1460, 'fate': 1461, 'ed': 1462, 'tune': 1463, 'afraid': 1464, 'hidden': 1465, 'stephen': 1466, 'russian': 1467, 'clean': 1468, 'instanc': 1469, 'irrit': 1470, 'test': 1471, 'captain': 1472, 'convey': 1473, 'quick': 1474, 'readi': 1475, 'european': 1476, 'insan': 1477, 'frustrat': 1478, 'daniel': 1479, 'rescu': 1480, 'chines': 1481, 'wed': 1482, 'food': 1483, '1950': 1484, 'dirti': 1485, 'angri': 1486, 'lock': 1487, 'joy': 1488, 'steven': 1489, 'price': 1490, 'bland': 1491, 'cage': 1492, 'rang': 1493, 'anymor': 1494, 'wooden': 1495, 'n': 1496, 'news': 1497, 'jason': 1498, 'rush': 1499, 'led': 1500, 'worri': 1501, 'board': 1502, '12': 1503, 'martial': 1504, 'twenti': 1505, 'transform': 1506, 'hunter': 1507, 'symbol': 1508, 'cgi': 1509, 'piti': 1510, 'x': 1511, 'invent': 1512, 'onto': 1513, 'sentiment': 1514, 'johnni': 1515, 'explan': 1516, 'process': 1517, 'attitud': 1518, 'owner': 1519, 'awar': 1520, 'aim': 1521, 'target': 1522, 'necessari': 1523, 'favor': 1524, 'floor': 1525, 'energi': 1526, 'opposit': 1527, 'religi': 1528, 'blind': 1529, 'window': 1530, 'chick': 1531, 'insight': 1532, 'movement': 1533, 'possess': 1534, 'deepli': 1535, 'research': 1536, 'comparison': 1537, 'mountain': 1538, 'rain': 1539, 'comed': 1540, 'whatsoev': 1541, 'grand': 1542, 'mid': 1543, 'bank': 1544, 'began': 1545, 'shadow': 1546, 'parodi': 1547, 'princ': 1548, 'pre': 1549, 'friendship': 1550, 'credibl': 1551, 'taylor': 1552, 'weapon': 1553, 'dougla': 1554, 'teach': 1555, 'flesh': 1556, 'protect': 1557, 'hint': 1558, 'bloodi': 1559, 'terror': 1560, 'marvel': 1561, 'watchabl': 1562, 'anybodi': 1563, 'leader': 1564, 'accord': 1565, 'load': 1566, 'superman': 1567, 'drunk': 1568, 'freddi': 1569, 'brown': 1570, 'tim': 1571, 'seat': 1572, 'hitler': 1573, 'appropri': 1574, 'jeff': 1575, 'keaton': 1576, 'knock': 1577, 'villag': 1578, 'charg': 1579, 'unknown': 1580, 'unnecessari': 1581, 'empti': 1582, 'england': 1583, 'enemi': 1584, 'media': 1585, 'utter': 1586, 'craft': 1587, 'buck': 1588, 'wave': 1589, 'perspect': 1590, 'strength': 1591, 'dare': 1592, 'kiss': 1593, 'correct': 1594, 'contrast': 1595, 'nativ': 1596, 'ford': 1597, 'magnific': 1598, 'soap': 1599, 'chill': 1600, 'speed': 1601, 'distract': 1602, 'nazi': 1603, 'knowledg': 1604, 'anywher': 1605, 'fred': 1606, 'ice': 1607, '1980': 1608, 'breath': 1609, 'mission': 1610, 'joan': 1611, 'crowd': 1612, 'jr': 1613, 'moon': 1614, '000': 1615, 'soft': 1616, 'kate': 1617, 'frighten': 1618, 'nick': 1619, 'dick': 1620, 'hundr': 1621, 'dan': 1622, 'somebodi': 1623, 'dozen': 1624, 'simon': 1625, 'radio': 1626, 'loss': 1627, 'thousand': 1628, 'andrew': 1629, 'academi': 1630, 'shakespear': 1631, 'account': 1632, 'sum': 1633, 'quot': 1634, 'root': 1635, 'vehicl': 1636, '1970': 1637, 'behavior': 1638, 'convent': 1639, 'leg': 1640, 'regular': 1641, 'gold': 1642, 'demand': 1643, 'pretenti': 1644, 'worker': 1645, 'compet': 1646, 'explos': 1647, 'japan': 1648, 'privat': 1649, 'candi': 1650, 'notabl': 1651, 'lynch': 1652, 'stretch': 1653, 'interpret': 1654, 'debut': 1655, 'constant': 1656, 'tarzan': 1657, 'sea': 1658, 'prais': 1659, 'revolv': 1660, 'spi': 1661, 'translat': 1662, 'threaten': 1663, 'franc': 1664, 'quiet': 1665, 'failur': 1666, 'jesu': 1667, 'sat': 1668, 'technolog': 1669, 'ass': 1670, 'aid': 1671, 'higher': 1672, 'punch': 1673, 'kevin': 1674, 'toy': 1675, 'met': 1676, 'mike': 1677, 'abandon': 1678, 'vh': 1679, 'interact': 1680, 'bet': 1681, 'separ': 1682, 'command': 1683, 'confront': 1684, 'recal': 1685, 'techniqu': 1686, 'gotten': 1687, 'stunt': 1688, 'servic': 1689, 'site': 1690, 'belong': 1691, 'bug': 1692, 'cabl': 1693, 'foot': 1694, 'freak': 1695, 'capabl': 1696, 'african': 1697, 'jimmi': 1698, 'fu': 1699, 'bright': 1700, 'fat': 1701, 'presid': 1702, 'boat': 1703, 'stock': 1704, 'clark': 1705, 'succeed': 1706, 'structur': 1707, 'gene': 1708, 'spanish': 1709, 'paper': 1710, 'kidnap': 1711, 'whilst': 1712, 'factor': 1713, 'belief': 1714, 'educ': 1715, 'attend': 1716, 'complic': 1717, 'witti': 1718, 'realism': 1719, 'tree': 1720, 'realis': 1721, 'bob': 1722, 'santa': 1723, 'finest': 1724, 'assist': 1725, 'broken': 1726, 'depart': 1727, 'up': 1728, 'smoke': 1729, 'determin': 1730, 'observ': 1731, 'v': 1732, 'domin': 1733, 'hat': 1734, 'routin': 1735, 'fame': 1736, 'rubbish': 1737, 'oper': 1738, 'lewi': 1739, 'lone': 1740, 'safe': 1741, 'hook': 1742, 'advanc': 1743, 'foreign': 1744, 'kinda': 1745, 'morgan': 1746, 'rank': 1747, 'numer': 1748, 'shape': 1749, 'shallow': 1750, 'washington': 1751, 'werewolf': 1752, 'vs': 1753, 'rose': 1754, 'civil': 1755, 'morn': 1756, 'gari': 1757, 'winner': 1758, 'accomplish': 1759, 'kong': 1760, 'ordinari': 1761, 'whenev': 1762, 'grab': 1763, 'virtual': 1764, 'peac': 1765, 'luck': 1766, 'h': 1767, 'offens': 1768, 'patient': 1769, 'unfunni': 1770, 'complain': 1771, 'activ': 1772, 'contriv': 1773, 'bigger': 1774, 'welcom': 1775, 'dimension': 1776, 'pretend': 1777, 'con': 1778, 'trek': 1779, 'code': 1780, 'flash': 1781, 'cain': 1782, 'dri': 1783, 'wake': 1784, 'lesbian': 1785, 'eric': 1786, 'guard': 1787, 'corrupt': 1788, 'statu': 1789, 'albert': 1790, 'manipul': 1791, 'dancer': 1792, 'awkward': 1793, 'gain': 1794, 'sourc': 1795, 'speech': 1796, 'context': 1797, 'signific': 1798, 'corni': 1799, 'clip': 1800, 'sean': 1801, 'anthoni': 1802, 'psycho': 1803, '13': 1804, 'curiou': 1805, 'advic': 1806, 'reli': 1807, 'religion': 1808, 'w': 1809, 'priest': 1810, 'theatric': 1811, 'flow': 1812, 'addict': 1813, 'secur': 1814, 'jennif': 1815, 'asian': 1816, 'howard': 1817, 'specif': 1818, 'skin': 1819, 'golden': 1820, 'comfort': 1821, 'core': 1822, 'organ': 1823, 'luke': 1824, 'promot': 1825, 'cash': 1826, 'lucki': 1827, 'cheat': 1828, 'lower': 1829, 'dislik': 1830, 'associ': 1831, 'contribut': 1832, 'wing': 1833, 'regret': 1834, 'balanc': 1835, 'frankli': 1836, 'devic': 1837, 'spell': 1838, 'frequent': 1839, 'degre': 1840, 'sake': 1841, 'lake': 1842, 'print': 1843, 'forgiv': 1844, 'thoma': 1845, 'mass': 1846, 'betti': 1847, 'crack': 1848, 'unexpect': 1849, 'gordon': 1850, 'construct': 1851, 'categori': 1852, 'amateur': 1853, 'depend': 1854, 'invit': 1855, 'unfold': 1856, 'grown': 1857, 'anna': 1858, 'honor': 1859, 'condit': 1860, 'walter': 1861, 'grew': 1862, 'matur': 1863, 'intellectu': 1864, 'veteran': 1865, 'sole': 1866, 'mirror': 1867, 'sudden': 1868, 'spectacular': 1869, 'demonstr': 1870, 'overli': 1871, 'experienc': 1872, 'gift': 1873, 'grip': 1874, 'card': 1875, 'robin': 1876, 'liner': 1877, 'freedom': 1878, 'meanwhil': 1879, 'sheriff': 1880, 'theori': 1881, 'brilliantli': 1882, 'circumst': 1883, 'colour': 1884, 'section': 1885, 'unabl': 1886, 'drew': 1887, 'oliv': 1888, 'crappi': 1889, 'subtitl': 1890, 'laughter': 1891, 'path': 1892, 'pile': 1893, 'parker': 1894, 'sheer': 1895, 'cook': 1896, 'matt': 1897, 'altern': 1898, 'sinatra': 1899, 'accident': 1900, 'treatment': 1901, 'wander': 1902, 'relief': 1903, 'lawyer': 1904, 'defin': 1905, 'hall': 1906, 'hank': 1907, 'dragon': 1908, 'captiv': 1909, 'halloween': 1910, 'gratuit': 1911, 'moor': 1912, 'broadway': 1913, 'unintent': 1914, 'wound': 1915, 'cowboy': 1916, 'wayn': 1917, 'barbara': 1918, 'kung': 1919, 'jacki': 1920, 'k': 1921, 'spoof': 1922, 'winter': 1923, 'canadian': 1924, 'statement': 1925, 'surreal': 1926, 'compos': 1927, 'treasur': 1928, 'cheer': 1929, 'gonna': 1930, 'fare': 1931, 'fish': 1932, 'woodi': 1933, 'victor': 1934, 'sensit': 1935, 'unrealist': 1936, 'emerg': 1937, 'sympathet': 1938, 'ran': 1939, 'neighbor': 1940, 'driven': 1941, 'expos': 1942, 'authent': 1943, 'glass': 1944, 'overlook': 1945, 'menac': 1946, 'topic': 1947, 'ancient': 1948, 'handsom': 1949, 'gross': 1950, 'chief': 1951, 'michel': 1952, 'network': 1953, 'built': 1954, 'pleasant': 1955, 'nevertheless': 1956, 'stranger': 1957, 'comedian': 1958, 'feet': 1959, 'cinderella': 1960, 'contemporari': 1961, 'russel': 1962, 'underr': 1963, 'consider': 1964, 'earn': 1965, 'letter': 1966, 'miser': 1967, 'gori': 1968, 'endless': 1969, 'blockbust': 1970, 'solv': 1971, 'brook': 1972, 'switch': 1973, 'virgin': 1974, 'joseph': 1975, 'convict': 1976, 'edward': 1977, 'bullet': 1978, 'victoria': 1979, 'cynic': 1980, 'scale': 1981, '0': 1982, 'scenario': 1983, 'alex': 1984, 'chosen': 1985, 'com': 1986, 'curs': 1987, 'outrag': 1988, 'sword': 1989, 'gut': 1990, 'uk': 1991, 'juli': 1992, 'wrap': 1993, 'substanc': 1994, 'screenwrit': 1995, 'driver': 1996, 'monkey': 1997, 'proper': 1998, 'par': 1999, 'remov': 2000, 'bird': 2001, 'indic': 2002, 'court': 2003, 'grave': 2004, 'nanci': 2005, 'inevit': 2006, 'naiv': 2007, 'roy': 2008, 'loser': 2009, 'rental': 2010, 'advertis': 2011, 'consequ': 2012, 'fatal': 2013, 'le': 2014, 'germani': 2015, 'slap': 2016, 'invis': 2017, 'bridg': 2018, 'brave': 2019, 'anger': 2020, 'provok': 2021, 'footbal': 2022, 'ador': 2023, 'loui': 2024, 'chan': 2025, 'alcohol': 2026, 'anderson': 2027, 'willi': 2028, 'ryan': 2029, 'stumbl': 2030, 'professor': 2031, '1930': 2032, 'sharp': 2033, 'bat': 2034, 'australian': 2035, 'assassin': 2036, 'patrick': 2037, 'cell': 2038, 'eight': 2039, 'lousi': 2040, 'saturday': 2041, 'amateurish': 2042, 'liber': 2043, 'trilog': 2044, 'strongli': 2045, 'deni': 2046, 'refresh': 2047, 'heck': 2048, 'ape': 2049, 'sin': 2050, 'justifi': 2051, 'resid': 2052, 'san': 2053, 'vagu': 2054, 'sympathi': 2055, 'mini': 2056, 'indi': 2057, 'defeat': 2058, 'reput': 2059, 'terrifi': 2060, 'creator': 2061, 'tabl': 2062, 'expert': 2063, 'prevent': 2064, 'tediou': 2065, 'task': 2066, 'endur': 2067, 'rival': 2068, 'offend': 2069, 'trial': 2070, 'imit': 2071, 'che': 2072, 'basebal': 2073, 'employ': 2074, 'max': 2075, 'weekend': 2076, 'beach': 2077, 'fairi': 2078, 'europ': 2079, 'complaint': 2080, 'pitch': 2081, 'dig': 2082, 'format': 2083, 'murphi': 2084, 'risk': 2085, 'purchas': 2086, 'nois': 2087, 'bite': 2088, 'tini': 2089, 'reminisc': 2090, 'harsh': 2091, 'hype': 2092, 'glimps': 2093, 'titan': 2094, 'powel': 2095, 'till': 2096, 'asleep': 2097, 'prime': 2098, 'fals': 2099, '14': 2100, 'strip': 2101, 'north': 2102, 'descript': 2103, 'destruct': 2104, 'africa': 2105, 'texa': 2106, 'revel': 2107, 'semi': 2108, 'surfac': 2109, 'spin': 2110, 'uninterest': 2111, 'inner': 2112, 'arrest': 2113, 'excess': 2114, 'sitcom': 2115, 'controversi': 2116, 'massiv': 2117, 'maintain': 2118, 'twin': 2119, 'argu': 2120, 'makeup': 2121, 'dinosaur': 2122, 'hitchcock': 2123, 'ludicr': 2124, 'kim': 2125, 'expens': 2126, 'insist': 2127, 'stare': 2128, 'ideal': 2129, 'melodrama': 2130, 'reject': 2131, 'erot': 2132, 'forest': 2133, 'ala': 2134, 'subplot': 2135, 'host': 2136, 'ga': 2137, 'press': 2138, 'atroci': 2139, 'nail': 2140, 'supernatur': 2141, 'columbo': 2142, 'dude': 2143, 'identifi': 2144, 'notch': 2145, 'cant': 2146, 'presum': 2147, 'plagu': 2148, 'closer': 2149, 'guest': 2150, 'forgett': 2151, 'method': 2152, 'crude': 2153, 'character': 2154, 'ear': 2155, 'landscap': 2156, 'princess': 2157, 'beast': 2158, 'foster': 2159, 'border': 2160, 'lion': 2161, 'urban': 2162, 'birth': 2163, 'previous': 2164, 'damag': 2165, 'aunt': 2166, 'pacino': 2167, 'jungl': 2168, 'bound': 2169, 'accus': 2170, 'storytel': 2171, 'nude': 2172, 'emma': 2173, 'propaganda': 2174, 'thirti': 2175, 'doll': 2176, 'guid': 2177, 'chose': 2178, 'jess': 2179, '25': 2180, 'mate': 2181, 'mainstream': 2182, 'whoever': 2183, 'pet': 2184, 'warrior': 2185, 'latest': 2186, 'exact': 2187, 'poster': 2188, 'upset': 2189, 'cooper': 2190, 'deadli': 2191, 'friday': 2192, 'gritti': 2193, 'size': 2194, 'merit': 2195, 'ton': 2196, 'wilson': 2197, '1990': 2198, 'settl': 2199, 'citizen': 2200, 'popul': 2201, 'warner': 2202, 'blend': 2203, 'contest': 2204, 'rough': 2205, 'corps': 2206, 'buff': 2207, 'contact': 2208, 'sun': 2209, 'pitt': 2210, 'bu': 2211, 'select': 2212, 'alic': 2213, 'environ': 2214, 'mgm': 2215, 'metal': 2216, 'widow': 2217, 'rat': 2218, 'overcom': 2219, 'link': 2220, 'lift': 2221, 'guilti': 2222, 'revolut': 2223, 'particip': 2224, 'ted': 2225, 'exagger': 2226, 'prostitut': 2227, 'afternoon': 2228, 'johnson': 2229, 'accompani': 2230, 'moron': 2231, 'corpor': 2232, '1960': 2233, 'matrix': 2234, 'corner': 2235, 'doom': 2236, 'leagu': 2237, 'friendli': 2238, 'sincer': 2239, 'instal': 2240, 'multipl': 2241, 'hood': 2242, 'clair': 2243, 'holm': 2244, 'sunday': 2245, 'aka': 2246, 'hip': 2247, 'string': 2248, 'lugosi': 2249, 'grim': 2250, 'advis': 2251, 'blah': 2252, 'campi': 2253, 'examin': 2254, 'irish': 2255, 'junk': 2256, 'defend': 2257, 'shut': 2258, 'varieti': 2259, 'confid': 2260, 'shake': 2261, 'rachel': 2262, 'pro': 2263, 'icon': 2264, 'tight': 2265, 'sullivan': 2266, 'jaw': 2267, 'directli': 2268, 'mexican': 2269, 'medic': 2270, 'goal': 2271, 'denni': 2272, 'attach': 2273, 'legendari': 2274, 'prior': 2275, 'dean': 2276, 'truck': 2277, 'terrorist': 2278, 'courag': 2279, 'duke': 2280, 'sentenc': 2281, 'breast': 2282, 'vietnam': 2283, 'bourn': 2284, 'sarah': 2285, 'yell': 2286, 'donald': 2287, 'behav': 2288, 'split': 2289, 'hong': 2290, 'entri': 2291, 'un': 2292, 'proceed': 2293, 'nose': 2294, 'borrow': 2295, 'swim': 2296, 'crush': 2297, 'concentr': 2298, 'confess': 2299, 'forth': 2300, 'everywher': 2301, 'jerk': 2302, 'gather': 2303, 'unconvinc': 2304, 'lifetim': 2305, 'stolen': 2306, 'buri': 2307, 'lip': 2308, 'spite': 2309, 'pan': 2310, 'deliveri': 2311, 'turkey': 2312, 'julia': 2313, 'california': 2314, 'reward': 2315, 'china': 2316, 'flight': 2317, 'quest': 2318, 'downright': 2319, 'offici': 2320, 'hoffman': 2321, 'freeman': 2322, 'proud': 2323, 'jon': 2324, 'jail': 2325, 'sink': 2326, 'lazi': 2327, 'notori': 2328, 'fabul': 2329, 'worthwhil': 2330, 'fade': 2331, 'encourag': 2332, 'inept': 2333, 'sir': 2334, 'betray': 2335, 'bag': 2336, 'imageri': 2337, 'teeth': 2338, 'cousin': 2339, 'relev': 2340, 'susan': 2341, 'lisa': 2342, 'survivor': 2343, 'branagh': 2344, 'storm': 2345, 'shower': 2346, 'bell': 2347, 'retard': 2348, 'summari': 2349, 'tremend': 2350, 'facial': 2351, 'mexico': 2352, 'bride': 2353, 'alright': 2354, 'toler': 2355, 'hugh': 2356, 'shark': 2357, 'trade': 2358, 'stab': 2359, 'finger': 2360, 'quirki': 2361, 'hyster': 2362, 'pose': 2363, 'blown': 2364, 'bitter': 2365, 'von': 2366, 'ha': 2367, 'christ': 2368, 'address': 2369, 'larri': 2370, 'bone': 2371, 'cruel': 2372, 'ned': 2373, 'afterward': 2374, 'scheme': 2375, 'ron': 2376, 'thumb': 2377, 'feed': 2378, 'traci': 2379, 'tour': 2380, 'beg': 2381, 'pursu': 2382, 'snake': 2383, 'distinct': 2384, 'swear': 2385, 'screw': 2386, 'photo': 2387, 'occas': 2388, 'chair': 2389, 'mechan': 2390, 'stomach': 2391, 'obscur': 2392, 'raw': 2393, 'heavili': 2394, 'cabin': 2395, 'resist': 2396, 'hardi': 2397, 'holiday': 2398, 'necessarili': 2399, 'southern': 2400, 'argument': 2401, 'sidney': 2402, 'chain': 2403, 'gruesom': 2404, 'render': 2405, 'satan': 2406, 'philip': 2407, 'understood': 2408, 'indulg': 2409, 'racist': 2410, 'india': 2411, 'pregnant': 2412, 'integr': 2413, 'forgot': 2414, 'stalk': 2415, 'tongu': 2416, 'fourth': 2417, 'belov': 2418, 'outfit': 2419, 'obnoxi': 2420, 'lay': 2421, 'midnight': 2422, 'inhabit': 2423, 'slapstick': 2424, 'carol': 2425, 'garden': 2426, 'magazin': 2427, '17': 2428, 'restor': 2429, 'ticket': 2430, 'deeper': 2431, 'shoe': 2432, 'devot': 2433, 'incid': 2434, 'brad': 2435, 'lincoln': 2436, 'divorc': 2437, 'maria': 2438, 'lili': 2439, 'benefit': 2440, 'underground': 2441, 'elizabeth': 2442, 'guarante': 2443, 'sandler': 2444, 'anticip': 2445, 'disbelief': 2446, 'creation': 2447, 'explod': 2448, 'cring': 2449, 'mildli': 2450, 'bbc': 2451, 'slave': 2452, 'princip': 2453, 'greater': 2454, 'amazingli': 2455, 'capit': 2456, 'extraordinari': 2457, 'introduct': 2458, 'lesli': 2459, 'halfway': 2460, 'funnier': 2461, 'tap': 2462, 'punish': 2463, 'advantag': 2464, 'wreck': 2465, 'text': 2466, 'extent': 2467, 'overwhelm': 2468, 'enhanc': 2469, 'transfer': 2470, 'preview': 2471, 'dynam': 2472, 'jessica': 2473, 'plant': 2474, 'lo': 2475, 'horrif': 2476, 'east': 2477, 'deliber': 2478, 'lane': 2479, 'error': 2480, '2000': 2481, 'miscast': 2482, 'appli': 2483, 'homosexu': 2484, 'miller': 2485, 'vincent': 2486, 'vacat': 2487, 'basi': 2488, 'ensu': 2489, 'sophist': 2490, 'elev': 2491, 'bollywood': 2492, 'spoken': 2493, 'steel': 2494, 'reed': 2495, 'sleazi': 2496, 'extend': 2497, 'via': 2498, 'measur': 2499, 'uncomfort': 2500, 'mansion': 2501, 'goofi': 2502, 'stanley': 2503, 'blair': 2504, 'alter': 2505, 'beer': 2506, 'hippi': 2507, 'overact': 2508, 'breathtak': 2509, 'mous': 2510, 'melt': 2511, 'fix': 2512, 'conceiv': 2513, 'dentist': 2514, 'cathol': 2515, 'daili': 2516, 'savag': 2517, 'assign': 2518, 'inspector': 2519, 'properli': 2520, 'oppos': 2521, 'succe': 2522, 'nowaday': 2523, 'everyday': 2524, 'burt': 2525, 'subsequ': 2526, 'sacrific': 2527, 'carpent': 2528, 'circl': 2529, 'block': 2530, 'massacr': 2531, 'neck': 2532, 'laura': 2533, 'fallen': 2534, 'pool': 2535, 'mob': 2536, 'fay': 2537, 'grey': 2538, 'concert': 2539, 'portrait': 2540, 'lesser': 2541, 'access': 2542, 'seagal': 2543, 'christi': 2544, 'chees': 2545, 'jewish': 2546, 'sinist': 2547, 'react': 2548, 'isol': 2549, 'relax': 2550, 'jake': 2551, 'competit': 2552, 'usa': 2553, '2006': 2554, 'suitabl': 2555, 'spiritu': 2556, 'immens': 2557, 'creep': 2558, 'nine': 2559, 'stink': 2560, 'appal': 2561, 'chop': 2562, 'ironi': 2563, 'lyric': 2564, 'nonetheless': 2565, 'sold': 2566, 'spring': 2567, 'rage': 2568, 'reduc': 2569, 'navi': 2570, 'retir': 2571, 'franchis': 2572, 'shirt': 2573, 'user': 2574, 'showcas': 2575, 'nut': 2576, 'adopt': 2577, 'needless': 2578, 'luci': 2579, 'nurs': 2580, 'bath': 2581, 'uninspir': 2582, 'stanwyck': 2583, 'per': 2584, 'digit': 2585, 'asham': 2586, 'bulli': 2587, 'jay': 2588, 'zone': 2589, '1940': 2590, 'sutherland': 2591, 'upper': 2592, 'amongst': 2593, 'broadcast': 2594, 'illustr': 2595, 'oddli': 2596, 'laid': 2597, '2001': 2598, 'aspir': 2599, 'disguis': 2600, 'fulfil': 2601, 'baker': 2602, 'brando': 2603, 'throat': 2604, 'stylish': 2605, 'wwii': 2606, 'impli': 2607, 'nobl': 2608, 'thief': 2609, 'endear': 2610, 'pride': 2611, 'wanna': 2612, 'neighborhood': 2613, '18': 2614, 'pound': 2615, 'em': 2616, 'dawn': 2617, 'bo': 2618, 'dinner': 2619, 'bett': 2620, 'rochest': 2621, 'shift': 2622, 'coher': 2623, 'diseas': 2624, 'tens': 2625, '16': 2626, 'distribut': 2627, 'prop': 2628, 'albeit': 2629, 'cinematograph': 2630, 'shoulder': 2631, 'knife': 2632, 'function': 2633, 'wash': 2634, 'poignant': 2635, 'silenc': 2636, 'forti': 2637, 'matthau': 2638, 'rebel': 2639, 'shout': 2640, 'surf': 2641, 'snow': 2642, 'contract': 2643, 'mindless': 2644, 'silver': 2645, 'internet': 2646, 'derek': 2647, 'heat': 2648, 'widmark': 2649, 'elvira': 2650, 'henc': 2651, 'proof': 2652, 'height': 2653, 'eeri': 2654, 'reunion': 2655, 'horrend': 2656, 'duti': 2657, 'chuck': 2658, 'cannib': 2659, 'instinct': 2660, 'cancel': 2661, 'absorb': 2662, 'repetit': 2663, 'greatli': 2664, 'innov': 2665, 'etern': 2666, 'torn': 2667, 'alik': 2668, 'premier': 2669, 'spielberg': 2670, 'mill': 2671, 'glori': 2672, 'pie': 2673, 'incoher': 2674, 'neat': 2675, 'musician': 2676, 'elvi': 2677, 'nelson': 2678, 'crisi': 2679, 'infam': 2680, 'horrifi': 2681, 'precis': 2682, 'redempt': 2683, 'britain': 2684, 'bang': 2685, 'homag': 2686, 'itali': 2687, 'fbi': 2688, 'trite': 2689, 'wealthi': 2690, 'diamond': 2691, 'lovabl': 2692, 'announc': 2693, 'blank': 2694, 'burton': 2695, 'racism': 2696, 'pat': 2697, 'hammer': 2698, 'flop': 2699, 'wilder': 2700, 'dedic': 2701, 'helen': 2702, 'resolut': 2703, 'happili': 2704, 'ensembl': 2705, 'parallel': 2706, 'chaplin': 2707, 'streisand': 2708, 'mar': 2709, 'broke': 2710, 'triumph': 2711, 'carter': 2712, 'disagre': 2713, 'conclud': 2714, 'plastic': 2715, 'factori': 2716, 'st': 2717, 'cube': 2718, 'oil': 2719, 'fighter': 2720, 'march': 2721, 'vega': 2722, 'row': 2723, 'bush': 2724, 'rocket': 2725, 'chuckl': 2726, 'climb': 2727, 'weight': 2728, 'own': 2729, 'boot': 2730, 'thug': 2731, 'spare': 2732, 'unforgett': 2733, 'lust': 2734, 'enorm': 2735, 'sensibl': 2736, 'wherea': 2737, 'dump': 2738, 'mst3k': 2739, 'meaning': 2740, 'kurt': 2741, 'dane': 2742, 'luca': 2743, 'fifti': 2744, 'threat': 2745, 'stress': 2746, 'caricatur': 2747, 'engin': 2748, 'brand': 2749, 'rap': 2750, 'bobbi': 2751, 'difficulti': 2752, 'butt': 2753, 'karloff': 2754, 'adequ': 2755, 'arnold': 2756, 'dear': 2757, 'flynn': 2758, 'homeless': 2759, 'secretari': 2760, 'swing': 2761, 'arrog': 2762, 'ralph': 2763, 'polish': 2764, 'elabor': 2765, 'journalist': 2766, 'fest': 2767, 'barri': 2768, 'ego': 2769, 'hamlet': 2770, 'float': 2771, 'simpson': 2772, 'resort': 2773, 'puppet': 2774, 'fanci': 2775, 'arrang': 2776, 'tool': 2777, 'grate': 2778, 'unbear': 2779, 'induc': 2780, 'conspiraci': 2781, 'spike': 2782, 'exercis': 2783, 'choreograph': 2784, 'guilt': 2785, 'tribut': 2786, 'phillip': 2787, 'muppet': 2788, 'boll': 2789, 'pig': 2790, 'cruis': 2791, 'basement': 2792, 'slip': 2793, '24': 2794, 'editor': 2795, 'tower': 2796, 'document': 2797, 'layer': 2798, 'fianc': 2799, 'babe': 2800, 'medium': 2801, 'ham': 2802, 'toilet': 2803, 'stan': 2804, 'file': 2805, 'korean': 2806, 'ward': 2807, 'puzzl': 2808, 'item': 2809, 'scarecrow': 2810, 'larger': 2811, 'spark': 2812, 'portion': 2813, 'slaughter': 2814, 'superfici': 2815, 'territori': 2816, 'catherin': 2817, 'assur': 2818, 'denzel': 2819, 'minim': 2820, 'philosoph': 2821, 'orient': 2822, 'transit': 2823, 'inexplic': 2824, 'glover': 2825, 'persona': 2826, 'librari': 2827, 'doc': 2828, 'wolf': 2829, 'curti': 2830, 'jet': 2831, 'jeremi': 2832, 'owe': 2833, 'pg': 2834, 'ban': 2835, 'walken': 2836, 'boredom': 2837, 'sneak': 2838, 'financi': 2839, 'dorothi': 2840, 'shi': 2841, 'profound': 2842, 'ambigu': 2843, 'backdrop': 2844, 'metaphor': 2845, 'whale': 2846, 'cusack': 2847, 'multi': 2848, 'eleph': 2849, 'hudson': 2850, 'ultra': 2851, 'stiff': 2852, 'elsewher': 2853, 'union': 2854, 'birthday': 2855, 'viru': 2856, 'notion': 2857, 'rave': 2858, 'implaus': 2859, '2005': 2860, 'gadget': 2861, 'hack': 2862, 'eastwood': 2863, 'newspap': 2864, 'squar': 2865, 'superhero': 2866, 'slight': 2867, 'afford': 2868, 'bibl': 2869, 'urg': 2870, 'poison': 2871, 'canada': 2872, '1st': 2873, 'disc': 2874, 'distanc': 2875, 'pad': 2876, 'hawk': 2877, 'lloyd': 2878, 'deriv': 2879, 'reader': 2880, 'eva': 2881, 'cure': 2882, 'skit': 2883, 'montag': 2884, 'health': 2885, 'spread': 2886, 'essenc': 2887, 'restaur': 2888, 'heston': 2889, 'charisma': 2890, 'sadist': 2891, 'huh': 2892, 'drown': 2893, 'button': 2894, 'estat': 2895, 'fetch': 2896, 'dealt': 2897, 'peak': 2898, 'gradual': 2899, 'maniac': 2900, 'companion': 2901, 'godfath': 2902, 'invest': 2903, 'muslim': 2904, 'lab': 2905, 'scoobi': 2906, 'servant': 2907, 'ritter': 2908, 'alli': 2909, 'tea': 2910, 'gothic': 2911, 'miik': 2912, 'cup': 2913, 'subtleti': 2914, 'countless': 2915, 'kane': 2916, 'briefli': 2917, 'salli': 2918, 'charismat': 2919, 'elect': 2920, 'iii': 2921, 'electr': 2922, 'heroic': 2923, 'bud': 2924, 'nuanc': 2925, 'reel': 2926, 'cole': 2927, 'admittedli': 2928, 'tender': 2929, 'toss': 2930, 'grandmoth': 2931, 'neil': 2932, 'wannab': 2933, 'resourc': 2934, 'ingredi': 2935, 'shall': 2936, 'mild': 2937, 'poverti': 2938, 'punk': 2939, 'reev': 2940, 'kubrick': 2941, 'mafia': 2942, 'gate': 2943, 'stood': 2944, 'carrey': 2945, 'pit': 2946, 'stronger': 2947, 'dawson': 2948, 'label': 2949, 'pauli': 2950, 'cardboard': 2951, 'terri': 2952, 'assault': 2953, 'ian': 2954, 'outcom': 2955, 'fond': 2956, 'easier': 2957, 'astair': 2958, 'burst': 2959, 'smash': 2960, 'cox': 2961, 'useless': 2962, 'smooth': 2963, 'updat': 2964, 'tag': 2965, 'bakshi': 2966, 'sketch': 2967, 'divers': 2968, 'fist': 2969, 'increasingli': 2970, 'vulner': 2971, 'melodramat': 2972, 'rex': 2973, '2002': 2974, 'vari': 2975, 'coincid': 2976, 'qualifi': 2977, 'exchang': 2978, 'resolv': 2979, 'samurai': 2980, 'scratch': 2981, 'insert': 2982, 'brillianc': 2983, 'luckili': 2984, 'be': 2985, 'tame': 2986, 'suspend': 2987, 'reynold': 2988, 'conveni': 2989, 'templ': 2990, 'blast': 2991, 'gotta': 2992, 'strictli': 2993, 'farm': 2994, 'ambiti': 2995, 'walker': 2996, 'pin': 2997, 'soprano': 2998, 'matthew': 2999, 'meat': 3000, 'coach': 3001, 'fisher': 3002, 'nuclear': 3003, 'hamilton': 3004, 'seventi': 3005, 'jami': 3006, 'brosnan': 3007, 'cave': 3008, 'grasp': 3009, 'discoveri': 3010, 'timeless': 3011, 'eccentr': 3012, 'empir': 3013, 'butcher': 3014, 'monk': 3015, 'clock': 3016, 'kudo': 3017, 'recreat': 3018, 'convolut': 3019, 'ninja': 3020, 'struck': 3021, 'worthless': 3022, 'closet': 3023, 'revers': 3024, 'spooki': 3025, 'joey': 3026, 'instantli': 3027, 'pal': 3028, 'clown': 3029, 'miracl': 3030, 'importantli': 3031, 'wipe': 3032, 'selfish': 3033, 'fifteen': 3034, 'bleak': 3035, 'sidekick': 3036, 'declar': 3037, 'inconsist': 3038, 'evok': 3039, 'gray': 3040, 'eighti': 3041, 'cliff': 3042, 'partli': 3043, 'mitchel': 3044, 'norman': 3045, 'sloppi': 3046, 'seller': 3047, 'communist': 3048, 'chew': 3049, 'lifestyl': 3050, 'aforement': 3051, 'psychiatrist': 3052, 'stoog': 3053, 'debat': 3054, 'farc': 3055, 'enthusiast': 3056, 'piano': 3057, '45': 3058, 'superbl': 3059, 'seed': 3060, 'australia': 3061, 'destin': 3062, 'cheek': 3063, 'websit': 3064, 'ho': 3065, 'flawless': 3066, 'kitchen': 3067, 'slice': 3068, 'soviet': 3069, 'dash': 3070, 'incompet': 3071, 'drivel': 3072, 'pressur': 3073, 'akshay': 3074, 'regardless': 3075, 'dire': 3076, 'directori': 3077, 'wrestl': 3078, 'wick': 3079, 'splatter': 3080, 'anni': 3081, 'abc': 3082, 'emili': 3083, 'bash': 3084, 'cameron': 3085, 'duo': 3086, 'glow': 3087, 'judi': 3088, 'boil': 3089, 'recov': 3090, 'seduc': 3091, 'blob': 3092, 'chapter': 3093, 'ken': 3094, 'beaten': 3095, 'lou': 3096, 'mann': 3097, 'prize': 3098, 'suppli': 3099, 'increas': 3100, 'flower': 3101, 'dave': 3102, 'distant': 3103, 'helicopt': 3104, 'pleasantli': 3105, 'curios': 3106, 'jar': 3107, 'cia': 3108, 'artifici': 3109, 'cagney': 3110, 'doo': 3111, 'turner': 3112, 'perri': 3113, 'eleg': 3114, 'hop': 3115, 'ranger': 3116, 'craven': 3117, 'panic': 3118, 'francisco': 3119, 'splendid': 3120, 'glenn': 3121, 'drunken': 3122, 'psychot': 3123, 'favour': 3124, 'craig': 3125, 'web': 3126, 'goldberg': 3127, 'ellen': 3128, 'laurel': 3129, 'combat': 3130, 'min': 3131, 'falk': 3132, 'plausibl': 3133, 'greek': 3134, 'rid': 3135, 'philosophi': 3136, 'gentl': 3137, '20th': 3138, 'flip': 3139, 'slightest': 3140, 'wizard': 3141, 'shortli': 3142, 'gandhi': 3143, 'hatr': 3144, 'graduat': 3145, 'ruth': 3146, 'alexand': 3147, 'fx': 3148, 'modesti': 3149, 'tall': 3150, 'unpleas': 3151, 'holi': 3152, 'dracula': 3153, 'we': 3154, 'jealou': 3155, 'lend': 3156, 'fund': 3157, 'preciou': 3158, 'manhattan': 3159, 'legal': 3160, 'felix': 3161, 'harm': 3162, 'ocean': 3163, 'futurist': 3164, 'knight': 3165, 'nod': 3166, 'bless': 3167, 'scientif': 3168, 'reviv': 3169, 'forbidden': 3170, 'thread': 3171, 'childish': 3172, 'overdon': 3173, 'digniti': 3174, 'explicit': 3175, 'ami': 3176, 'tank': 3177, 'giallo': 3178, 'mock': 3179, '99': 3180, 'torment': 3181, 'yesterday': 3182, 'thick': 3183, '2004': 3184, 'awe': 3185, 'broad': 3186, 'margaret': 3187, 'elderli': 3188, 'nerv': 3189, 'unwatch': 3190, 'mel': 3191, 'fever': 3192, 'eve': 3193, 'repeatedli': 3194, 'awaken': 3195, 'verhoeven': 3196, 'pirat': 3197, 'ambit': 3198, 'eas': 3199, 'custom': 3200, 'launch': 3201, 'politician': 3202, 'lean': 3203, 'automat': 3204, 'royal': 3205, 'absenc': 3206, 'bin': 3207, 'publish': 3208, 'timothi': 3209, 'griffith': 3210, 'stiller': 3211, 'kay': 3212, 'rivet': 3213, 'uniform': 3214, 'acclaim': 3215, 'ah': 3216, 'romero': 3217, 'roman': 3218, 'pierc': 3219, 'phrase': 3220, 'antic': 3221, 'warren': 3222, 'stinker': 3223, 'darker': 3224, 'crook': 3225, 'purpl': 3226, 'wallac': 3227, 'foul': 3228, 'bathroom': 3229, 'transport': 3230, 'gabriel': 3231, 'sunshin': 3232, 'homicid': 3233, 'pulp': 3234, 'termin': 3235, 'tomato': 3236, 'album': 3237, 'q': 3238, 'marin': 3239, '2003': 3240, 'eyr': 3241, 'viciou': 3242, 'coloni': 3243, 'contrari': 3244, 'ought': 3245, 'pray': 3246, 'evolv': 3247, 'horrid': 3248, 'donna': 3249, 'kenneth': 3250, 'brazil': 3251, 'revolutionari': 3252, 'juvenil': 3253, 'saint': 3254, 'choreographi': 3255, 'li': 3256, 'prom': 3257, 'sixti': 3258, 'awak': 3259, 'packag': 3260, 'karen': 3261, 'hollow': 3262, 'rambo': 3263, 'boast': 3264, 'beatti': 3265, 'mildr': 3266, 'option': 3267, 'dose': 3268, 'twelv': 3269, 'overr': 3270, 'kapoor': 3271, 'defi': 3272, 'mummi': 3273, 'ireland': 3274, 'stole': 3275, 'nerd': 3276, 'blade': 3277, 'candid': 3278, 'conserv': 3279, 'ramon': 3280, 'funer': 3281, 'detract': 3282, 'kirk': 3283, 'trio': 3284, 'collabor': 3285, 'protest': 3286, 'fulci': 3287, 'confirm': 3288, 'jazz': 3289, 'altman': 3290, 'natali': 3291, 'global': 3292, 'flame': 3293, 'astonish': 3294, 'shade': 3295, 'delici': 3296, 'mystic': 3297, 'leap': 3298, 'yellow': 3299, 'bottl': 3300, 'blake': 3301, 'bull': 3302, 'spit': 3303, 'tommi': 3304, 'whip': 3305, 'audio': 3306, 'nicholson': 3307, 'enterpris': 3308, 'racial': 3309, 'destini': 3310, 'threw': 3311, 'altogeth': 3312, 'enchant': 3313, 'inherit': 3314, 'visibl': 3315, 'pseudo': 3316, 'merci': 3317, 'bedroom': 3318, 'meaningless': 3319, 'popcorn': 3320, 'todd': 3321, 'reunit': 3322, 'vivid': 3323, 'swedish': 3324, 'neo': 3325, 'harder': 3326, 'staff': 3327, 'fonda': 3328, 'adolesc': 3329, 'exhibit': 3330, 'roommat': 3331, 'decor': 3332, 'uneven': 3333, 'reserv': 3334, 'respond': 3335, 'ruthless': 3336, 'lawrenc': 3337, 'await': 3338, 'lemmon': 3339, 'voight': 3340, 'edi': 3341, 'befriend': 3342, 'bust': 3343, 'jew': 3344, 'tip': 3345, 'synopsi': 3346, 'moodi': 3347, 'suspici': 3348, 'wire': 3349, 'crocodil': 3350, 'fanat': 3351, 'atlanti': 3352, 'kennedi': 3353, 'leonard': 3354, 'madonna': 3355, 'clint': 3356, 'bradi': 3357, 'clumsi': 3358, 'incident': 3359, 'audit': 3360, 'ventur': 3361, 'bold': 3362, 'carl': 3363, 'holli': 3364, 'abysm': 3365, 'chao': 3366, 'palma': 3367, '2007': 3368, 'voyag': 3369, 'centr': 3370, 'dimens': 3371, 'rural': 3372, 'unsettl': 3373, 'bargain': 3374, 'garner': 3375, 'nearbi': 3376, 'hart': 3377, 'tiger': 3378, 'versu': 3379, 'lit': 3380, 'mall': 3381, 'echo': 3382, 'elimin': 3383, 'wealth': 3384, 'humili': 3385, 'characterist': 3386, 'immigr': 3387, 'poetic': 3388, 'imperson': 3389, '2nd': 3390, 'cuba': 3391, 'daddi': 3392, 'neglect': 3393, 'trail': 3394, 'ant': 3395, 'cari': 3396, 'cd': 3397, 'troop': 3398, 'acknowledg': 3399, 'timon': 3400, 'marshal': 3401, 'mistaken': 3402, 'solo': 3403, 'domest': 3404, 'jeffrey': 3405, 'infect': 3406, 'saga': 3407, 'prejudic': 3408, 'collaps': 3409, 'mickey': 3410, 'paus': 3411, 'homer': 3412, 'pun': 3413, 'celluloid': 3414, 'repuls': 3415, 'apolog': 3416, 'inan': 3417, 'chest': 3418, 'ginger': 3419, '1996': 3420, 'olivi': 3421, 'undoubtedli': 3422, 'interrupt': 3423, 'gear': 3424, 'sore': 3425, 'coffe': 3426, 'cake': 3427, 'harvey': 3428, 'tribe': 3429, 'promin': 3430, 'coat': 3431, 'leon': 3432, 'assembl': 3433, 'equip': 3434, 'inappropri': 3435, 'hbo': 3436, 'milk': 3437, 'pant': 3438, 'pen': 3439, 'pot': 3440, 'humbl': 3441, 'institut': 3442, 'exot': 3443, 'primari': 3444, 'colleagu': 3445, 'retain': 3446, 'aveng': 3447, 'highest': 3448, 'vulgar': 3449, 'trace': 3450, 'consum': 3451, 'airplan': 3452, 'maggi': 3453, 'furthermor': 3454, 'brooklyn': 3455, 'embrac': 3456, 'devast': 3457, 'florida': 3458, 'instant': 3459, 'jenni': 3460, 'colonel': 3461, 'solut': 3462, 'polanski': 3463, 'bowl': 3464, 'principl': 3465, 'ya': 3466, '1999': 3467, 'cope': 3468, 'gender': 3469, 'disabl': 3470, 'wive': 3471, 'strain': 3472, 'outer': 3473, 'sale': 3474, '3rd': 3475, 'smaller': 3476, 'seduct': 3477, 'poke': 3478, 'linda': 3479, 'dian': 3480, 'descend': 3481, 'rick': 3482, 'dutch': 3483, 'godzilla': 3484, 'illog': 3485, 'predecessor': 3486, 'dud': 3487, 'devoid': 3488, 'cue': 3489, 'bubbl': 3490, 'secondli': 3491, 'dive': 3492, 'beneath': 3493, 'hal': 3494, 'mixtur': 3495, 'glamor': 3496, 'blatant': 3497, 'primarili': 3498, 'inferior': 3499, 'scope': 3500, 'rabbit': 3501, 'vast': 3502, 'yard': 3503, 'gundam': 3504, 'gloriou': 3505, 'lol': 3506, 'museum': 3507, 'alfr': 3508, 'trademark': 3509, 'z': 3510, 'breed': 3511, 'countrysid': 3512, 'pearl': 3513, 'casual': 3514, 'alert': 3515, 'simplist': 3516, 'streep': 3517, 'april': 3518, 'talki': 3519, 'shirley': 3520, 'arab': 3521, 'shelf': 3522, 'disjoint': 3523, 'invas': 3524, 'aggress': 3525, 'garbo': 3526, 'myer': 3527, 'domino': 3528, 'senseless': 3529, 'et': 3530, 'hideou': 3531, 'grinch': 3532, 'obtain': 3533, 'illeg': 3534, 'rendit': 3535, 'sh': 3536, 'loyal': 3537, 'hopeless': 3538, 'acid': 3539, 'robberi': 3540, 'maci': 3541, 'unhappi': 3542, 'stir': 3543, 'oz': 3544, 'hardcor': 3545, 'vanish': 3546, 'robinson': 3547, 'uwe': 3548, 'disgrac': 3549, 'experiment': 3550, 'defens': 3551, 'boom': 3552, 'mail': 3553, 'stellar': 3554, 'slide': 3555, 'mayor': 3556, 'khan': 3557, 'applaud': 3558, 'stack': 3559, 'diana': 3560, 'tempt': 3561, 'fri': 3562, 'dicken': 3563, 'scroog': 3564, 'dismiss': 3565, 'span': 3566, 'emphasi': 3567, 'incomprehens': 3568, 'hartley': 3569, 'wont': 3570, 'grandfath': 3571, 'tenant': 3572, 'declin': 3573, 'topless': 3574, 'spider': 3575, 'amanda': 3576, 'soccer': 3577, 'counter': 3578, 'craze': 3579, 'berlin': 3580, 'rifl': 3581, 'blew': 3582, 'recruit': 3583, 'psychic': 3584, 'resurrect': 3585, 'sympath': 3586, 'wet': 3587, 'goer': 3588, 'sibl': 3589, 'riot': 3590, 'trashi': 3591, 'woo': 3592, 'ethnic': 3593, 'shed': 3594, 'ration': 3595, 'revolt': 3596, 'faster': 3597, 'intim': 3598, 'lumet': 3599, 'bitch': 3600, 'niro': 3601, 'justin': 3602, 'parad': 3603, 'porno': 3604, 'shaw': 3605, 'honesti': 3606, 'weakest': 3607, 'dealer': 3608, 'nephew': 3609, 'ballet': 3610, 'biographi': 3611, 'steam': 3612, 'unreal': 3613, 'farmer': 3614, 'mario': 3615, 'feminist': 3616, 'ensur': 3617, 'hesit': 3618, '00': 3619, 'enlighten': 3620, 'hopper': 3621, 'commend': 3622, 'partial': 3623, 'gap': 3624, 'wheel': 3625, 'choru': 3626, 'slick': 3627, 'rider': 3628, 'immort': 3629, 'patriot': 3630, 'lena': 3631, 'andr': 3632, 'region': 3633, 'worm': 3634, 'jonathan': 3635, 'eager': 3636, 'wendi': 3637, 'sappi': 3638, 'util': 3639, 'owen': 3640, 'charlott': 3641, 'vice': 3642, 'skull': 3643, 'leo': 3644, 'mutant': 3645, 'repress': 3646, 'composit': 3647, 'prequel': 3648, 'properti': 3649, 'morri': 3650, 'hung': 3651, 'victori': 3652, 'similarli': 3653, 'psychopath': 3654, 'sandra': 3655, 'kingdom': 3656, 'confin': 3657, 'wore': 3658, 'snap': 3659, 'safeti': 3660, 'nostalg': 3661, 'franco': 3662, 'blunt': 3663, 'macarthur': 3664, 'strand': 3665, 'drain': 3666, 'rocki': 3667, 'rambl': 3668, 'latin': 3669, 'cg': 3670, 'rope': 3671, 'acquir': 3672, 'valuabl': 3673, 'campbel': 3674, 'despair': 3675, 'snl': 3676, 'pattern': 3677, 'heartbreak': 3678, 'recycl': 3679, 'del': 3680, 'emperor': 3681, 'drum': 3682, 'repli': 3683, 'tad': 3684, 'bergman': 3685, 'bumbl': 3686, 'compens': 3687, 'dalton': 3688, 'thru': 3689, 'speci': 3690, 'nervou': 3691, 'miseri': 3692, 'deed': 3693, '1972': 3694, 'dust': 3695, 'kyle': 3696, 'montana': 3697, 'exit': 3698, 'bonu': 3699, 'compass': 3700, 'whoopi': 3701, 'bow': 3702, 'farrel': 3703, 'hyde': 3704, 'tail': 3705, 'gal': 3706, '35': 3707, 'roth': 3708, 'pour': 3709, 'oppress': 3710, 'radic': 3711, 'romp': 3712, 'rotten': 3713, 'airport': 3714, 'downhil': 3715, 'slug': 3716, 'percept': 3717, 'mistress': 3718, 'martian': 3719, 'rapist': 3720, 'bleed': 3721, 'contempl': 3722, 'tonight': 3723, 'gimmick': 3724, 'orson': 3725, 'olli': 3726, 'da': 3727, 'chess': 3728, 'wacki': 3729, 'carradin': 3730, 'paltrow': 3731, 'belt': 3732, 'pursuit': 3733, 'tackl': 3734, 'arguabl': 3735, 'programm': 3736, '1983': 3737, 'taught': 3738, 'heal': 3739, 'preach': 3740, 'champion': 3741, 'banal': 3742, 'slash': 3743, 'arc': 3744, 'attorney': 3745, 'stilt': 3746, 'mislead': 3747, 'pervert': 3748, 'unpredict': 3749, 'pervers': 3750, 'shelley': 3751, 'dazzl': 3752, 'edgar': 3753, 'tooth': 3754, 'melodi': 3755, 'vengeanc': 3756, 'sensat': 3757, 'vocal': 3758, 'chicken': 3759, 'uplift': 3760, 'raymond': 3761, 'orang': 3762, 'gambl': 3763, 'bela': 3764, 'marti': 3765, 'graham': 3766, 'passeng': 3767, 'closest': 3768, 'poem': 3769, 'mesmer': 3770, 'employe': 3771, 'rubi': 3772, 'plight': 3773, 'cleverli': 3774, 'dixon': 3775, 'franki': 3776, 'tiresom': 3777, 'maid': 3778, 'virginia': 3779, 'conneri': 3780, 'duval': 3781, 'tube': 3782, 'bay': 3783, 'climact': 3784, 'extens': 3785, 'whine': 3786, 'yawn': 3787, 'habit': 3788, 'profan': 3789, 'paranoia': 3790, 'suffic': 3791, 'gerard': 3792, 'numb': 3793, 'swallow': 3794, 'outing': 3795, 'giggl': 3796, 'abraham': 3797, 'quarter': 3798, 'iran': 3799, 'crystal': 3800, '1968': 3801, 'engross': 3802, 'mute': 3803, 'calm': 3804, 'convincingli': 3805, 'monologu': 3806, 'secretli': 3807, 'volum': 3808, 'scottish': 3809, 'lundgren': 3810, 'clone': 3811, 'amitabh': 3812, 'sirk': 3813, 'inject': 3814, 'pokemon': 3815, 'meander': 3816, 'trend': 3817, 'austen': 3818, 'im': 3819, 'spock': 3820, 'expand': 3821, 'fed': 3822, 'taxi': 3823, 'junior': 3824, 'backward': 3825, 'richardson': 3826, 'dispos': 3827, 'underst': 3828, 'nichola': 3829, 'septemb': 3830, 'grotesqu': 3831, 'profess': 3832, 'chicago': 3833, 'bend': 3834, 'plod': 3835, 'ethan': 3836, 'lowest': 3837, 'earl': 3838, 'franci': 3839, 'poetri': 3840, 'linger': 3841, 'frankenstein': 3842, 'abort': 3843, 'surpass': 3844, 'myth': 3845, 'nostalgia': 3846, 'dysfunct': 3847, 'instrument': 3848, 'der': 3849, 'waitress': 3850, 'descent': 3851, 'mundan': 3852, 'tourist': 3853, 'household': 3854, 'econom': 3855, 'compliment': 3856, 'lure': 3857, 'simplic': 3858, 'rant': 3859, 'greedi': 3860, 'rubber': 3861, 'spoke': 3862, 'eugen': 3863, 'literatur': 3864, 'cannon': 3865, 'hum': 3866, 'muddl': 3867, 'catchi': 3868, 'sue': 3869, 'stallon': 3870, 'coast': 3871, 'recognit': 3872, 'mortal': 3873, 'eaten': 3874, 'june': 3875, 'recognis': 3876, 'lang': 3877, 'insur': 3878, 'hello': 3879, 'sissi': 3880, 'crucial': 3881, 'dement': 3882, 'cent': 3883, 'dictat': 3884, 'firstli': 3885, 'alongsid': 3886, 'mankind': 3887, 'stale': 3888, 'molli': 3889, 'furi': 3890, 'phantom': 3891, 'map': 3892, 'flee': 3893, 'occupi': 3894, 'damon': 3895, 'equival': 3896, 'duck': 3897, 'phoni': 3898, 'louis': 3899, 'bacal': 3900, 'deaf': 3901, 'randi': 3902, 'omen': 3903, 'carel': 3904, 'irrelev': 3905, 'lengthi': 3906, 'ashley': 3907, 'newli': 3908, 'loyalti': 3909, 'grayson': 3910, 'freez': 3911, 'damm': 3912, '1973': 3913, 'distinguish': 3914, 'blackmail': 3915, 'daisi': 3916, 'bike': 3917, 'biko': 3918, 'reign': 3919, 'wisdom': 3920, 'onlin': 3921, 'drake': 3922, 'bump': 3923, 'dreari': 3924, 'likewis': 3925, 'rude': 3926, 'buffalo': 3927, 'cyborg': 3928, 'twilight': 3929, 'antwon': 3930, 'heel': 3931, 'rooney': 3932, 'labor': 3933, 'unorigin': 3934, 'approv': 3935, 'boxer': 3936, 'tunnel': 3937, 'ridden': 3938, 'interior': 3939, 'butler': 3940, 'attribut': 3941, 'worn': 3942, 'startl': 3943, 'analysi': 3944, 'sailor': 3945, 'pink': 3946, 'vein': 3947, 'inher': 3948, 'proce': 3949, 'provoc': 3950, 'emphas': 3951, 'barrymor': 3952, 'chronicl': 3953, 'basketbal': 3954, 'keith': 3955, 'incorpor': 3956, 'baddi': 3957, 'nineti': 3958, 'prey': 3959, 'exposur': 3960, 'elm': 3961, 'robbin': 3962, 'meg': 3963, 'er': 3964, 'predat': 3965, 'walsh': 3966, 'improvis': 3967, 'mighti': 3968, 'unrel': 3969, 'underli': 3970, 'degrad': 3971, 'indiffer': 3972, 'simmon': 3973, 'bunni': 3974, 'drift': 3975, 'condemn': 3976, 'hypnot': 3977, 'undeni': 3978, 'nicol': 3979, 'barrel': 3980, 'mormon': 3981, 'substitut': 3982, 'stalker': 3983, 'julian': 3984, 'fleet': 3985, 'belushi': 3986, 'millionair': 3987, 'meyer': 3988, 'othello': 3989, 'carla': 3990, 'errol': 3991, 'watson': 3992, 'priceless': 3993, 'edgi': 3994, 'novak': 3995, 'roof': 3996, 'unawar': 3997, 'enthusiasm': 3998, 'shove': 3999, 'agenda': 4000, 'greed': 4001, 'alison': 4002, 'rukh': 4003, 'palac': 4004, 'disord': 4005, 'hay': 4006, 'lampoon': 4007, 'vital': 4008, 'mtv': 4009, 'nyc': 4010, '3d': 4011, 'warmth': 4012, 'reid': 4013, 'exquisit': 4014, 'marion': 4015, 'dolph': 4016, 'alarm': 4017, 'firm': 4018, 'drip': 4019, 'session': 4020, 'championship': 4021, 'iraq': 4022, 'campaign': 4023, 'nun': 4024, 'gestur': 4025, 'ponder': 4026, 'eastern': 4027, 'peck': 4028, '1933': 4029, 'what': 4030, 'peril': 4031, 'crown': 4032, 'testament': 4033, 'israel': 4034, 'randomli': 4035, 'distort': 4036, 'valentin': 4037, 'minimum': 4038, 'unleash': 4039, 'cassidi': 4040, 'preserv': 4041, 'angela': 4042, '13th': 4043, 'simultan': 4044, 'pamela': 4045, 'thompson': 4046, 'showdown': 4047, 'orlean': 4048, 'spain': 4049, 'petti': 4050, 'beatl': 4051, 'glanc': 4052, 'profit': 4053, 'sergeant': 4054, 'coup': 4055, 'zizek': 4056, 'restrain': 4057, 'gentleman': 4058, 'crow': 4059, 'scotland': 4060, 'perpetu': 4061, 'cream': 4062, 'valley': 4063, 'wig': 4064, 'climat': 4065, 'travesti': 4066, 'cooki': 4067, 'jan': 4068, 'regist': 4069, 'stake': 4070, '1984': 4071, 'quinn': 4072, 'realm': 4073, 'empathi': 4074, 'represent': 4075, 'unimagin': 4076, 'stroke': 4077, 'contradict': 4078, 'han': 4079, 'brenda': 4080, 'kurosawa': 4081, 'shootout': 4082, 'bro': 4083, 'exposit': 4084, 'rout': 4085, 'sabrina': 4086, 'reson': 4087, 'crawl': 4088, 'mon': 4089, 'calib': 4090, 'buster': 4091, 'miyazaki': 4092, 'din': 4093, 'fido': 4094, 'greg': 4095, 'traumat': 4096, 'wax': 4097, 'delic': 4098, 'josh': 4099, 'unseen': 4100, 'shaki': 4101, 'passabl': 4102, 'fuller': 4103, 'pretens': 4104, 'derang': 4105, 'darren': 4106, 'ross': 4107, '1997': 4108, '1987': 4109, 'compromis': 4110, 'meryl': 4111, 'distress': 4112, 'sucker': 4113, 'baldwin': 4114, 'tacki': 4115, 'dana': 4116, 'pole': 4117, 'stargat': 4118, 'businessman': 4119, 'absent': 4120, 'femm': 4121, 'cloud': 4122, 'crawford': 4123, 'warrant': 4124, 'demis': 4125, 'mclaglen': 4126, 'monoton': 4127, 'painter': 4128, 'sammi': 4129, 'unsatisfi': 4130, 'spacey': 4131, 'abomin': 4132, 'shoddi': 4133, 'censor': 4134, 'perceiv': 4135, 'soderbergh': 4136, 'geek': 4137, 'ustinov': 4138, 'tarantino': 4139, 'seal': 4140, 'polici': 4141, 'jewel': 4142, 'dee': 4143, 'fog': 4144, 'anchor': 4145, 'sid': 4146, 'expedit': 4147, '1993': 4148, 'tech': 4149, 'clash': 4150, 'exclus': 4151, 'judgment': 4152, 'verbal': 4153, 'kumar': 4154, 'antonioni': 4155, 'primit': 4156, 'wholli': 4157, 'accuraci': 4158, 'austin': 4159, 'click': 4160, 'unravel': 4161, 'nathan': 4162, 'fenc': 4163, 'deceas': 4164, 'furiou': 4165, 'deniro': 4166, 'uncov': 4167, 'correctli': 4168, 'reluct': 4169, 'valid': 4170, 'norm': 4171, 'hallucin': 4172, 'seldom': 4173, 'debt': 4174, 'pocket': 4175, '2008': 4176, 'sunni': 4177, 'wang': 4178, 'dreck': 4179, 'temper': 4180, 'fabric': 4181, 'unfair': 4182, 'tax': 4183, 'ritual': 4184, 'fought': 4185, '1971': 4186, 'wretch': 4187, 'patienc': 4188, 'logan': 4189, 'clerk': 4190, 'darn': 4191, '3000': 4192, 'crippl': 4193, 'conduct': 4194, 'sheet': 4195, 'murray': 4196, 'alec': 4197, 'mode': 4198, 'enforc': 4199, 'shanghai': 4200, 'slam': 4201, 'trait': 4202, 'behold': 4203, 'roller': 4204, '1995': 4205, 'sustain': 4206, 'sand': 4207, 'joel': 4208, 'fart': 4209, 'vanc': 4210, 'nicola': 4211, 'malon': 4212, 'bake': 4213, 'grief': 4214, 'penni': 4215, 'clau': 4216, 'isabel': 4217, 'schedul': 4218, 'squad': 4219, 'sweep': 4220, 'guitar': 4221, 'pete': 4222, 'stark': 4223, 'despis': 4224, 'tactic': 4225, 'soup': 4226, 'technicolor': 4227, 'scriptwrit': 4228, 'phil': 4229, 'helpless': 4230, 'critiqu': 4231, 'exhaust': 4232, 'outlin': 4233, 'fundament': 4234, 'legaci': 4235, 'shell': 4236, 'runner': 4237, 'stuart': 4238, 'conscious': 4239, 'divid': 4240, 'canyon': 4241, 'rita': 4242, 'preposter': 4243, 'bridget': 4244, 'preston': 4245, 'robber': 4246, 'bias': 4247, 'sniper': 4248, 'alley': 4249, 'unexpectedli': 4250, 'liberti': 4251, 'sentinel': 4252, 'invad': 4253, 'restrict': 4254, 'sugar': 4255, 'inabl': 4256, 'gregori': 4257, 'connor': 4258, 'passag': 4259, 'consciou': 4260, 'delv': 4261, 'newman': 4262, 'culmin': 4263, 'kansa': 4264, 'marc': 4265, 'agenc': 4266, 'implic': 4267, 'palanc': 4268, 'lacklust': 4269, 'cigarett': 4270, 'bloom': 4271, 'flair': 4272, 'downey': 4273, 'rehash': 4274, 'vomit': 4275, 'russia': 4276, 'jacket': 4277, 'alicia': 4278, 'boyl': 4279, 'drove': 4280, 'rear': 4281, 'jodi': 4282, 'propos': 4283, 'tendenc': 4284, 'mccoy': 4285, 'behaviour': 4286, 'lush': 4287, 'karl': 4288, 'cap': 4289, 'chainsaw': 4290, 'awhil': 4291, 'tripe': 4292, 'yeti': 4293, 'rampag': 4294, 'horn': 4295, 'rehears': 4296, 'feat': 4297, 'vet': 4298, 'arrow': 4299, 'ladder': 4300, '22': 4301, 'sharon': 4302, 'aesthet': 4303, 'asylum': 4304, 'rod': 4305, 'delet': 4306, 'wrench': 4307, 'foxx': 4308, '1936': 4309, 'bacon': 4310, 'improb': 4311, 'pale': 4312, 'kolchak': 4313, 'globe': 4314, 'loneli': 4315, 'shortcom': 4316, '1978': 4317, 'amazon': 4318, 'rhythm': 4319, 'newcom': 4320, 'basing': 4321, 'conscienc': 4322, 'aristocrat': 4323, 'paradis': 4324, 'filler': 4325, 'thunderbird': 4326, '19th': 4327, 'hackney': 4328, 'el': 4329, 'tasteless': 4330, 'rumor': 4331, 'prank': 4332, 'visitor': 4333, 'weav': 4334, 'suspicion': 4335, 'suffici': 4336, 'hungri': 4337, '1988': 4338, 'hulk': 4339, 'fright': 4340, 'financ': 4341, 'wildli': 4342, 'paramount': 4343, 'lurk': 4344, 'spice': 4345, 'minu': 4346, 'scoop': 4347, '1920': 4348, 'stream': 4349, 'coaster': 4350, 'elit': 4351, 'tomorrow': 4352, 'sung': 4353, 'wagner': 4354, 'underneath': 4355, 'cancer': 4356, 'counterpart': 4357, 'quietli': 4358, 'grudg': 4359, 'ingeni': 4360, 'dirt': 4361, 'ram': 4362, 'bread': 4363, 'immers': 4364, '1939': 4365, 'beverli': 4366, 'worship': 4367, 'smell': 4368, 'abrupt': 4369, 'posey': 4370, 'brit': 4371, 'minist': 4372, 'couch': 4373, '1989': 4374, 'entranc': 4375, 'chamberlain': 4376, 'en': 4377, 'straightforward': 4378, 'leigh': 4379, 'choppi': 4380, 'impos': 4381, 'rub': 4382, 'inmat': 4383, 'tierney': 4384, '75': 4385, 'iv': 4386, 'hopkin': 4387, 'heist': 4388, 'penn': 4389, 'teas': 4390, 'recogniz': 4391, 'naughti': 4392, 'standout': 4393, 'literari': 4394, 'secondari': 4395, 'lectur': 4396, 'paxton': 4397, 'atroc': 4398, 'springer': 4399, 'curli': 4400, 'chavez': 4401, 'wwe': 4402, 'convert': 4403, '1986': 4404, 'attenborough': 4405, 'clan': 4406, 'sublim': 4407, 'laurenc': 4408, 'moreov': 4409, 'skeptic': 4410, 'sassi': 4411, 'nolan': 4412, 'quaid': 4413, 'transcend': 4414, 'variat': 4415, 'misguid': 4416, 'entitl': 4417, 'duel': 4418, 'policeman': 4419, 'ace': 4420, 'heartfelt': 4421, 'bernard': 4422, 'morbid': 4423, 'missil': 4424, 'net': 4425, 'cattl': 4426, 'enthral': 4427, 'yearn': 4428, 'geni': 4429, 'injuri': 4430, 'lindsay': 4431, 'nemesi': 4432, 'esther': 4433, 'watcher': 4434, 'ratso': 4435, 'buzz': 4436, 'enabl': 4437, 'obstacl': 4438, 'puppi': 4439, 'kitti': 4440, 'reliabl': 4441, 'spiral': 4442, 'out': 4443, 'unexplain': 4444, 'hopelessli': 4445, '1979': 4446, 'graini': 4447, 'dont': 4448, 'tyler': 4449, 'youngest': 4450, 'rosemari': 4451, 'artsi': 4452, 'poe': 4453, 'diari': 4454, 'hk': 4455, 'uncut': 4456, 'vader': 4457, 'steadi': 4458, 'grin': 4459, 'mytholog': 4460, 'cruelti': 4461, 'facil': 4462, 'moder': 4463, 'bean': 4464, 'egg': 4465, 'bye': 4466, 'characteris': 4467, 'kidman': 4468, 'brood': 4469, 'setup': 4470, 'carlito': 4471, 'brendan': 4472, 'decept': 4473, 'clueless': 4474, 'despic': 4475, 'gillian': 4476, '1969': 4477, 'patricia': 4478, 'exterior': 4479, 'fuel': 4480, 'acquaint': 4481, 'narrow': 4482, 'kline': 4483, 'weather': 4484, 'effici': 4485, 'underworld': 4486, 'baffl': 4487, 'oblig': 4488, 'heap': 4489, 'athlet': 4490, 'spontan': 4491, 'martha': 4492, 'sweat': 4493, 'hammi': 4494, 'gina': 4495, 'hain': 4496, 'christin': 4497, 'disastr': 4498, 'bewar': 4499, 'bounc': 4500, 'bronson': 4501, 'niec': 4502, 'preming': 4503, 'outlaw': 4504, 'sleepwalk': 4505, 'preachi': 4506, 'goof': 4507, 'fontain': 4508, 'enlist': 4509, 'tick': 4510, 'astound': 4511, '73': 4512, 'loath': 4513, 'dilemma': 4514, 'insipid': 4515, 'virtu': 4516, 'rome': 4517, 'headach': 4518, 'loi': 4519, 'mayhem': 4520, 'analyz': 4521, 'lester': 4522, 'angst': 4523, 'shatter': 4524, 'scar': 4525, 'circu': 4526, 'candl': 4527, 'harmless': 4528, 'injur': 4529, '19': 4530, 'biker': 4531, 'hepburn': 4532, 'renaiss': 4533, 'sooner': 4534, 'trigger': 4535, 'taboo': 4536, 'suprem': 4537, 'housewif': 4538, 'dandi': 4539, 'viewpoint': 4540, 'mermaid': 4541, 'uh': 4542, 'phenomenon': 4543, 'glorifi': 4544, 'corbett': 4545, 'cassavet': 4546, 'amor': 4547, 'spade': 4548, 'tripl': 4549, 'boston': 4550, 'guin': 4551, 'idol': 4552, 'intric': 4553, 'stimul': 4554, 'slimi': 4555, 'surgeri': 4556, 'macho': 4557, 'fluff': 4558, 'steer': 4559, 'ebert': 4560, 'stair': 4561, 'camcord': 4562, 'dismal': 4563, 'dish': 4564, 'foolish': 4565, 'oldest': 4566, 'contempt': 4567, 'gere': 4568, 'hokey': 4569, 'redund': 4570, 'zoom': 4571, 'salt': 4572, 'hooker': 4573, 'hostag': 4574, 'claustrophob': 4575, 'overlong': 4576, 'whore': 4577, 'bent': 4578, 'filth': 4579, 'immatur': 4580, 'ariel': 4581, 'sox': 4582, 'scorses': 4583, 'cush': 4584, 'preced': 4585, 'flashi': 4586, 'trivia': 4587, 'muscl': 4588, 'flag': 4589, 'flirt': 4590, 'assert': 4591, 'margin': 4592, 'naschi': 4593, 'rhyme': 4594, 'strongest': 4595, 'cow': 4596, 'gasp': 4597, '1981': 4598, 'dwarf': 4599, 'shred': 4600, 'gabl': 4601, 'keen': 4602, 'nolt': 4603, 'mount': 4604, 'corman': 4605, 'obligatori': 4606, 'widescreen': 4607, 'schlock': 4608, 'proport': 4609, 'fascist': 4610, 'perman': 4611, 'radiat': 4612, 'harold': 4613, 'remad': 4614, 'faint': 4615, 'cohen': 4616, 'spree': 4617, 'transplant': 4618, 'mutual': 4619, 'frantic': 4620, 'conquer': 4621, 'joker': 4622, '1976': 4623, 'astronaut': 4624, 'down': 4625, 'shield': 4626, 'beard': 4627, 'messi': 4628, 'antagonist': 4629, 'spinal': 4630, 'alvin': 4631, 'zane': 4632, 'repris': 4633, 'inflict': 4634, 'resum': 4635, '1945': 4636, 'www': 4637, '95': 4638, 'carey': 4639, 'persuad': 4640, 'sensual': 4641, 'boob': 4642, 'instruct': 4643, 'bachelor': 4644, 'vaniti': 4645, 'barn': 4646, 'brush': 4647, 'aborigin': 4648, 'ritchi': 4649, 'flock': 4650, 'divin': 4651, 'discern': 4652, 'fishburn': 4653, 'bitten': 4654, 'interestingli': 4655, 'strive': 4656, 'someday': 4657, 'archiv': 4658, 'departur': 4659, 'neurot': 4660, 'info': 4661, 'claud': 4662, 'mobil': 4663, 'mol': 4664, 'wield': 4665, 'hara': 4666, 'deer': 4667, 'off': 4668, '28': 4669, 'raj': 4670, 'scandal': 4671, 'triangl': 4672, 'danish': 4673, 'dame': 4674, 'cb': 4675, 'hilar': 4676, 'melissa': 4677, 'mobster': 4678, 'submit': 4679, 'parson': 4680, 'cycl': 4681, 'kathryn': 4682, 'pacif': 4683, 'dim': 4684, 'clad': 4685, 'prophet': 4686, 'colin': 4687, 'earnest': 4688, 'neill': 4689, 'heartwarm': 4690, 'casino': 4691, 'luka': 4692, 'undermin': 4693, 'artwork': 4694, 'proclaim': 4695, 'ish': 4696, 'cliffhang': 4697, 'biblic': 4698, 'senior': 4699, 'helm': 4700, 'hug': 4701, 'banter': 4702, 'harrison': 4703, 'axe': 4704, 'pixar': 4705, 'miracul': 4706, 'traffic': 4707, 'europa': 4708, 'carlo': 4709, 'dylan': 4710, 'pickford': 4711, 'loretta': 4712, 'hapless': 4713, 'recit': 4714, 'jade': 4715, 'fragil': 4716, 'vibrant': 4717, 'rot': 4718, 'anton': 4719, 'wendigo': 4720, 'bate': 4721, 'timberlak': 4722, 'cher': 4723, 'frontier': 4724, 'electron': 4725, 'antholog': 4726, 'illus': 4727, 'orphan': 4728, 'http': 4729, 'articl': 4730, 'misfortun': 4731, 'feast': 4732, 'holocaust': 4733, 'toronto': 4734, 'seedi': 4735, 'breakfast': 4736, 'razor': 4737, 'bikini': 4738, 'static': 4739, 'uma': 4740, 'venom': 4741, 'bondag': 4742, 'sicken': 4743, 'aris': 4744, 'vile': 4745, 'northern': 4746, 'akin': 4747, 'isra': 4748, 'jordan': 4749, 'pc': 4750, 'estrang': 4751, 'choke': 4752, 'rooki': 4753, 'mason': 4754, 'nope': 4755, 'milo': 4756, 'eli': 4757, 'cerebr': 4758, 'lucil': 4759, 'shepherd': 4760, 'lui': 4761, 'jo': 4762, 'blatantli': 4763, 'flavor': 4764, 'vanessa': 4765, 'foil': 4766, 'winchest': 4767, 'token': 4768, 'redneck': 4769, 'marlon': 4770, 'trier': 4771, 'legitim': 4772, 'wardrob': 4773, 'mathieu': 4774, 'alexandr': 4775, 'styliz': 4776, 'comprehend': 4777, 'knightley': 4778, 'wrestler': 4779, 'nightclub': 4780, 'magician': 4781, 'huston': 4782, 'shorter': 4783, 'linear': 4784, 'swept': 4785, 'fifth': 4786, 'retriev': 4787, 'abund': 4788, 'psych': 4789, 'glare': 4790, 'charlton': 4791, 'disregard': 4792, 'frog': 4793, 'highway': 4794, 'smack': 4795, 'turd': 4796, 'oppon': 4797, 'tack': 4798, 'deem': 4799, 'feminin': 4800, 'ceremoni': 4801, 'cartoonish': 4802, 'peer': 4803, 'boyer': 4804, 'gilbert': 4805, 'outdat': 4806, 'leather': 4807, 'ideolog': 4808, 'dudley': 4809, 'affleck': 4810, 'howl': 4811, 'audrey': 4812, 'clinic': 4813, 'gunga': 4814, 'breakdown': 4815, 'lifeless': 4816, 'cemeteri': 4817, 'bastard': 4818, 'moe': 4819, 'braveheart': 4820, 'collector': 4821, 'uniformli': 4822, 'sleaz': 4823, 'einstein': 4824, 'evolut': 4825, 'client': 4826, 'durat': 4827, 'snatch': 4828, 'corn': 4829, 'chip': 4830, 'compris': 4831, 'senat': 4832, 'cuban': 4833, 'tara': 4834, 'conrad': 4835, 'plate': 4836, 'phenomen': 4837, 'summar': 4838, 'lighter': 4839, 'btw': 4840, '1994': 4841, 'lavish': 4842, 'potter': 4843, '4th': 4844, 'newer': 4845, 'bogu': 4846, 'toe': 4847, 'whack': 4848, 'energet': 4849, 'goldsworthi': 4850, 'salman': 4851, 'spawn': 4852, '1991': 4853, 'greet': 4854, 'deliver': 4855, 'monument': 4856, 'mitch': 4857, 'boo': 4858, 'spine': 4859, 'occup': 4860, 'alleg': 4861, 'appl': 4862, 'trauma': 4863, 'capot': 4864, 'replay': 4865, 'signal': 4866, 'armstrong': 4867, 'historian': 4868, 'wtf': 4869, 'ie': 4870, '1974': 4871, 'outright': 4872, 'gilliam': 4873, 'embark': 4874, 'jare': 4875, 'sorrow': 4876, 'constitut': 4877, 'belli': 4878, 'jule': 4879, 'inaccuraci': 4880, '1977': 4881, 'kent': 4882, 'pronounc': 4883, 'jam': 4884, 'healthi': 4885, 'clara': 4886, 'kazan': 4887, 'jedi': 4888, 'fluid': 4889, 'ol': 4890, 'cecil': 4891, 'luxuri': 4892, 'bori': 4893, 'undead': 4894, 'judd': 4895, 'liu': 4896, 'creek': 4897, 'lex': 4898, 'spectacl': 4899, 'firmli': 4900, 'randolph': 4901, 'mcqueen': 4902, 'eleven': 4903, 'undertak': 4904, 'bulk': 4905, 'neatli': 4906, 'nina': 4907, 'evelyn': 4908, 'spray': 4909, 'porter': 4910, 'carmen': 4911, 'inaccur': 4912, '1985': 4913, 'truman': 4914, 'knee': 4915, 'galaxi': 4916, 'groan': 4917, 'propheci': 4918, 'unattract': 4919, 'subtli': 4920, 'congratul': 4921, 'unsuspect': 4922, 'comprehens': 4923, 'tokyo': 4924, 'basket': 4925, 'sidewalk': 4926, 'curtain': 4927, 'roar': 4928, 'cape': 4929, 'rosario': 4930, 'goldblum': 4931, 'conan': 4932, 'forgiven': 4933, 'inclus': 4934, 'vignett': 4935, 'miami': 4936, 'pioneer': 4937, 'bsg': 4938, 'palm': 4939, 'fruit': 4940, 'lauren': 4941, 'meal': 4942, 'paula': 4943, 'lanc': 4944, 'genet': 4945, 'antonio': 4946, 'ash': 4947, 'miniseri': 4948, 'relentless': 4949, 'mum': 4950, 'aussi': 4951, 'abound': 4952, 'bait': 4953, 'poker': 4954, 'blur': 4955, 'decapit': 4956, 'sacrif': 4957, 'vain': 4958, 'kiddi': 4959, 'id': 4960, 'comb': 4961, 'walt': 4962, 'pepper': 4963, 'playboy': 4964, 'substanti': 4965, 'ingrid': 4966, 'rapidli': 4967, 'monti': 4968, 'weaker': 4969, 'victorian': 4970, 'growth': 4971, 'weari': 4972, 'evan': 4973, 'sophi': 4974, 'optimist': 4975, 'assort': 4976, 'drone': 4977, 'verg': 4978, 'ghetto': 4979, 'sparkl': 4980, 'handicap': 4981, 'spill': 4982, 'omin': 4983, 'hackman': 4984, 'masterson': 4985, 'vastli': 4986, 'hostil': 4987, 'orchestr': 4988, 'detach': 4989, 'epitom': 4990, 'incorrect': 4991, 'reincarn': 4992, 'asset': 4993, 'modest': 4994, 'bravo': 4995, 'scariest': 4996, 'profil': 4997, 'jill': 4998, 'cypher': 4999}\n"
     ]
    }
   ],
   "source": [
    "word_dict = build_dict(train_X)\n",
    "print(word_dict)\n"
   ]
  },
  {
   "cell_type": "markdown",
   "metadata": {},
   "source": [
    "**Question:** What are the five most frequently appearing (tokenized) words in the training set? Does it makes sense that these words appear frequently in the training set?"
   ]
  },
  {
   "cell_type": "markdown",
   "metadata": {},
   "source": [
    "**Answer:**\n",
    "The 5 most frequently appearing words are:\n",
    "1 ('movi', 51695)\n",
    "2 ('film', 48190)\n",
    "3 ('one', 27741)\n",
    "4 ('like', 22799)\n",
    "5 ('time', 16191)\n",
    "\n",
    "It makes sense that these words appear most frequently in the dataset as that is the context the IMDB data was based upon. However, except for the word 'like', most of these words provide little insight into the sentiment shared by the reviewers. A more insightful learning expereince can be acheived by filtering these high frequency, low value words out of the tokenized data before progressing with the learning process."
   ]
  },
  {
   "cell_type": "code",
   "execution_count": 16,
   "metadata": {},
   "outputs": [
    {
     "name": "stdout",
     "output_type": "stream",
     "text": [
      "The 5 Top most apprearing words in the training set are:\n",
      "1 movi\n",
      "2 film\n",
      "3 one\n",
      "4 like\n",
      "5 time\n"
     ]
    }
   ],
   "source": [
    "# TODO: Use this space to determine the five most frequently appearing words in the training set.\n",
    "# get the five most frequently appearing words in the training set by accessing the first 5 entries in the sorted\n",
    "#dictionary returned by the build_dict\n",
    "my_list = list()\n",
    "for i in word_dict.keys():\n",
    "    my_list.append(i)\n",
    "print('The 5 Top most apprearing words in the training set are:')\n",
    "for j in range(5):\n",
    "    print('{} {}'.format(j+1,my_list[j]))"
   ]
  },
  {
   "cell_type": "markdown",
   "metadata": {},
   "source": [
    "### Save `word_dict`\n",
    "\n",
    "Later on when we construct an endpoint which processes a submitted review we will need to make use of the `word_dict` which we have created. As such, we will save it to a file now for future use."
   ]
  },
  {
   "cell_type": "code",
   "execution_count": 17,
   "metadata": {},
   "outputs": [],
   "source": [
    "data_dir = '../data/pytorch' # The folder we will use for storing data\n",
    "if not os.path.exists(data_dir): # Make sure that the folder exists\n",
    "    os.makedirs(data_dir)"
   ]
  },
  {
   "cell_type": "code",
   "execution_count": 18,
   "metadata": {},
   "outputs": [],
   "source": [
    "with open(os.path.join(data_dir, 'word_dict.pkl'), \"wb\") as f:\n",
    "    pickle.dump(word_dict, f)"
   ]
  },
  {
   "cell_type": "markdown",
   "metadata": {},
   "source": [
    "### Transform the reviews\n",
    "\n",
    "Now that we have our word dictionary which allows us to transform the words appearing in the reviews into integers, it is time to make use of it and convert our reviews to their integer sequence representation, making sure to pad or truncate to a fixed length, which in our case is `500`."
   ]
  },
  {
   "cell_type": "code",
   "execution_count": 19,
   "metadata": {},
   "outputs": [],
   "source": [
    "def convert_and_pad(word_dict, sentence, pad=500):\n",
    "    NOWORD = 0 # We will use 0 to represent the 'no word' category\n",
    "    INFREQ = 1 # and we use 1 to represent the infrequent words, i.e., words not appearing in word_dict\n",
    "    \n",
    "    working_sentence = [NOWORD] * pad\n",
    "    \n",
    "    for word_index, word in enumerate(sentence[:pad]):\n",
    "        if word in word_dict:\n",
    "            working_sentence[word_index] = word_dict[word]\n",
    "        else:\n",
    "            working_sentence[word_index] = INFREQ\n",
    "            \n",
    "    return working_sentence, min(len(sentence), pad)\n",
    "\n",
    "def convert_and_pad_data(word_dict, data, pad=500):\n",
    "    result = []\n",
    "    lengths = []\n",
    "    \n",
    "    for sentence in data:\n",
    "        converted, leng = convert_and_pad(word_dict, sentence, pad)\n",
    "        result.append(converted)\n",
    "        lengths.append(leng)\n",
    "        \n",
    "    return np.array(result), np.array(lengths)"
   ]
  },
  {
   "cell_type": "code",
   "execution_count": 20,
   "metadata": {},
   "outputs": [],
   "source": [
    "train_X, train_X_len = convert_and_pad_data(word_dict, train_X)\n",
    "test_X, test_X_len = convert_and_pad_data(word_dict, test_X)"
   ]
  },
  {
   "cell_type": "markdown",
   "metadata": {},
   "source": [
    "As a quick check to make sure that things are working as intended, check to see what one of the reviews in the training set looks like after having been processeed. Does this look reasonable? What is the length of a review in the training set?"
   ]
  },
  {
   "cell_type": "code",
   "execution_count": 21,
   "metadata": {},
   "outputs": [
    {
     "data": {
      "text/plain": [
       "array([   3,  658,  137,   17,  343,    9,   29,    7,   24, 3219, 3007,\n",
       "        922, 2362,  463,    1,   81,   30,   53,   35,   56,  143,  143,\n",
       "         81, 3330, 3295, 1696,  147, 1219,    1,   40,   81,  137,  452,\n",
       "        524,  175,  139,  262,  413,  575, 1263,    1,    1, 2730, 4095,\n",
       "          1,  189, 1074,  290, 2599,   17,   43, 2599,    1, 2502, 1296,\n",
       "         95,   22,  317,    1,   57,    7,   43,    7,   40,   33,   57,\n",
       "         97,   66,   64,    0,    0,    0,    0,    0,    0,    0,    0,\n",
       "          0,    0,    0,    0,    0,    0,    0,    0,    0,    0,    0,\n",
       "          0,    0,    0,    0,    0,    0,    0,    0,    0,    0,    0,\n",
       "          0,    0,    0,    0,    0,    0,    0,    0,    0,    0,    0,\n",
       "          0,    0,    0,    0,    0,    0,    0,    0,    0,    0,    0,\n",
       "          0,    0,    0,    0,    0,    0,    0,    0,    0,    0,    0,\n",
       "          0,    0,    0,    0,    0,    0,    0,    0,    0,    0,    0,\n",
       "          0,    0,    0,    0,    0,    0,    0,    0,    0,    0,    0,\n",
       "          0,    0,    0,    0,    0,    0,    0,    0,    0,    0,    0,\n",
       "          0,    0,    0,    0,    0,    0,    0,    0,    0,    0,    0,\n",
       "          0,    0,    0,    0,    0,    0,    0,    0,    0,    0,    0,\n",
       "          0,    0,    0,    0,    0,    0,    0,    0,    0,    0,    0,\n",
       "          0,    0,    0,    0,    0,    0,    0,    0,    0,    0,    0,\n",
       "          0,    0,    0,    0,    0,    0,    0,    0,    0,    0,    0,\n",
       "          0,    0,    0,    0,    0,    0,    0,    0,    0,    0,    0,\n",
       "          0,    0,    0,    0,    0,    0,    0,    0,    0,    0,    0,\n",
       "          0,    0,    0,    0,    0,    0,    0,    0,    0,    0,    0,\n",
       "          0,    0,    0,    0,    0,    0,    0,    0,    0,    0,    0,\n",
       "          0,    0,    0,    0,    0,    0,    0,    0,    0,    0,    0,\n",
       "          0,    0,    0,    0,    0,    0,    0,    0,    0,    0,    0,\n",
       "          0,    0,    0,    0,    0,    0,    0,    0,    0,    0,    0,\n",
       "          0,    0,    0,    0,    0,    0,    0,    0,    0,    0,    0,\n",
       "          0,    0,    0,    0,    0,    0,    0,    0,    0,    0,    0,\n",
       "          0,    0,    0,    0,    0,    0,    0,    0,    0,    0,    0,\n",
       "          0,    0,    0,    0,    0,    0,    0,    0,    0,    0,    0,\n",
       "          0,    0,    0,    0,    0,    0,    0,    0,    0,    0,    0,\n",
       "          0,    0,    0,    0,    0,    0,    0,    0,    0,    0,    0,\n",
       "          0,    0,    0,    0,    0,    0,    0,    0,    0,    0,    0,\n",
       "          0,    0,    0,    0,    0,    0,    0,    0,    0,    0,    0,\n",
       "          0,    0,    0,    0,    0,    0,    0,    0,    0,    0,    0,\n",
       "          0,    0,    0,    0,    0,    0,    0,    0,    0,    0,    0,\n",
       "          0,    0,    0,    0,    0,    0,    0,    0,    0,    0,    0,\n",
       "          0,    0,    0,    0,    0,    0,    0,    0,    0,    0,    0,\n",
       "          0,    0,    0,    0,    0,    0,    0,    0,    0,    0,    0,\n",
       "          0,    0,    0,    0,    0,    0,    0,    0,    0,    0,    0,\n",
       "          0,    0,    0,    0,    0,    0,    0,    0,    0,    0,    0,\n",
       "          0,    0,    0,    0,    0,    0,    0,    0,    0,    0,    0,\n",
       "          0,    0,    0,    0,    0,    0,    0,    0,    0,    0,    0,\n",
       "          0,    0,    0,    0,    0,    0,    0,    0,    0,    0,    0,\n",
       "          0,    0,    0,    0,    0])"
      ]
     },
     "execution_count": 21,
     "metadata": {},
     "output_type": "execute_result"
    }
   ],
   "source": [
    "# Use this cell to examine one of the processed reviews to make sure everything is working as intended.\n",
    "train_X[0]"
   ]
  },
  {
   "cell_type": "markdown",
   "metadata": {},
   "source": [
    "**Question:** In the cells above we use the `preprocess_data` and `convert_and_pad_data` methods to process both the training and testing set. Why or why not might this be a problem?"
   ]
  },
  {
   "cell_type": "markdown",
   "metadata": {},
   "source": [
    "**Answer:**\n",
    "The convert_and_pad method ensure that the tokens from each review are limied to 500 therefore limiting the input layer of the neural network.\n",
    "Processing the two dataset using the same routines is not going to be a problem as the learning algortim will only be trained using the training data. Also, as both dataset will be passed into the learning algorithm at one point or another, it is good to ensure that both dataset       have been processed in a uniform manner to avoid errors in the code."
   ]
  },
  {
   "cell_type": "markdown",
   "metadata": {},
   "source": [
    "## Step 3: Upload the data to S3\n",
    "\n",
    "As in the XGBoost notebook, we will need to upload the training dataset to S3 in order for our training code to access it. For now we will save it locally and we will upload to S3 later on.\n",
    "\n",
    "### Save the processed training dataset locally\n",
    "\n",
    "It is important to note the format of the data that we are saving as we will need to know it when we write the training code. In our case, each row of the dataset has the form `label`, `length`, `review[500]` where `review[500]` is a sequence of `500` integers representing the words in the review."
   ]
  },
  {
   "cell_type": "code",
   "execution_count": 22,
   "metadata": {},
   "outputs": [],
   "source": [
    "import pandas as pd\n",
    "    \n",
    "pd.concat([pd.DataFrame(train_y), pd.DataFrame(train_X_len), pd.DataFrame(train_X)], axis=1) \\\n",
    "        .to_csv(os.path.join(data_dir, 'train.csv'), header=False, index=False)"
   ]
  },
  {
   "cell_type": "markdown",
   "metadata": {},
   "source": [
    "### Uploading the training data\n",
    "\n",
    "\n",
    "Next, we need to upload the training data to the SageMaker default S3 bucket so that we can provide access to it while training our model."
   ]
  },
  {
   "cell_type": "code",
   "execution_count": 23,
   "metadata": {},
   "outputs": [],
   "source": [
    "import sagemaker\n",
    "\n",
    "sagemaker_session = sagemaker.Session()\n",
    "\n",
    "bucket = sagemaker_session.default_bucket()\n",
    "prefix = 'sagemaker/sentiment_rnn'\n",
    "\n",
    "role = sagemaker.get_execution_role()"
   ]
  },
  {
   "cell_type": "code",
   "execution_count": 24,
   "metadata": {},
   "outputs": [],
   "source": [
    "input_data = sagemaker_session.upload_data(path=data_dir, bucket=bucket, key_prefix=prefix)"
   ]
  },
  {
   "cell_type": "markdown",
   "metadata": {},
   "source": [
    "**NOTE:** The cell above uploads the entire contents of our data directory. This includes the `word_dict.pkl` file. This is fortunate as we will need this later on when we create an endpoint that accepts an arbitrary review. For now, we will just take note of the fact that it resides in the data directory (and so also in the S3 training bucket) and that we will need to make sure it gets saved in the model directory."
   ]
  },
  {
   "cell_type": "markdown",
   "metadata": {},
   "source": [
    "## Step 4: Build and Train the PyTorch Model\n",
    "\n",
    "In the XGBoost notebook we discussed what a model is in the SageMaker framework. In particular, a model comprises three objects\n",
    "\n",
    " - Model Artifacts,\n",
    " - Training Code, and\n",
    " - Inference Code,\n",
    " \n",
    "each of which interact with one another. In the XGBoost example we used training and inference code that was provided by Amazon. Here we will still be using containers provided by Amazon with the added benefit of being able to include our own custom code.\n",
    "\n",
    "We will start by implementing our own neural network in PyTorch along with a training script. For the purposes of this project we have provided the necessary model object in the `model.py` file, inside of the `train` folder. You can see the provided implementation by running the cell below."
   ]
  },
  {
   "cell_type": "code",
   "execution_count": 25,
   "metadata": {},
   "outputs": [
    {
     "name": "stdout",
     "output_type": "stream",
     "text": [
      "\u001b[34mimport\u001b[39;49;00m \u001b[04m\u001b[36mtorch.nn\u001b[39;49;00m \u001b[34mas\u001b[39;49;00m \u001b[04m\u001b[36mnn\u001b[39;49;00m\r\n",
      "\r\n",
      "\u001b[34mclass\u001b[39;49;00m \u001b[04m\u001b[32mLSTMClassifier\u001b[39;49;00m(nn.Module):\r\n",
      "    \u001b[33m\"\"\"\u001b[39;49;00m\r\n",
      "\u001b[33m    This is the simple RNN model we will be using to perform Sentiment Analysis.\u001b[39;49;00m\r\n",
      "\u001b[33m    \"\"\"\u001b[39;49;00m\r\n",
      "\r\n",
      "    \u001b[34mdef\u001b[39;49;00m \u001b[32m__init__\u001b[39;49;00m(\u001b[36mself\u001b[39;49;00m, embedding_dim, hidden_dim, vocab_size):\r\n",
      "        \u001b[33m\"\"\"\u001b[39;49;00m\r\n",
      "\u001b[33m        Initialize the model by settingg up the various layers.\u001b[39;49;00m\r\n",
      "\u001b[33m        \"\"\"\u001b[39;49;00m\r\n",
      "        \u001b[36msuper\u001b[39;49;00m(LSTMClassifier, \u001b[36mself\u001b[39;49;00m).\u001b[32m__init__\u001b[39;49;00m()\r\n",
      "\r\n",
      "        \u001b[36mself\u001b[39;49;00m.embedding = nn.Embedding(vocab_size, embedding_dim, padding_idx=\u001b[34m0\u001b[39;49;00m)\r\n",
      "        \u001b[36mself\u001b[39;49;00m.lstm = nn.LSTM(embedding_dim, hidden_dim)\r\n",
      "        \u001b[36mself\u001b[39;49;00m.dense = nn.Linear(in_features=hidden_dim, out_features=\u001b[34m1\u001b[39;49;00m)\r\n",
      "        \u001b[36mself\u001b[39;49;00m.sig = nn.Sigmoid()\r\n",
      "        \r\n",
      "        \u001b[36mself\u001b[39;49;00m.word_dict = \u001b[36mNone\u001b[39;49;00m\r\n",
      "\r\n",
      "    \u001b[34mdef\u001b[39;49;00m \u001b[32mforward\u001b[39;49;00m(\u001b[36mself\u001b[39;49;00m, x):\r\n",
      "        \u001b[33m\"\"\"\u001b[39;49;00m\r\n",
      "\u001b[33m        Perform a forward pass of our model on some input.\u001b[39;49;00m\r\n",
      "\u001b[33m        \"\"\"\u001b[39;49;00m\r\n",
      "        x = x.t()\r\n",
      "        lengths = x[\u001b[34m0\u001b[39;49;00m,:]\r\n",
      "        reviews = x[\u001b[34m1\u001b[39;49;00m:,:]\r\n",
      "        embeds = \u001b[36mself\u001b[39;49;00m.embedding(reviews)\r\n",
      "        lstm_out, _ = \u001b[36mself\u001b[39;49;00m.lstm(embeds)\r\n",
      "        out = \u001b[36mself\u001b[39;49;00m.dense(lstm_out)\r\n",
      "        out = out[lengths - \u001b[34m1\u001b[39;49;00m, \u001b[36mrange\u001b[39;49;00m(\u001b[36mlen\u001b[39;49;00m(lengths))]\r\n",
      "        \u001b[34mreturn\u001b[39;49;00m \u001b[36mself\u001b[39;49;00m.sig(out.squeeze())\r\n"
     ]
    }
   ],
   "source": [
    "!pygmentize train/model.py"
   ]
  },
  {
   "cell_type": "markdown",
   "metadata": {},
   "source": [
    "The important takeaway from the implementation provided is that there are three parameters that we may wish to tweak to improve the performance of our model. These are the embedding dimension, the hidden dimension and the size of the vocabulary. We will likely want to make these parameters configurable in the training script so that if we wish to modify them we do not need to modify the script itself. We will see how to do this later on. To start we will write some of the training code in the notebook so that we can more easily diagnose any issues that arise.\n",
    "\n",
    "First we will load a small portion of the training data set to use as a sample. It would be very time consuming to try and train the model completely in the notebook as we do not have access to a gpu and the compute instance that we are using is not particularly powerful. However, we can work on a small bit of the data to get a feel for how our training script is behaving."
   ]
  },
  {
   "cell_type": "code",
   "execution_count": 26,
   "metadata": {},
   "outputs": [],
   "source": [
    "import torch\n",
    "import torch.utils.data\n",
    "\n",
    "# Read in only the first 250 rows\n",
    "train_sample = pd.read_csv(os.path.join(data_dir, 'train.csv'), header=None, names=None, nrows=250)\n",
    "\n",
    "# Turn the input pandas dataframe into tensors\n",
    "train_sample_y = torch.from_numpy(train_sample[[0]].values).float().squeeze()\n",
    "train_sample_X = torch.from_numpy(train_sample.drop([0], axis=1).values).long()\n",
    "\n",
    "# Build the dataset\n",
    "train_sample_ds = torch.utils.data.TensorDataset(train_sample_X, train_sample_y)\n",
    "# Build the dataloader\n",
    "train_sample_dl = torch.utils.data.DataLoader(train_sample_ds, batch_size=50)"
   ]
  },
  {
   "cell_type": "markdown",
   "metadata": {},
   "source": [
    "### (TODO) Writing the training method\n",
    "\n",
    "Next we need to write the training code itself. This should be very similar to training methods that you have written before to train PyTorch models. We will leave any difficult aspects such as model saving / loading and parameter loading until a little later."
   ]
  },
  {
   "cell_type": "code",
   "execution_count": 27,
   "metadata": {},
   "outputs": [],
   "source": [
    "def train(model, train_loader, epochs, optimizer, loss_fn, device):\n",
    "    for epoch in range(1, epochs + 1):\n",
    "        model.train()\n",
    "        total_loss = 0\n",
    "        for batch in train_loader:         \n",
    "            batch_X, batch_y = batch\n",
    "            \n",
    "            batch_X = batch_X.to(device)\n",
    "            batch_y = batch_y.to(device)\n",
    "            \n",
    "            optimizer.zero_grad()\n",
    "            m_output = model.forward(batch_X)\n",
    "            m_loss = loss_fn(m_output, batch_y)\n",
    "            m_loss.backward()\n",
    "            optimizer.step()            \n",
    "            total_loss += m_loss.data.item()\n",
    "        print(\"Epoch: {}, BCELoss: {}\".format(epoch, total_loss / len(train_loader)))"
   ]
  },
  {
   "cell_type": "markdown",
   "metadata": {},
   "source": [
    "Supposing we have the training method above, we will test that it is working by writing a bit of code in the notebook that executes our training method on the small sample training set that we loaded earlier. The reason for doing this in the notebook is so that we have an opportunity to fix any errors that arise early when they are easier to diagnose."
   ]
  },
  {
   "cell_type": "code",
   "execution_count": 28,
   "metadata": {},
   "outputs": [
    {
     "name": "stdout",
     "output_type": "stream",
     "text": [
      "Epoch: 1, BCELoss: 0.6952213525772095\n",
      "Epoch: 2, BCELoss: 0.6892570614814758\n",
      "Epoch: 3, BCELoss: 0.6845605492591857\n",
      "Epoch: 4, BCELoss: 0.6795224905014038\n",
      "Epoch: 5, BCELoss: 0.6735390067100525\n"
     ]
    }
   ],
   "source": [
    "import torch.optim as optim\n",
    "from train.model import LSTMClassifier\n",
    "\n",
    "device = torch.device(\"cuda\" if torch.cuda.is_available() else \"cpu\")\n",
    "model = LSTMClassifier(32, 100, 5000).to(device)\n",
    "optimizer = optim.Adam(model.parameters())\n",
    "loss_fn = torch.nn.BCELoss()\n",
    "\n",
    "train(model, train_sample_dl, 5, optimizer, loss_fn, device)"
   ]
  },
  {
   "cell_type": "markdown",
   "metadata": {},
   "source": [
    "In order to construct a PyTorch model using SageMaker we must provide SageMaker with a training script. We may optionally include a directory which will be copied to the container and from which our training code will be run. When the training container is executed it will check the uploaded directory (if there is one) for a `requirements.txt` file and install any required Python libraries, after which the training script will be run."
   ]
  },
  {
   "cell_type": "markdown",
   "metadata": {},
   "source": [
    "### (TODO) Training the model\n",
    "\n",
    "When a PyTorch model is constructed in SageMaker, an entry point must be specified. This is the Python file which will be executed when the model is trained. Inside of the `train` directory is a file called `train.py` which has been provided and which contains most of the necessary code to train our model. The only thing that is missing is the implementation of the `train()` method which you wrote earlier in this notebook.\n",
    "\n",
    "**TODO**: Copy the `train()` method written above and paste it into the `train/train.py` file where required.\n",
    "\n",
    "The way that SageMaker passes hyperparameters to the training script is by way of arguments. These arguments can then be parsed and used in the training script. To see how this is done take a look at the provided `train/train.py` file."
   ]
  },
  {
   "cell_type": "code",
   "execution_count": 35,
   "metadata": {},
   "outputs": [],
   "source": [
    "from sagemaker.pytorch import PyTorch\n",
    "\n",
    "estimator = PyTorch(entry_point=\"train.py\",\n",
    "                    source_dir=\"train\",\n",
    "                    role=role,\n",
    "                    framework_version='0.4.0',\n",
    "                    train_instance_count=1,\n",
    "                    #train_instance_type='ml.p2.xlarge',\n",
    "                    train_instance_type='ml.p2.xlarge',\n",
    "                    hyperparameters={\n",
    "                        'epochs': 10,\n",
    "                        'hidden_dim': 200,\n",
    "                    })"
   ]
  },
  {
   "cell_type": "code",
   "execution_count": null,
   "metadata": {
    "scrolled": false
   },
   "outputs": [
    {
     "name": "stdout",
     "output_type": "stream",
     "text": [
      "2019-06-05 22:23:47 Starting - Starting the training job...\n",
      "2019-06-05 22:23:49 Starting - Launching requested ML instances......\n",
      "2019-06-05 22:24:54 Starting - Preparing the instances for training.........\n",
      "2019-06-05 22:26:40 Downloading - Downloading input data\n",
      "2019-06-05 22:26:40 Training - Training image download completed. Training in progress.\n",
      "\u001b[31mbash: cannot set terminal process group (-1): Inappropriate ioctl for device\u001b[0m\n",
      "\u001b[31mbash: no job control in this shell\u001b[0m\n",
      "\u001b[31m2019-06-05 22:26:40,860 sagemaker-containers INFO     Imported framework sagemaker_pytorch_container.training\u001b[0m\n",
      "\u001b[31m2019-06-05 22:26:40,862 sagemaker-containers INFO     No GPUs detected (normal if no gpus installed)\u001b[0m\n",
      "\u001b[31m2019-06-05 22:26:40,875 sagemaker_pytorch_container.training INFO     Block until all host DNS lookups succeed.\u001b[0m\n",
      "\u001b[31m2019-06-05 22:26:43,891 sagemaker_pytorch_container.training INFO     Invoking user training script.\u001b[0m\n",
      "\u001b[31m2019-06-05 22:26:44,104 sagemaker-containers INFO     Module train does not provide a setup.py. \u001b[0m\n",
      "\u001b[31mGenerating setup.py\u001b[0m\n",
      "\u001b[31m2019-06-05 22:26:44,105 sagemaker-containers INFO     Generating setup.cfg\u001b[0m\n",
      "\u001b[31m2019-06-05 22:26:44,105 sagemaker-containers INFO     Generating MANIFEST.in\u001b[0m\n",
      "\u001b[31m2019-06-05 22:26:44,105 sagemaker-containers INFO     Installing module with the following command:\u001b[0m\n",
      "\u001b[31m/usr/bin/python -m pip install -U . -r requirements.txt\u001b[0m\n",
      "\u001b[31mProcessing /opt/ml/code\u001b[0m\n",
      "\u001b[31mCollecting pandas (from -r requirements.txt (line 1))\u001b[0m\n",
      "\u001b[31m  Downloading https://files.pythonhosted.org/packages/74/24/0cdbf8907e1e3bc5a8da03345c23cbed7044330bb8f73bb12e711a640a00/pandas-0.24.2-cp35-cp35m-manylinux1_x86_64.whl (10.0MB)\u001b[0m\n",
      "\u001b[31mCollecting numpy (from -r requirements.txt (line 2))\u001b[0m\n",
      "\u001b[31m  Downloading https://files.pythonhosted.org/packages/bb/ef/d5a21cbc094d3f4d5b5336494dbcc9550b70c766a8345513c7c24ed18418/numpy-1.16.4-cp35-cp35m-manylinux1_x86_64.whl (17.2MB)\u001b[0m\n",
      "\u001b[31mCollecting nltk (from -r requirements.txt (line 3))\u001b[0m\n",
      "\u001b[31m  Downloading https://files.pythonhosted.org/packages/73/56/90178929712ce427ebad179f8dc46c8deef4e89d4c853092bee1efd57d05/nltk-3.4.1.zip (3.1MB)\u001b[0m\n",
      "\u001b[31mCollecting beautifulsoup4 (from -r requirements.txt (line 4))\n",
      "  Downloading https://files.pythonhosted.org/packages/1d/5d/3260694a59df0ec52f8b4883f5d23b130bc237602a1411fa670eae12351e/beautifulsoup4-4.7.1-py3-none-any.whl (94kB)\u001b[0m\n",
      "\u001b[31mCollecting html5lib (from -r requirements.txt (line 5))\n",
      "  Downloading https://files.pythonhosted.org/packages/a5/62/bbd2be0e7943ec8504b517e62bab011b4946e1258842bc159e5dfde15b96/html5lib-1.0.1-py2.py3-none-any.whl (117kB)\u001b[0m\n",
      "\u001b[31mRequirement already satisfied, skipping upgrade: python-dateutil>=2.5.0 in /usr/local/lib/python3.5/dist-packages (from pandas->-r requirements.txt (line 1)) (2.7.5)\u001b[0m\n",
      "\u001b[31mCollecting pytz>=2011k (from pandas->-r requirements.txt (line 1))\n",
      "  Downloading https://files.pythonhosted.org/packages/3d/73/fe30c2daaaa0713420d0382b16fbb761409f532c56bdcc514bf7b6262bb6/pytz-2019.1-py2.py3-none-any.whl (510kB)\u001b[0m\n",
      "\u001b[31mRequirement already satisfied, skipping upgrade: six in /usr/local/lib/python3.5/dist-packages (from nltk->-r requirements.txt (line 3)) (1.11.0)\u001b[0m\n",
      "\u001b[31mCollecting soupsieve>=1.2 (from beautifulsoup4->-r requirements.txt (line 4))\n",
      "  Downloading https://files.pythonhosted.org/packages/b9/a5/7ea40d0f8676bde6e464a6435a48bc5db09b1a8f4f06d41dd997b8f3c616/soupsieve-1.9.1-py2.py3-none-any.whl\u001b[0m\n",
      "\u001b[31mCollecting webencodings (from html5lib->-r requirements.txt (line 5))\n",
      "  Downloading https://files.pythonhosted.org/packages/f4/24/2a3e3df732393fed8b3ebf2ec078f05546de641fe1b667ee316ec1dcf3b7/webencodings-0.5.1-py2.py3-none-any.whl\u001b[0m\n",
      "\u001b[31mBuilding wheels for collected packages: nltk, train\n",
      "  Running setup.py bdist_wheel for nltk: started\n",
      "  Running setup.py bdist_wheel for nltk: finished with status 'done'\n",
      "  Stored in directory: /root/.cache/pip/wheels/97/8a/10/d646015f33c525688e91986c4544c68019b19a473cb33d3b55\n",
      "  Running setup.py bdist_wheel for train: started\u001b[0m\n",
      "\u001b[31m  Running setup.py bdist_wheel for train: finished with status 'done'\n",
      "  Stored in directory: /tmp/pip-ephem-wheel-cache-xw6umx8_/wheels/35/24/16/37574d11bf9bde50616c67372a334f94fa8356bc7164af8ca3\u001b[0m\n",
      "\u001b[31mSuccessfully built nltk train\u001b[0m\n",
      "\u001b[31mInstalling collected packages: numpy, pytz, pandas, nltk, soupsieve, beautifulsoup4, webencodings, html5lib, train\n",
      "  Found existing installation: numpy 1.15.4\n",
      "    Uninstalling numpy-1.15.4:\u001b[0m\n",
      "\u001b[31m      Successfully uninstalled numpy-1.15.4\u001b[0m\n",
      "\u001b[31mSuccessfully installed beautifulsoup4-4.7.1 html5lib-1.0.1 nltk-3.4.1 numpy-1.16.4 pandas-0.24.2 pytz-2019.1 soupsieve-1.9.1 train-1.0.0 webencodings-0.5.1\u001b[0m\n",
      "\u001b[31mYou are using pip version 18.1, however version 19.1.1 is available.\u001b[0m\n",
      "\u001b[31mYou should consider upgrading via the 'pip install --upgrade pip' command.\u001b[0m\n",
      "\u001b[31m2019-06-05 22:26:55,475 sagemaker-containers INFO     No GPUs detected (normal if no gpus installed)\u001b[0m\n",
      "\u001b[31m2019-06-05 22:26:55,489 sagemaker-containers INFO     Invoking user script\n",
      "\u001b[0m\n",
      "\u001b[31mTraining Env:\n",
      "\u001b[0m\n",
      "\u001b[31m{\n",
      "    \"module_dir\": \"s3://sagemaker-us-east-2-327614668005/sagemaker-pytorch-2019-06-05-22-23-47-253/source/sourcedir.tar.gz\",\n",
      "    \"output_intermediate_dir\": \"/opt/ml/output/intermediate\",\n",
      "    \"current_host\": \"algo-1\",\n",
      "    \"job_name\": \"sagemaker-pytorch-2019-06-05-22-23-47-253\",\n",
      "    \"num_gpus\": 0,\n",
      "    \"input_data_config\": {\n",
      "        \"training\": {\n",
      "            \"RecordWrapperType\": \"None\",\n",
      "            \"TrainingInputMode\": \"File\",\n",
      "            \"S3DistributionType\": \"FullyReplicated\"\n",
      "        }\n",
      "    },\n",
      "    \"model_dir\": \"/opt/ml/model\",\n",
      "    \"module_name\": \"train\",\n",
      "    \"user_entry_point\": \"train.py\",\n",
      "    \"network_interface_name\": \"eth0\",\n",
      "    \"num_cpus\": 8,\n",
      "    \"hosts\": [\n",
      "        \"algo-1\"\n",
      "    ],\n",
      "    \"additional_framework_parameters\": {},\n",
      "    \"output_data_dir\": \"/opt/ml/output/data\",\n",
      "    \"framework_module\": \"sagemaker_pytorch_container.training:main\",\n",
      "    \"output_dir\": \"/opt/ml/output\",\n",
      "    \"input_config_dir\": \"/opt/ml/input/config\",\n",
      "    \"hyperparameters\": {\n",
      "        \"hidden_dim\": 200,\n",
      "        \"epochs\": 10\n",
      "    },\n",
      "    \"log_level\": 20,\n",
      "    \"input_dir\": \"/opt/ml/input\",\n",
      "    \"channel_input_dirs\": {\n",
      "        \"training\": \"/opt/ml/input/data/training\"\n",
      "    },\n",
      "    \"resource_config\": {\n",
      "        \"current_host\": \"algo-1\",\n",
      "        \"hosts\": [\n",
      "            \"algo-1\"\n",
      "        ],\n",
      "        \"network_interface_name\": \"eth0\"\n",
      "    }\u001b[0m\n",
      "\u001b[31m}\n",
      "\u001b[0m\n",
      "\u001b[31mEnvironment variables:\n",
      "\u001b[0m\n",
      "\u001b[31mSM_OUTPUT_DATA_DIR=/opt/ml/output/data\u001b[0m\n",
      "\u001b[31mSM_CHANNELS=[\"training\"]\u001b[0m\n",
      "\u001b[31mSM_NUM_GPUS=0\u001b[0m\n",
      "\u001b[31mSM_MODULE_NAME=train\u001b[0m\n",
      "\u001b[31mSM_MODEL_DIR=/opt/ml/model\u001b[0m\n",
      "\u001b[31mSM_MODULE_DIR=s3://sagemaker-us-east-2-327614668005/sagemaker-pytorch-2019-06-05-22-23-47-253/source/sourcedir.tar.gz\u001b[0m\n",
      "\u001b[31mSM_NUM_CPUS=8\u001b[0m\n",
      "\u001b[31mSM_CURRENT_HOST=algo-1\u001b[0m\n",
      "\u001b[31mSM_USER_ARGS=[\"--epochs\",\"10\",\"--hidden_dim\",\"200\"]\u001b[0m\n",
      "\u001b[31mSM_FRAMEWORK_PARAMS={}\u001b[0m\n",
      "\u001b[31mSM_FRAMEWORK_MODULE=sagemaker_pytorch_container.training:main\u001b[0m\n",
      "\u001b[31mSM_TRAINING_ENV={\"additional_framework_parameters\":{},\"channel_input_dirs\":{\"training\":\"/opt/ml/input/data/training\"},\"current_host\":\"algo-1\",\"framework_module\":\"sagemaker_pytorch_container.training:main\",\"hosts\":[\"algo-1\"],\"hyperparameters\":{\"epochs\":10,\"hidden_dim\":200},\"input_config_dir\":\"/opt/ml/input/config\",\"input_data_config\":{\"training\":{\"RecordWrapperType\":\"None\",\"S3DistributionType\":\"FullyReplicated\",\"TrainingInputMode\":\"File\"}},\"input_dir\":\"/opt/ml/input\",\"job_name\":\"sagemaker-pytorch-2019-06-05-22-23-47-253\",\"log_level\":20,\"model_dir\":\"/opt/ml/model\",\"module_dir\":\"s3://sagemaker-us-east-2-327614668005/sagemaker-pytorch-2019-06-05-22-23-47-253/source/sourcedir.tar.gz\",\"module_name\":\"train\",\"network_interface_name\":\"eth0\",\"num_cpus\":8,\"num_gpus\":0,\"output_data_dir\":\"/opt/ml/output/data\",\"output_dir\":\"/opt/ml/output\",\"output_intermediate_dir\":\"/opt/ml/output/intermediate\",\"resource_config\":{\"current_host\":\"algo-1\",\"hosts\":[\"algo-1\"],\"network_interface_name\":\"eth0\"},\"user_entry_point\":\"train.py\"}\u001b[0m\n",
      "\u001b[31mSM_USER_ENTRY_POINT=train.py\u001b[0m\n",
      "\u001b[31mSM_HOSTS=[\"algo-1\"]\u001b[0m\n",
      "\u001b[31mSM_HP_HIDDEN_DIM=200\u001b[0m\n",
      "\u001b[31mSM_NETWORK_INTERFACE_NAME=eth0\u001b[0m\n",
      "\u001b[31mSM_LOG_LEVEL=20\u001b[0m\n",
      "\u001b[31mSM_HPS={\"epochs\":10,\"hidden_dim\":200}\u001b[0m\n",
      "\u001b[31mSM_RESOURCE_CONFIG={\"current_host\":\"algo-1\",\"hosts\":[\"algo-1\"],\"network_interface_name\":\"eth0\"}\u001b[0m\n",
      "\u001b[31mSM_HP_EPOCHS=10\u001b[0m\n",
      "\u001b[31mSM_CHANNEL_TRAINING=/opt/ml/input/data/training\u001b[0m\n",
      "\u001b[31mSM_INPUT_DIR=/opt/ml/input\u001b[0m\n",
      "\u001b[31mSM_OUTPUT_DIR=/opt/ml/output\u001b[0m\n",
      "\u001b[31mSM_OUTPUT_INTERMEDIATE_DIR=/opt/ml/output/intermediate\u001b[0m\n",
      "\u001b[31mPYTHONPATH=/usr/local/bin:/usr/lib/python35.zip:/usr/lib/python3.5:/usr/lib/python3.5/plat-x86_64-linux-gnu:/usr/lib/python3.5/lib-dynload:/usr/local/lib/python3.5/dist-packages:/usr/lib/python3/dist-packages\u001b[0m\n",
      "\u001b[31mSM_INPUT_CONFIG_DIR=/opt/ml/input/config\u001b[0m\n",
      "\u001b[31mSM_INPUT_DATA_CONFIG={\"training\":{\"RecordWrapperType\":\"None\",\"S3DistributionType\":\"FullyReplicated\",\"TrainingInputMode\":\"File\"}}\n",
      "\u001b[0m\n",
      "\u001b[31mInvoking script with the following command:\n",
      "\u001b[0m\n",
      "\u001b[31m/usr/bin/python -m train --epochs 10 --hidden_dim 200\n",
      "\n",
      "\u001b[0m\n",
      "\u001b[31mUsing device cpu.\u001b[0m\n",
      "\u001b[31mGet train data loader.\u001b[0m\n",
      "\u001b[31mModel loaded with embedding_dim 32, hidden_dim 200, vocab_size 5000.\u001b[0m\n"
     ]
    },
    {
     "name": "stdout",
     "output_type": "stream",
     "text": [
      "\u001b[31mEpoch: 1, BCELoss: 0.6664967354463072\u001b[0m\n",
      "\u001b[31mEpoch: 4, BCELoss: 0.4016153003488268\u001b[0m\n",
      "\u001b[31mEpoch: 5, BCELoss: 0.3651546288509758\u001b[0m\n",
      "\u001b[31mEpoch: 6, BCELoss: 0.3428715345810871\u001b[0m\n",
      "\u001b[31mEpoch: 7, BCELoss: 0.3220978403577999\u001b[0m\n",
      "\u001b[31mEpoch: 8, BCELoss: 0.30912704431280796\u001b[0m\n",
      "\u001b[31mEpoch: 9, BCELoss: 0.459031058209283\u001b[0m\n",
      "\u001b[31mEpoch: 10, BCELoss: 0.334176170582674\u001b[0m\n",
      "\u001b[31m2019-06-05 23:27:31,787 sagemaker-containers INFO     Reporting training SUCCESS\u001b[0m\n",
      "\n",
      "2019-06-05 23:27:42 Uploading - Uploading generated training model\n",
      "2019-06-05 23:27:42 Completed - Training job completed\n",
      "Billable seconds: 3681\n"
     ]
    }
   ],
   "source": [
    "estimator.fit({'training': input_data})"
   ]
  },
  {
   "cell_type": "markdown",
   "metadata": {},
   "source": [
    "## Step 5: Testing the model\n",
    "\n",
    "As mentioned at the top of this notebook, we will be testing this model by first deploying it and then sending the testing data to the deployed endpoint. We will do this so that we can make sure that the deployed model is working correctly.\n",
    "\n",
    "## Step 6: Deploy the model for testing\n",
    "\n",
    "Now that we have trained our model, we would like to test it to see how it performs. Currently our model takes input of the form `review_length, review[500]` where `review[500]` is a sequence of `500` integers which describe the words present in the review, encoded using `word_dict`. Fortunately for us, SageMaker provides built-in inference code for models with simple inputs such as this.\n",
    "\n",
    "There is one thing that we need to provide, however, and that is a function which loads the saved model. This function must be called `model_fn()` and takes as its only parameter a path to the directory where the model artifacts are stored. This function must also be present in the python file which we specified as the entry point. In our case the model loading function has been provided and so no changes need to be made.\n",
    "\n",
    "**NOTE**: When the built-in inference code is run it must import the `model_fn()` method from the `train.py` file. This is why the training code is wrapped in a main guard ( ie, `if __name__ == '__main__':` )\n",
    "\n",
    "Since we don't need to change anything in the code that was uploaded during training, we can simply deploy the current model as-is.\n",
    "\n",
    "**NOTE:** When deploying a model you are asking SageMaker to launch an compute instance that will wait for data to be sent to it. As a result, this compute instance will continue to run until *you* shut it down. This is important to know since the cost of a deployed endpoint depends on how long it has been running for.\n",
    "\n",
    "In other words **If you are no longer using a deployed endpoint, shut it down!**\n",
    "\n",
    "**TODO:** Deploy the trained model."
   ]
  },
  {
   "cell_type": "code",
   "execution_count": 45,
   "metadata": {},
   "outputs": [
    {
     "name": "stderr",
     "output_type": "stream",
     "text": [
      "Using already existing model: sagemaker-pytorch-2019-06-05-22-23-47-253\n"
     ]
    },
    {
     "name": "stdout",
     "output_type": "stream",
     "text": [
      "---------------------------------------------------------------------------!"
     ]
    }
   ],
   "source": [
    "# TODO: Deploy the trained model\n",
    "predictor = estimator.deploy(instance_type='ml.p2.xlarge',initial_instance_count = 1)"
   ]
  },
  {
   "cell_type": "markdown",
   "metadata": {},
   "source": [
    "## Step 7 - Use the model for testing\n",
    "\n",
    "Once deployed, we can read in the test data and send it off to our deployed model to get some results. Once we collect all of the results we can determine how accurate our model is."
   ]
  },
  {
   "cell_type": "code",
   "execution_count": 46,
   "metadata": {},
   "outputs": [],
   "source": [
    "test_X = pd.concat([pd.DataFrame(test_X_len), pd.DataFrame(test_X)], axis=1)"
   ]
  },
  {
   "cell_type": "code",
   "execution_count": 47,
   "metadata": {},
   "outputs": [],
   "source": [
    "# We split the data into chunks and send each chunk seperately, accumulating the results.\n",
    "\n",
    "def predict(data, rows=512):\n",
    "    split_array = np.array_split(data, int(data.shape[0] / float(rows) + 1))\n",
    "    predictions = np.array([])\n",
    "    for array in split_array:\n",
    "        predictions = np.append(predictions, predictor.predict(array))\n",
    "    \n",
    "    return predictions"
   ]
  },
  {
   "cell_type": "code",
   "execution_count": 48,
   "metadata": {},
   "outputs": [],
   "source": [
    "predictions = predict(test_X.values)\n",
    "predictions = [round(num) for num in predictions]"
   ]
  },
  {
   "cell_type": "code",
   "execution_count": 49,
   "metadata": {},
   "outputs": [
    {
     "data": {
      "text/plain": [
       "0.83056"
      ]
     },
     "execution_count": 49,
     "metadata": {},
     "output_type": "execute_result"
    }
   ],
   "source": [
    "from sklearn.metrics import accuracy_score\n",
    "accuracy_score(test_y, predictions)"
   ]
  },
  {
   "cell_type": "markdown",
   "metadata": {},
   "source": [
    "**Question:** How does this model compare to the XGBoost model you created earlier? Why might these two models perform differently on this dataset? Which do *you* think is better for sentiment analysis?"
   ]
  },
  {
   "cell_type": "markdown",
   "metadata": {},
   "source": [
    "**Answer:**\n",
    "The model performas better than the XGBoost model. XGBoost been based on a decission tree model is more prone to overfitting especially if the training dataset is not truncated as done in the convert_and_pad_data() method. This can make it less accurate on the test data; though that can be minimised by proper tuning and validation. the NN will be best for sentiment analysis."
   ]
  },
  {
   "cell_type": "markdown",
   "metadata": {},
   "source": [
    "### (TODO) More testing\n",
    "\n",
    "We now have a trained model which has been deployed and which we can send processed reviews to and which returns the predicted sentiment. However, ultimately we would like to be able to send our model an unprocessed review. That is, we would like to send the review itself as a string. For example, suppose we wish to send the following review to our model."
   ]
  },
  {
   "cell_type": "code",
   "execution_count": 158,
   "metadata": {},
   "outputs": [],
   "source": [
    "#test_review = 'The simplest pleasures in life are the best, and this film is one of them. Combining a rather basic storyline of love and adventure this movie transcends the usual weekend fair with wit and unmitigated charm.'\n",
    "test_review ='Terrible Movie with nothing to show for it. I will give it a very poor rating.' "
   ]
  },
  {
   "cell_type": "markdown",
   "metadata": {},
   "source": [
    "The question we now need to answer is, how do we send this review to our model?\n",
    "\n",
    "Recall in the first section of this notebook we did a bunch of data processing to the IMDb dataset. In particular, we did two specific things to the provided reviews.\n",
    " - Removed any html tags and stemmed the input\n",
    " - Encoded the review as a sequence of integers using `word_dict`\n",
    " \n",
    "In order process the review we will need to repeat these two steps.\n",
    "\n",
    "**TODO**: Using the `review_to_words` and `convert_and_pad` methods from section one, convert `test_review` into a numpy array `test_data` suitable to send to our model. Remember that our model expects input of the form `review_length, review[500]`."
   ]
  },
  {
   "cell_type": "code",
   "execution_count": 87,
   "metadata": {},
   "outputs": [],
   "source": [
    "# TODO: Convert test_review into a form usable by the model and save the results in test_data\n",
    "test_data = review_to_words(test_review)\n",
    "test_data = [np.array(convert_and_pad(word_dict, test_data)[0])]"
   ]
  },
  {
   "cell_type": "markdown",
   "metadata": {},
   "source": [
    "Now that we have processed the review, we can send the resulting array to our model to predict the sentiment of the review."
   ]
  },
  {
   "cell_type": "code",
   "execution_count": 88,
   "metadata": {},
   "outputs": [
    {
     "data": {
      "text/plain": [
       "array(0.56459963, dtype=float32)"
      ]
     },
     "execution_count": 88,
     "metadata": {},
     "output_type": "execute_result"
    }
   ],
   "source": [
    "predictor.predict(test_data)"
   ]
  },
  {
   "cell_type": "markdown",
   "metadata": {},
   "source": [
    "Since the return value of our model is close to `1`, we can be certain that the review we submitted is positive."
   ]
  },
  {
   "cell_type": "markdown",
   "metadata": {},
   "source": [
    "### Delete the endpoint\n",
    "\n",
    "Of course, just like in the XGBoost notebook, once we've deployed an endpoint it continues to run until we tell it to shut down. Since we are done using our endpoint for now, we can delete it."
   ]
  },
  {
   "cell_type": "code",
   "execution_count": 89,
   "metadata": {},
   "outputs": [],
   "source": [
    "estimator.delete_endpoint()"
   ]
  },
  {
   "cell_type": "markdown",
   "metadata": {},
   "source": [
    "## Step 6 (again) - Deploy the model for the web app\n",
    "\n",
    "Now that we know that our model is working, it's time to create some custom inference code so that we can send the model a review which has not been processed and have it determine the sentiment of the review.\n",
    "\n",
    "As we saw above, by default the estimator which we created, when deployed, will use the entry script and directory which we provided when creating the model. However, since we now wish to accept a string as input and our model expects a processed review, we need to write some custom inference code.\n",
    "\n",
    "We will store the code that we write in the `serve` directory. Provided in this directory is the `model.py` file that we used to construct our model, a `utils.py` file which contains the `review_to_words` and `convert_and_pad` pre-processing functions which we used during the initial data processing, and `predict.py`, the file which will contain our custom inference code. Note also that `requirements.txt` is present which will tell SageMaker what Python libraries are required by our custom inference code.\n",
    "\n",
    "When deploying a PyTorch model in SageMaker, you are expected to provide four functions which the SageMaker inference container will use.\n",
    " - `model_fn`: This function is the same function that we used in the training script and it tells SageMaker how to load our model.\n",
    " - `input_fn`: This function receives the raw serialized input that has been sent to the model's endpoint and its job is to de-serialize and make the input available for the inference code.\n",
    " - `output_fn`: This function takes the output of the inference code and its job is to serialize this output and return it to the caller of the model's endpoint.\n",
    " - `predict_fn`: The heart of the inference script, this is where the actual prediction is done and is the function which you will need to complete.\n",
    "\n",
    "For the simple website that we are constructing during this project, the `input_fn` and `output_fn` methods are relatively straightforward. We only require being able to accept a string as input and we expect to return a single value as output. You might imagine though that in a more complex application the input or output may be image data or some other binary data which would require some effort to serialize.\n",
    "\n",
    "### (TODO) Writing inference code\n",
    "\n",
    "Before writing our custom inference code, we will begin by taking a look at the code which has been provided."
   ]
  },
  {
   "cell_type": "code",
   "execution_count": 90,
   "metadata": {},
   "outputs": [
    {
     "name": "stdout",
     "output_type": "stream",
     "text": [
      "\u001b[34mimport\u001b[39;49;00m \u001b[04m\u001b[36margparse\u001b[39;49;00m\r\n",
      "\u001b[34mimport\u001b[39;49;00m \u001b[04m\u001b[36mjson\u001b[39;49;00m\r\n",
      "\u001b[34mimport\u001b[39;49;00m \u001b[04m\u001b[36mos\u001b[39;49;00m\r\n",
      "\u001b[34mimport\u001b[39;49;00m \u001b[04m\u001b[36mpickle\u001b[39;49;00m\r\n",
      "\u001b[34mimport\u001b[39;49;00m \u001b[04m\u001b[36msys\u001b[39;49;00m\r\n",
      "\u001b[34mimport\u001b[39;49;00m \u001b[04m\u001b[36msagemaker_containers\u001b[39;49;00m\r\n",
      "\u001b[34mimport\u001b[39;49;00m \u001b[04m\u001b[36mpandas\u001b[39;49;00m \u001b[34mas\u001b[39;49;00m \u001b[04m\u001b[36mpd\u001b[39;49;00m\r\n",
      "\u001b[34mimport\u001b[39;49;00m \u001b[04m\u001b[36mnumpy\u001b[39;49;00m \u001b[34mas\u001b[39;49;00m \u001b[04m\u001b[36mnp\u001b[39;49;00m\r\n",
      "\u001b[34mimport\u001b[39;49;00m \u001b[04m\u001b[36mtorch\u001b[39;49;00m\r\n",
      "\u001b[34mimport\u001b[39;49;00m \u001b[04m\u001b[36mtorch.nn\u001b[39;49;00m \u001b[34mas\u001b[39;49;00m \u001b[04m\u001b[36mnn\u001b[39;49;00m\r\n",
      "\u001b[34mimport\u001b[39;49;00m \u001b[04m\u001b[36mtorch.optim\u001b[39;49;00m \u001b[34mas\u001b[39;49;00m \u001b[04m\u001b[36moptim\u001b[39;49;00m\r\n",
      "\u001b[34mimport\u001b[39;49;00m \u001b[04m\u001b[36mtorch.utils.data\u001b[39;49;00m\r\n",
      "\r\n",
      "\u001b[34mfrom\u001b[39;49;00m \u001b[04m\u001b[36mmodel\u001b[39;49;00m \u001b[34mimport\u001b[39;49;00m LSTMClassifier\r\n",
      "\r\n",
      "\u001b[34mfrom\u001b[39;49;00m \u001b[04m\u001b[36mutils\u001b[39;49;00m \u001b[34mimport\u001b[39;49;00m review_to_words, convert_and_pad\r\n",
      "\r\n",
      "\u001b[34mdef\u001b[39;49;00m \u001b[32mmodel_fn\u001b[39;49;00m(model_dir):\r\n",
      "    \u001b[33m\"\"\"Load the PyTorch model from the `model_dir` directory.\"\"\"\u001b[39;49;00m\r\n",
      "    \u001b[34mprint\u001b[39;49;00m(\u001b[33m\"\u001b[39;49;00m\u001b[33mLoading model.\u001b[39;49;00m\u001b[33m\"\u001b[39;49;00m)\r\n",
      "\r\n",
      "    \u001b[37m# First, load the parameters used to create the model.\u001b[39;49;00m\r\n",
      "    model_info = {}\r\n",
      "    model_info_path = os.path.join(model_dir, \u001b[33m'\u001b[39;49;00m\u001b[33mmodel_info.pth\u001b[39;49;00m\u001b[33m'\u001b[39;49;00m)\r\n",
      "    \u001b[34mwith\u001b[39;49;00m \u001b[36mopen\u001b[39;49;00m(model_info_path, \u001b[33m'\u001b[39;49;00m\u001b[33mrb\u001b[39;49;00m\u001b[33m'\u001b[39;49;00m) \u001b[34mas\u001b[39;49;00m f:\r\n",
      "        model_info = torch.load(f)\r\n",
      "\r\n",
      "    \u001b[34mprint\u001b[39;49;00m(\u001b[33m\"\u001b[39;49;00m\u001b[33mmodel_info: {}\u001b[39;49;00m\u001b[33m\"\u001b[39;49;00m.format(model_info))\r\n",
      "\r\n",
      "    \u001b[37m# Determine the device and construct the model.\u001b[39;49;00m\r\n",
      "    device = torch.device(\u001b[33m\"\u001b[39;49;00m\u001b[33mcuda\u001b[39;49;00m\u001b[33m\"\u001b[39;49;00m \u001b[34mif\u001b[39;49;00m torch.cuda.is_available() \u001b[34melse\u001b[39;49;00m \u001b[33m\"\u001b[39;49;00m\u001b[33mcpu\u001b[39;49;00m\u001b[33m\"\u001b[39;49;00m)\r\n",
      "    model = LSTMClassifier(model_info[\u001b[33m'\u001b[39;49;00m\u001b[33membedding_dim\u001b[39;49;00m\u001b[33m'\u001b[39;49;00m], model_info[\u001b[33m'\u001b[39;49;00m\u001b[33mhidden_dim\u001b[39;49;00m\u001b[33m'\u001b[39;49;00m], model_info[\u001b[33m'\u001b[39;49;00m\u001b[33mvocab_size\u001b[39;49;00m\u001b[33m'\u001b[39;49;00m])\r\n",
      "\r\n",
      "    \u001b[37m# Load the store model parameters.\u001b[39;49;00m\r\n",
      "    model_path = os.path.join(model_dir, \u001b[33m'\u001b[39;49;00m\u001b[33mmodel.pth\u001b[39;49;00m\u001b[33m'\u001b[39;49;00m)\r\n",
      "    \u001b[34mwith\u001b[39;49;00m \u001b[36mopen\u001b[39;49;00m(model_path, \u001b[33m'\u001b[39;49;00m\u001b[33mrb\u001b[39;49;00m\u001b[33m'\u001b[39;49;00m) \u001b[34mas\u001b[39;49;00m f:\r\n",
      "        model.load_state_dict(torch.load(f))\r\n",
      "\r\n",
      "    \u001b[37m# Load the saved word_dict.\u001b[39;49;00m\r\n",
      "    word_dict_path = os.path.join(model_dir, \u001b[33m'\u001b[39;49;00m\u001b[33mword_dict.pkl\u001b[39;49;00m\u001b[33m'\u001b[39;49;00m)\r\n",
      "    \u001b[34mwith\u001b[39;49;00m \u001b[36mopen\u001b[39;49;00m(word_dict_path, \u001b[33m'\u001b[39;49;00m\u001b[33mrb\u001b[39;49;00m\u001b[33m'\u001b[39;49;00m) \u001b[34mas\u001b[39;49;00m f:\r\n",
      "        model.word_dict = pickle.load(f)\r\n",
      "\r\n",
      "    model.to(device).eval()\r\n",
      "\r\n",
      "    \u001b[34mprint\u001b[39;49;00m(\u001b[33m\"\u001b[39;49;00m\u001b[33mDone loading model.\u001b[39;49;00m\u001b[33m\"\u001b[39;49;00m)\r\n",
      "    \u001b[34mreturn\u001b[39;49;00m model\r\n",
      "\r\n",
      "\u001b[34mdef\u001b[39;49;00m \u001b[32minput_fn\u001b[39;49;00m(serialized_input_data, content_type):\r\n",
      "    \u001b[34mprint\u001b[39;49;00m(\u001b[33m'\u001b[39;49;00m\u001b[33mDeserializing the input data.\u001b[39;49;00m\u001b[33m'\u001b[39;49;00m)\r\n",
      "    \u001b[34mif\u001b[39;49;00m content_type == \u001b[33m'\u001b[39;49;00m\u001b[33mtext/plain\u001b[39;49;00m\u001b[33m'\u001b[39;49;00m:\r\n",
      "        data = serialized_input_data.decode(\u001b[33m'\u001b[39;49;00m\u001b[33mutf-8\u001b[39;49;00m\u001b[33m'\u001b[39;49;00m)\r\n",
      "        \u001b[34mreturn\u001b[39;49;00m data\r\n",
      "    \u001b[34mraise\u001b[39;49;00m \u001b[36mException\u001b[39;49;00m(\u001b[33m'\u001b[39;49;00m\u001b[33mRequested unsupported ContentType in content_type: \u001b[39;49;00m\u001b[33m'\u001b[39;49;00m + content_type)\r\n",
      "\r\n",
      "\u001b[34mdef\u001b[39;49;00m \u001b[32moutput_fn\u001b[39;49;00m(prediction_output, accept):\r\n",
      "    \u001b[34mprint\u001b[39;49;00m(\u001b[33m'\u001b[39;49;00m\u001b[33mSerializing the generated output.\u001b[39;49;00m\u001b[33m'\u001b[39;49;00m)\r\n",
      "    \u001b[34mreturn\u001b[39;49;00m \u001b[36mstr\u001b[39;49;00m(prediction_output)\r\n",
      "\r\n",
      "\u001b[34mdef\u001b[39;49;00m \u001b[32mpredict_fn\u001b[39;49;00m(input_data, model):\r\n",
      "    \u001b[34mprint\u001b[39;49;00m(\u001b[33m'\u001b[39;49;00m\u001b[33mInferring sentiment of input data.\u001b[39;49;00m\u001b[33m'\u001b[39;49;00m)\r\n",
      "\r\n",
      "    device = torch.device(\u001b[33m\"\u001b[39;49;00m\u001b[33mcuda\u001b[39;49;00m\u001b[33m\"\u001b[39;49;00m \u001b[34mif\u001b[39;49;00m torch.cuda.is_available() \u001b[34melse\u001b[39;49;00m \u001b[33m\"\u001b[39;49;00m\u001b[33mcpu\u001b[39;49;00m\u001b[33m\"\u001b[39;49;00m)\r\n",
      "    \r\n",
      "    \u001b[34mif\u001b[39;49;00m model.word_dict \u001b[35mis\u001b[39;49;00m \u001b[36mNone\u001b[39;49;00m:\r\n",
      "        \u001b[34mraise\u001b[39;49;00m \u001b[36mException\u001b[39;49;00m(\u001b[33m'\u001b[39;49;00m\u001b[33mModel has not been loaded properly, no word_dict.\u001b[39;49;00m\u001b[33m'\u001b[39;49;00m)\r\n",
      "    \r\n",
      "    m_words = review_to_words(input_data)\r\n",
      "    \r\n",
      "    data_X = \u001b[36mNone\u001b[39;49;00m\r\n",
      "    data_len = \u001b[36mNone\u001b[39;49;00m\r\n",
      "    data_X, data_len = convert_and_pad(model.word_dict, m_words)\r\n",
      "    \r\n",
      "    \u001b[37m# Using data_X and data_len we construct an appropriate input tensor. Remember\u001b[39;49;00m\r\n",
      "    \u001b[37m# that our model expects input data of the form 'len, review[500]'.\u001b[39;49;00m\r\n",
      "    data_pack = np.hstack((data_len, data_X))\r\n",
      "    data_pack = data_pack.reshape(\u001b[34m1\u001b[39;49;00m, -\u001b[34m1\u001b[39;49;00m)\r\n",
      "    \r\n",
      "    data = torch.from_numpy(data_pack)\r\n",
      "    data = data.to(device)\r\n",
      "\r\n",
      "    \u001b[37m# Make sure to put the model into evaluation mode\u001b[39;49;00m\r\n",
      "    model.eval()\r\n",
      "\r\n",
      "    \u001b[37m# TODO: Compute the result of applying the model to the input data. The variable `result` should\u001b[39;49;00m\r\n",
      "    \u001b[37m#       be a numpy array which contains a single integer which is either 1 or 0\u001b[39;49;00m\r\n",
      "    \r\n",
      "    \u001b[34mwith\u001b[39;49;00m torch.no_grad():\r\n",
      "        result = model(data) \r\n",
      "    result = np.round(result.numpy())\r\n",
      "\r\n",
      "    \u001b[34mreturn\u001b[39;49;00m result\r\n"
     ]
    }
   ],
   "source": [
    "!pygmentize serve/predict.py"
   ]
  },
  {
   "cell_type": "markdown",
   "metadata": {},
   "source": [
    "As mentioned earlier, the `model_fn` method is the same as the one provided in the training code and the `input_fn` and `output_fn` methods are very simple and your task will be to complete the `predict_fn` method. Make sure that you save the completed file as `predict.py` in the `serve` directory.\n",
    "\n",
    "**TODO**: Complete the `predict_fn()` method in the `serve/predict.py` file."
   ]
  },
  {
   "cell_type": "markdown",
   "metadata": {},
   "source": [
    "### Deploying the model\n",
    "\n",
    "Now that the custom inference code has been written, we will create and deploy our model. To begin with, we need to construct a new PyTorchModel object which points to the model artifacts created during training and also points to the inference code that we wish to use. Then we can call the deploy method to launch the deployment container.\n",
    "\n",
    "**NOTE**: The default behaviour for a deployed PyTorch model is to assume that any input passed to the predictor is a `numpy` array. In our case we want to send a string so we need to construct a simple wrapper around the `RealTimePredictor` class to accomodate simple strings. In a more complicated situation you may want to provide a serialization object, for example if you wanted to sent image data."
   ]
  },
  {
   "cell_type": "code",
   "execution_count": 150,
   "metadata": {},
   "outputs": [
    {
     "name": "stdout",
     "output_type": "stream",
     "text": [
      "---------------------------------------------------------------------------------------!"
     ]
    }
   ],
   "source": [
    "from sagemaker.predictor import RealTimePredictor\n",
    "from sagemaker.pytorch import PyTorchModel\n",
    "\n",
    "class StringPredictor(RealTimePredictor):\n",
    "    def __init__(self, endpoint_name, sagemaker_session):\n",
    "        super(StringPredictor, self).__init__(endpoint_name, sagemaker_session, content_type='text/plain')\n",
    "\n",
    "model = PyTorchModel(model_data=estimator.model_data,\n",
    "                     role = role,\n",
    "                     framework_version='0.4.0',\n",
    "                     entry_point='predict.py',\n",
    "                     source_dir='serve',\n",
    "                     predictor_cls=StringPredictor)\n",
    "predictor = model.deploy(initial_instance_count=1, instance_type='ml.p2.xlarge')"
   ]
  },
  {
   "cell_type": "markdown",
   "metadata": {},
   "source": [
    "### Testing the model\n",
    "\n",
    "Now that we have deployed our model with the custom inference code, we should test to see if everything is working. Here we test our model by loading the first `250` positive and negative reviews and send them to the endpoint, then collect the results. The reason for only sending some of the data is that the amount of time it takes for our model to process the input and then perform inference is quite long and so testing the entire data set would be prohibitive."
   ]
  },
  {
   "cell_type": "code",
   "execution_count": 151,
   "metadata": {},
   "outputs": [],
   "source": [
    "import glob\n",
    "\n",
    "def test_reviews(data_dir='../data/aclImdb', stop=25):\n",
    "    \n",
    "    results = []\n",
    "    ground = []\n",
    "    \n",
    "    # We make sure to test both positive and negative reviews    \n",
    "    for sentiment in ['pos', 'neg']:\n",
    "        \n",
    "        path = os.path.join(data_dir, 'test', sentiment, '*.txt')\n",
    "        files = glob.glob(path)\n",
    "        \n",
    "        files_read = 0\n",
    "        \n",
    "        print('Starting ', sentiment, ' files')\n",
    "        \n",
    "        # Iterate through the files and send them to the predictor\n",
    "        for f in files:\n",
    "            with open(f) as review:\n",
    "                # First, we store the ground truth (was the review positive or negative)\n",
    "                if sentiment == 'pos':\n",
    "                    ground.append(1)\n",
    "                else:\n",
    "                    ground.append(0)\n",
    "                # Read in the review and convert to 'utf-8' for transmission via HTTP\n",
    "                review_input = review.read().encode('utf-8')\n",
    "                # Send the review to the predictor and store the results\n",
    "                #results.append(int(predictor.predict(review_input)))\n",
    "                result = predictor.predict(review_input)\n",
    "                if (result == b'1.0'):\n",
    "                    result = 1.0\n",
    "                else:\n",
    "                    result = 0.0\n",
    "                results.append(result)\n",
    "            # Sending reviews to our endpoint one at a time takes a while so we\n",
    "            # only send a small number of reviews\n",
    "            files_read += 1\n",
    "            if files_read == stop:\n",
    "                break\n",
    "            \n",
    "    return ground, results"
   ]
  },
  {
   "cell_type": "code",
   "execution_count": 152,
   "metadata": {},
   "outputs": [
    {
     "name": "stdout",
     "output_type": "stream",
     "text": [
      "Starting  pos  files\n",
      "Starting  neg  files\n",
      "[1.0, 1.0, 1.0, 1.0, 1.0, 1.0, 1.0, 1.0, 1.0, 1.0, 1.0, 1.0, 1.0, 1.0, 1.0, 1.0, 1.0, 1.0, 1.0, 1.0, 1.0, 1.0, 1.0, 1.0, 1.0, 0.0, 0.0, 0.0, 0.0, 0.0, 0.0, 0.0, 0.0, 1.0, 0.0, 1.0, 0.0, 0.0, 0.0, 0.0, 1.0, 0.0, 0.0, 0.0, 0.0, 0.0, 0.0, 1.0, 0.0, 1.0]\n"
     ]
    }
   ],
   "source": [
    "ground, results = test_reviews()\n",
    "print(results) # To delete this code"
   ]
  },
  {
   "cell_type": "code",
   "execution_count": 153,
   "metadata": {},
   "outputs": [
    {
     "data": {
      "text/plain": [
       "0.9"
      ]
     },
     "execution_count": 153,
     "metadata": {},
     "output_type": "execute_result"
    }
   ],
   "source": [
    "from sklearn.metrics import accuracy_score\n",
    "accuracy_score(ground, results)"
   ]
  },
  {
   "cell_type": "markdown",
   "metadata": {},
   "source": [
    "As an additional test, we can try sending the `test_review` that we looked at earlier."
   ]
  },
  {
   "cell_type": "code",
   "execution_count": 159,
   "metadata": {},
   "outputs": [
    {
     "name": "stdout",
     "output_type": "stream",
     "text": [
      "0.0\n"
     ]
    }
   ],
   "source": [
    "result=predictor.predict(test_review)\n",
    "if (result == b'1.0'):\n",
    "    result = 1.0\n",
    "else:\n",
    "    result = 0.0\n",
    "print(result)"
   ]
  },
  {
   "cell_type": "markdown",
   "metadata": {},
   "source": [
    "Now that we know our endpoint is working as expected, we can set up the web page that will interact with it. If you don't have time to finish the project now, make sure to skip down to the end of this notebook and shut down your endpoint. You can deploy it again when you come back."
   ]
  },
  {
   "cell_type": "markdown",
   "metadata": {},
   "source": [
    "## Step 7 (again): Use the model for the web app\n",
    "\n",
    "> **TODO:** This entire section and the next contain tasks for you to complete, mostly using the AWS console.\n",
    "\n",
    "So far we have been accessing our model endpoint by constructing a predictor object which uses the endpoint and then just using the predictor object to perform inference. What if we wanted to create a web app which accessed our model? The way things are set up currently makes that not possible since in order to access a SageMaker endpoint the app would first have to authenticate with AWS using an IAM role which included access to SageMaker endpoints. However, there is an easier way! We just need to use some additional AWS services.\n",
    "\n",
    "<img src=\"Web App Diagram.svg\">\n",
    "\n",
    "The diagram above gives an overview of how the various services will work together. On the far right is the model which we trained above and which is deployed using SageMaker. On the far left is our web app that collects a user's movie review, sends it off and expects a positive or negative sentiment in return.\n",
    "\n",
    "In the middle is where some of the magic happens. We will construct a Lambda function, which you can think of as a straightforward Python function that can be executed whenever a specified event occurs. We will give this function permission to send and recieve data from a SageMaker endpoint.\n",
    "\n",
    "Lastly, the method we will use to execute the Lambda function is a new endpoint that we will create using API Gateway. This endpoint will be a url that listens for data to be sent to it. Once it gets some data it will pass that data on to the Lambda function and then return whatever the Lambda function returns. Essentially it will act as an interface that lets our web app communicate with the Lambda function.\n",
    "\n",
    "### Setting up a Lambda function\n",
    "\n",
    "The first thing we are going to do is set up a Lambda function. This Lambda function will be executed whenever our public API has data sent to it. When it is executed it will receive the data, perform any sort of processing that is required, send the data (the review) to the SageMaker endpoint we've created and then return the result.\n",
    "\n",
    "#### Part A: Create an IAM Role for the Lambda function\n",
    "\n",
    "Since we want the Lambda function to call a SageMaker endpoint, we need to make sure that it has permission to do so. To do this, we will construct a role that we can later give the Lambda function.\n",
    "\n",
    "Using the AWS Console, navigate to the **IAM** page and click on **Roles**. Then, click on **Create role**. Make sure that the **AWS service** is the type of trusted entity selected and choose **Lambda** as the service that will use this role, then click **Next: Permissions**.\n",
    "\n",
    "In the search box type `sagemaker` and select the check box next to the **AmazonSageMakerFullAccess** policy. Then, click on **Next: Review**.\n",
    "\n",
    "Lastly, give this role a name. Make sure you use a name that you will remember later on, for example `LambdaSageMakerRole`. Then, click on **Create role**.\n",
    "\n",
    "#### Part B: Create a Lambda function\n",
    "\n",
    "Now it is time to actually create the Lambda function.\n",
    "\n",
    "Using the AWS Console, navigate to the AWS Lambda page and click on **Create a function**. When you get to the next page, make sure that **Author from scratch** is selected. Now, name your Lambda function, using a name that you will remember later on, for example `sentiment_analysis_func`. Make sure that the **Python 3.6** runtime is selected and then choose the role that you created in the previous part. Then, click on **Create Function**.\n",
    "\n",
    "On the next page you will see some information about the Lambda function you've just created. If you scroll down you should see an editor in which you can write the code that will be executed when your Lambda function is triggered. In our example, we will use the code below. \n",
    "\n",
    "```python\n",
    "# We need to use the low-level library to interact with SageMaker since the SageMaker API\n",
    "# is not available natively through Lambda.\n",
    "import boto3\n",
    "\n",
    "def lambda_handler(event, context):\n",
    "\n",
    "    # The SageMaker runtime is what allows us to invoke the endpoint that we've created.\n",
    "    runtime = boto3.Session().client('sagemaker-runtime')\n",
    "\n",
    "    # Now we use the SageMaker runtime to invoke our endpoint, sending the review we were given\n",
    "    response = runtime.invoke_endpoint(EndpointName = '**ENDPOINT NAME HERE**',    # The name of the endpoint we created\n",
    "                                       ContentType = 'text/plain',                 # The data format that is expected\n",
    "                                       Body = event['body'])                       # The actual review\n",
    "\n",
    "    # The response is an HTTP response whose body contains the result of our inference\n",
    "    result = response['Body'].read().decode('utf-8')\n",
    "\n",
    "    return {\n",
    "        'statusCode' : 200,\n",
    "        'headers' : { 'Content-Type' : 'text/plain', 'Access-Control-Allow-Origin' : '*' },\n",
    "        'body' : result\n",
    "    }\n",
    "```\n",
    "\n",
    "Once you have copy and pasted the code above into the Lambda code editor, replace the `**ENDPOINT NAME HERE**` portion with the name of the endpoint that we deployed earlier. You can determine the name of the endpoint using the code cell below."
   ]
  },
  {
   "cell_type": "code",
   "execution_count": 160,
   "metadata": {},
   "outputs": [
    {
     "data": {
      "text/plain": [
       "'sagemaker-pytorch-2019-06-06-01-35-20-960'"
      ]
     },
     "execution_count": 160,
     "metadata": {},
     "output_type": "execute_result"
    }
   ],
   "source": [
    "predictor.endpoint"
   ]
  },
  {
   "cell_type": "markdown",
   "metadata": {},
   "source": [
    "Once you have added the endpoint name to the Lambda function, click on **Save**. Your Lambda function is now up and running. Next we need to create a way for our web app to execute the Lambda function.\n",
    "\n",
    "### Setting up API Gateway\n",
    "\n",
    "Now that our Lambda function is set up, it is time to create a new API using API Gateway that will trigger the Lambda function we have just created.\n",
    "\n",
    "Using AWS Console, navigate to **Amazon API Gateway** and then click on **Get started**.\n",
    "\n",
    "On the next page, make sure that **New API** is selected and give the new api a name, for example, `sentiment_analysis_api`. Then, click on **Create API**.\n",
    "\n",
    "Now we have created an API, however it doesn't currently do anything. What we want it to do is to trigger the Lambda function that we created earlier.\n",
    "\n",
    "Select the **Actions** dropdown menu and click **Create Method**. A new blank method will be created, select its dropdown menu and select **POST**, then click on the check mark beside it.\n",
    "\n",
    "For the integration point, make sure that **Lambda Function** is selected and click on the **Use Lambda Proxy integration**. This option makes sure that the data that is sent to the API is then sent directly to the Lambda function with no processing. It also means that the return value must be a proper response object as it will also not be processed by API Gateway.\n",
    "\n",
    "Type the name of the Lambda function you created earlier into the **Lambda Function** text entry box and then click on **Save**. Click on **OK** in the pop-up box that then appears, giving permission to API Gateway to invoke the Lambda function you created.\n",
    "\n",
    "The last step in creating the API Gateway is to select the **Actions** dropdown and click on **Deploy API**. You will need to create a new Deployment stage and name it anything you like, for example `prod`.\n",
    "\n",
    "You have now successfully set up a public API to access your SageMaker model. Make sure to copy or write down the URL provided to invoke your newly created public API as this will be needed in the next step. This URL can be found at the top of the page, highlighted in blue next to the text **Invoke URL**."
   ]
  },
  {
   "cell_type": "markdown",
   "metadata": {},
   "source": [
    "## Step 4: Deploying our web app\n",
    "\n",
    "Now that we have a publicly available API, we can start using it in a web app. For our purposes, we have provided a simple static html file which can make use of the public api you created earlier.\n",
    "\n",
    "In the `website` folder there should be a file called `index.html`. Download the file to your computer and open that file up in a text editor of your choice. There should be a line which contains **\\*\\*REPLACE WITH PUBLIC API URL\\*\\***. Replace this string with the url that you wrote down in the last step and then save the file.\n",
    "\n",
    "Now, if you open `index.html` on your local computer, your browser will behave as a local web server and you can use the provided site to interact with your SageMaker model.\n",
    "\n",
    "If you'd like to go further, you can host this html file anywhere you'd like, for example using github or hosting a static site on Amazon's S3. Once you have done this you can share the link with anyone you'd like and have them play with it too!\n",
    "\n",
    "> **Important Note** In order for the web app to communicate with the SageMaker endpoint, the endpoint has to actually be deployed and running. This means that you are paying for it. Make sure that the endpoint is running when you want to use the web app but that you shut it down when you don't need it, otherwise you will end up with a surprisingly large AWS bill.\n",
    "\n",
    "**TODO:** Make sure that you include the edited `index.html` file in your project submission."
   ]
  },
  {
   "cell_type": "markdown",
   "metadata": {},
   "source": [
    "Now that your web app is working, trying playing around with it and see how well it works.\n",
    "\n",
    "**Question**: Give an example of a review that you entered into your web app. What was the predicted sentiment of your example review?"
   ]
  },
  {
   "attachments": {
    "bad.PNG": {
     "image/png": "[encoded data removed]"
    },
    "good.JPG": {
     "image/jpeg": "[encoded data removed]"
    }
   },
   "cell_type": "markdown",
   "metadata": {},
   "source": [
    "**Answer:**\n",
    "![bad.PNG](attachment:bad.PNG)\n",
    "![good.JPG](attachment:good.JPG)"
   ]
  },
  {
   "cell_type": "markdown",
   "metadata": {},
   "source": [
    "### Delete the endpoint\n",
    "\n",
    "Remember to always shut down your endpoint if you are no longer using it. You are charged for the length of time that the endpoint is running so if you forget and leave it on you could end up with an unexpectedly large bill."
   ]
  },
  {
   "cell_type": "code",
   "execution_count": 161,
   "metadata": {},
   "outputs": [],
   "source": [
    "predictor.delete_endpoint()"
   ]
  },
  {
   "cell_type": "code",
   "execution_count": null,
   "metadata": {},
   "outputs": [],
   "source": []
  }
 ],
 "metadata": {
  "kernelspec": {
   "display_name": "conda_pytorch_p36",
   "language": "python",
   "name": "conda_pytorch_p36"
  },
  "language_info": {
   "codemirror_mode": {
    "name": "ipython",
    "version": 3
   },
   "file_extension": ".py",
   "mimetype": "text/x-python",
   "name": "python",
   "nbconvert_exporter": "python",
   "pygments_lexer": "ipython3",
   "version": "3.6.5"
  }
 },
 "nbformat": 4,
 "nbformat_minor": 2
}
